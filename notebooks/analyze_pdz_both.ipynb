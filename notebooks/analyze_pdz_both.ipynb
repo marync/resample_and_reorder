{
 "cells": [
  {
   "cell_type": "code",
   "execution_count": 1,
   "id": "ccd60a9d",
   "metadata": {},
   "outputs": [],
   "source": [
    "import os\n",
    "import sys\n",
    "import numpy as np\n",
    "import pickle\n",
    "import seaborn\n",
    "import pandas\n",
    "import copy as cp\n",
    "import scipy.stats\n",
    "import math"
   ]
  },
  {
   "cell_type": "code",
   "execution_count": 2,
   "id": "53d80e18",
   "metadata": {},
   "outputs": [],
   "source": [
    "import matplotlib as mpl\n",
    "import matplotlib.pyplot as plt\n",
    "from matplotlib.patches import Rectangle"
   ]
  },
  {
   "cell_type": "code",
   "execution_count": 3,
   "id": "fff2554e",
   "metadata": {},
   "outputs": [],
   "source": [
    "sys.path.insert(1, '../code/')\n",
    "\n",
    "from rank_functions import compute_mean_ranks, compute_transformed_Rmat, transform_ranks\n",
    "from plot_functions import compute_meta_p, compute_enrichment, plot_enrichment, compute_avg_sign_matrix\n",
    "from plot_functions import make_fpr_figure_individual\n",
    "from format_helper_functions import make_aa_dict"
   ]
  },
  {
   "cell_type": "code",
   "execution_count": 4,
   "id": "5fa025d2",
   "metadata": {},
   "outputs": [],
   "source": [
    "# plotting settings\n",
    "plt.rcParams.update({'font.size': 8})\n",
    "plt.rcParams[\"font.family\"] = 'Arial'\n",
    "rc = {\"font.family\" : \"serif\", \n",
    "      \"mathtext.fontset\" : \"dejavusans\"}\n",
    "plt.rcParams.update(rc)\n",
    "plt.rcParams[\"font.serif\"] = [\"Arial\"] + plt.rcParams[\"font.serif\"]"
   ]
  },
  {
   "cell_type": "code",
   "execution_count": 5,
   "id": "9d153cce",
   "metadata": {},
   "outputs": [],
   "source": [
    "# whether to save the plots\n",
    "save = True\n",
    "\n",
    "# results for each block\n",
    "indir_1 = '../results/fuzzy/1255/'\n",
    "indir_2 = '../results/fuzzy/1257/'\n",
    "\n",
    "datadir_1 = indir_1\n",
    "datadir_2 = indir_2\n",
    "\n",
    "# protein names\n",
    "protein_1 = 'block_1'\n",
    "protein_2 = 'block_2'\n",
    "ligand_1  = 'cript_1'\n",
    "ligand_2  = 'cript_2'\n",
    "\n",
    "# make output director\n",
    "outdir  = os.path.join ('../results/fuzzy', 'plots')\n",
    "if not os.path.isdir (outdir) :\n",
    "    os.makedirs (outdir)"
   ]
  },
  {
   "cell_type": "code",
   "execution_count": 6,
   "id": "f303e3c5",
   "metadata": {},
   "outputs": [
    {
     "name": "stdout",
     "output_type": "stream",
     "text": [
      "['K-7', 'N-6', 'Y-5', 'K-4', 'Q-3', 'T-2', 'S-1', 'V0']\n"
     ]
    }
   ],
   "source": [
    "# some hard coded parameters\n",
    "nAA   = 21\n",
    "start = 303\n",
    "\n",
    "\n",
    "# wildtype sequences\n",
    "lig_wt      = 'KNYKQTSV'\n",
    "pdz_wt_full = 'GEEDIPREPRRIVIHRGSTGLGFNIVGGEDGEGIFISFILAGGPADLSGELRKGDQILSVNGVDLRNASHEQAAIALKNAGQTVTIIAQYKPEEYSRFEA'\n",
    "\n",
    "# wildtype in rep 1\n",
    "n0_wt_1 = np.array ([20012, 21754, 27243])\n",
    "n1_wt_1 = np.array ([68933, 71382, 52736])\n",
    "n0_wt_2 = np.array ([10743, 11617, 13052])\n",
    "n1_wt_2 = np.array ([61066, 122991, 40364])\n",
    "\n",
    "# labels for the ligand\n",
    "lig_labels = [lig_wt[i] + '-' + str (len (lig_wt)-1-i) for i in range (len (lig_wt))]\n",
    "lig_labels[-1] = 'V0'\n",
    "print (lig_labels)"
   ]
  },
  {
   "cell_type": "code",
   "execution_count": 7,
   "id": "fa93162a",
   "metadata": {},
   "outputs": [],
   "source": [
    "mypinks  = seaborn.color_palette ('rocket_r', 10)\n",
    "mycolors = seaborn.color_palette('magma', nAA)\n",
    "aacolors = seaborn.color_palette('Set2', 9)\n",
    "myspectral = seaborn.color_palette ('Spectral', 8)\n",
    "myblues = seaborn.color_palette ('Blues', 8)\n",
    "\n",
    "# amino acid dictionary\n",
    "aa_dict = make_aa_dict (stop='*')\n",
    "aas     = list (aa_dict.keys ())"
   ]
  },
  {
   "cell_type": "code",
   "execution_count": 8,
   "id": "90395209",
   "metadata": {},
   "outputs": [],
   "source": [
    "# raw data files\n",
    "ysing_1 = np.loadtxt (os.path.join (datadir_1, protein_1 + '_Y_singles.txt'))\n",
    "lsing_1 = np.loadtxt (os.path.join (datadir_1, ligand_1 + '_Y_singles.txt'))\n",
    "ydoub_1 = pickle.load ( open (os.path.join (datadir_1, protein_1 + '_Y_doubles.pkl'), 'rb') )\n",
    "\n",
    "n0_doub_1 = pickle.load (open (os.path.join (datadir_1, protein_1 + '_D_neutral.pkl'), 'rb') )\n",
    "n1_doub_1 = pickle.load (open (os.path.join (datadir_1, protein_1 + '_D_selection.pkl'), 'rb') )\n",
    "\n",
    "n0_sing_1  = np.loadtxt (os.path.join (datadir_1, protein_1 + '_S_neutral.txt'))\n",
    "n1_sing_1  = np.loadtxt (os.path.join (datadir_1, protein_1 + '_S_selection.txt'))\n",
    "n0_cript_1 = np.loadtxt (os.path.join (datadir_1, ligand_1 + '_S_neutral.txt'))\n",
    "n1_cript_1 = np.loadtxt (os.path.join (datadir_1, ligand_1 + '_S_selection.txt'))\n",
    "\n",
    "# distance matrix\n",
    "Dist = np.loadtxt ('../data/fuzzy/pdz_distance_matrix.txt')"
   ]
  },
  {
   "cell_type": "code",
   "execution_count": 9,
   "id": "20504b8d",
   "metadata": {},
   "outputs": [],
   "source": [
    "# raw data files\n",
    "ysing_2 = np.loadtxt (os.path.join (datadir_2, protein_2 + '_Y_singles.txt'))\n",
    "lsing_2 = np.loadtxt (os.path.join (datadir_2, ligand_2 + '_Y_singles.txt'))\n",
    "ydoub_2 = pickle.load ( open (os.path.join (datadir_2, protein_2 + '_Y_doubles.pkl'), 'rb') )\n",
    "\n",
    "n0_doub_2 = pickle.load (open (os.path.join (datadir_2, protein_2 + '_D_neutral.pkl'), 'rb') )\n",
    "n1_doub_2 = pickle.load (open (os.path.join (datadir_2, protein_2 + '_D_selection.pkl'), 'rb') )\n",
    "\n",
    "n0_sing_2  = np.loadtxt (os.path.join (datadir_2, protein_2 + '_S_neutral.txt'))\n",
    "n1_sing_2  = np.loadtxt (os.path.join (datadir_2, protein_2 + '_S_selection.txt'))\n",
    "n0_cript_2 = np.loadtxt (os.path.join (datadir_2, ligand_2 + '_S_neutral.txt'))\n",
    "n1_cript_2 = np.loadtxt (os.path.join (datadir_2, ligand_2 + '_S_selection.txt'))"
   ]
  },
  {
   "cell_type": "code",
   "execution_count": 10,
   "id": "e592f49c",
   "metadata": {},
   "outputs": [],
   "source": [
    "# dimensions\n",
    "Llig, L1, nreps = n0_doub_1.shape\n",
    "Llig, L2, nreps = n0_doub_2.shape\n",
    "\n",
    "npdz = int (L1 / nAA)\n",
    "npos = npdz\n",
    "ncript = int (Llig / nAA)\n",
    "L = L1"
   ]
  },
  {
   "cell_type": "code",
   "execution_count": 11,
   "id": "bf50da60",
   "metadata": {},
   "outputs": [
    {
     "name": "stdout",
     "output_type": "stream",
     "text": [
      "(671, 154)\n",
      "(721, 154)\n",
      "(733, 154)\n",
      "(836, 154)\n",
      "(839, 154)\n",
      "(840, 154)\n"
     ]
    }
   ],
   "source": [
    "# p-values\n",
    "Pvals = np.zeros ( (2, Llig, L, nreps))\n",
    "Pligs = np.zeros ( (2, Llig, L, nreps) )\n",
    "Psym  = np.zeros_like (Pvals)\n",
    "Dmats = np.zeros_like (Pvals)\n",
    "Lmats = np.zeros ( (2, L, Llig, nreps))\n",
    "Dsyms = np.zeros_like (Pvals)\n",
    "Rmats = np.zeros_like (Pvals)\n",
    "RLmats = np.zeros_like (Pvals)\n",
    "indirs   = [indir_1, indir_2]\n",
    "proteins = [protein_1, protein_2]\n",
    "for ct in range (len (indirs)) :\n",
    "    idir = indirs[ct]    \n",
    "    protein = proteins[ct]\n",
    "    for i in range (nreps) :\n",
    "        #Pvals[ct,:,:,i] = np.loadtxt (os.path.join (idir, 'rep_' + str (i), protein + '_P.txt'))\n",
    "        Pligs[ct,:,:,i] = np.transpose (np.loadtxt (os.path.join (idir, 'rep_' + str (i), protein + '_Pligand.txt')))\n",
    "        Psym[ct,:,:,i]  = np.loadtxt (os.path.join (idir, 'rep_' + str (i), protein + '_Psymmetric.txt'))\n",
    "        Dmats[ct,:,:,i] = np.loadtxt (os.path.join (idir, 'rep_' + str (i), protein + '_Dmat.txt'))\n",
    "        Lmats[ct,:,:,i] = np.loadtxt (os.path.join (idir, 'rep_' + str (i), protein + '_LDmat.txt'))\n",
    "        Rmats[ct,:,:,i] = np.loadtxt (os.path.join (idir, 'rep_' + str (i), protein + '_Rmat.txt'))\n",
    "        RLmats[ct,:,:,i] = np.transpose (np.loadtxt (os.path.join (idir, 'rep_' + str (i), protein + '_Lmat.txt')))\n",
    "\n",
    "        # find appropriate scaling factors\n",
    "        a_val = np.max (np.sum (~np.isnan (Dmats[ct,:,:,i]), axis=1))\n",
    "        b_val = np.max (np.sum (~np.isnan (Lmats[ct,:,:,i]), axis=1))\n",
    "        print ((a_val, b_val))\n",
    "\n",
    "        Dsyms[ct,:,:,i]   = Dmats[ct,:,:,i] * (b_val / a_val) + np.transpose (Lmats[ct,:,:,i])\n",
    "        Pvals[ct,:,:,i] = np.loadtxt (os.path.join (idir, 'rep_' + str (i), protein + '_Psymmetric_scaled.txt'))"
   ]
  },
  {
   "cell_type": "code",
   "execution_count": 12,
   "id": "dfd6f428",
   "metadata": {},
   "outputs": [
    {
     "data": {
      "image/png": "[encoded data removed]",
      "text/plain": [
       "<Figure size 200x200 with 1 Axes>"
      ]
     },
     "metadata": {},
     "output_type": "display_data"
    }
   ],
   "source": [
    "plt.rcParams[\"figure.figsize\"] = (2,2)\n",
    "\n",
    "for i in range (nreps) :\n",
    "    plt.scatter (lsing_1[:,i], lsing_2[:,i], s=5, label=i)\n",
    "    \n",
    "plt.legend (title='rep')\n",
    "plt.xlabel ('block 1, $\\hat Y_i$')\n",
    "plt.ylabel ('block 2, $\\hat Y_i$')\n",
    "plt.xscale ('log')\n",
    "plt.yscale ('log')\n",
    "plt.show ()"
   ]
  },
  {
   "cell_type": "code",
   "execution_count": 13,
   "id": "e3d8bb48",
   "metadata": {},
   "outputs": [
    {
     "name": "stdout",
     "output_type": "stream",
     "text": [
      "[ 91017.33333333 122886.66666667    791.33333333    840.\n",
      "    154.            154.        ]\n",
      "30.943495051631196\n",
      "31.05971626973363\n",
      "7816.060606060606\n",
      "6332.547619047619\n",
      "220.99073294018535\n",
      "287.231746031746\n"
     ]
    }
   ],
   "source": [
    "tots  = np.zeros ( (6, nreps) )\n",
    "for i in range (nreps) :\n",
    "    tots[0,i] = np.sum (~np.isnan (Pvals[0,:,:,i]))\n",
    "    tots[1,i] = np.sum (~np.isnan (Pvals[1,:,:,i]))\n",
    "    tots[2,i] = np.sum (~np.isnan (ysing_1[:,i]))\n",
    "    tots[3,i] = np.sum (~np.isnan (ysing_2[:,i]))\n",
    "    tots[4,i] = np.sum (~np.isnan (n0_cript_1[:,i]))\n",
    "    tots[5,i] = np.sum (~np.isnan (n0_cript_2[:,i]))\n",
    "    \n",
    "print (np.nanmean (tots, axis=1))\n",
    "\n",
    "print (np.nanmean (n0_doub_1))\n",
    "print (np.nanmean (n0_doub_2))\n",
    "print (np.nanmean (n0_cript_1))\n",
    "print (np.nanmean (n0_cript_2))\n",
    "print (np.nanmean (n0_sing_1))\n",
    "print (np.nanmean (n0_sing_2))"
   ]
  },
  {
   "cell_type": "code",
   "execution_count": 14,
   "id": "380a14f9",
   "metadata": {},
   "outputs": [],
   "source": [
    "npos = 43\n",
    "dids_1 = np.arange (0, npos+7, 1)  # subset distance matrix\n",
    "dids_2 = np.append (np.arange (0,7,1), np.arange (50+7, 50+7+npos, 1))\n",
    "\n",
    "# subset distance matrix\n",
    "Df_1 = cp.deepcopy (Dist[dids_1,:][:,dids_1][:7,7:])\n",
    "Df_2 = cp.deepcopy (Dist[dids_2,:][:,dids_2][:7,7:])"
   ]
  },
  {
   "cell_type": "code",
   "execution_count": 15,
   "id": "ffde39ce",
   "metadata": {},
   "outputs": [
    {
     "name": "stdout",
     "output_type": "stream",
     "text": [
      "Block 0\n",
      "[0.60579942 0.68131541 0.69727471]\n",
      "0.6614631782945737\n",
      "[0.93488372 0.90465116 0.92093023]\n",
      "0.92015503875969\n",
      "Block 1\n",
      "[0.88180233 0.89258721 0.90482558]\n",
      "0.8930717054263567\n",
      "[0.97674419 0.97674419 0.97674419]\n",
      "0.9767441860465116\n"
     ]
    }
   ],
   "source": [
    "# compute missing data\n",
    "for bj in range (2) :\n",
    "    print ('Block ' + str (bj))\n",
    "    vals = np.zeros (nreps)\n",
    "    svals = np.zeros (nreps)\n",
    "    for i in range (nreps) :\n",
    "        vals[i] = np.sum (~np.isnan (Pvals[bj,:,:,i])) / (npdz * ncript * (nAA - 1)**2)\n",
    "        if bj == 0 :\n",
    "            svals[i] = np.sum (~np.isnan (ysing_1[:,i])) / (npdz * (nAA -1))\n",
    "        else :\n",
    "            svals[i] = np.sum (~np.isnan (ysing_2[:,i])) / (npdz * (nAA -1))\n",
    "\n",
    "    print (vals)\n",
    "    print (np.nanmean (vals))\n",
    "    print (svals)\n",
    "    print (np.nanmean (svals))"
   ]
  },
  {
   "cell_type": "code",
   "execution_count": 16,
   "id": "bf1736c7",
   "metadata": {},
   "outputs": [],
   "source": [
    "# compute meta ps\n",
    "meta_P1 = compute_meta_p (Pvals[0,:,:,:], omit=True, nthres=2 )\n",
    "meta_P2 = compute_meta_p (Pvals[1,:,:,:], omit=True, nthres=2 )\n",
    "\n",
    "# remove stop codons\n",
    "nl_idxs = np.arange (nAA-1,nAA,Llig)\n",
    "n_idxs  = np.arange (nAA-1,nAA,L)\n",
    " \n",
    "meta_P1[nl_idxs,:] = np.nan\n",
    "meta_P1[:,n_idxs]  = np.nan\n",
    "meta_P2[nl_idxs,:] = np.nan\n",
    "meta_P2[:,n_idxs]  = np.nan"
   ]
  },
  {
   "cell_type": "code",
   "execution_count": 17,
   "id": "be978ab0",
   "metadata": {},
   "outputs": [],
   "source": [
    "# add row of missing values to distance matrices\n",
    "Df_1a = np.row_stack ([np.repeat (np.nan, npos), Df_1])\n",
    "Df_2a = np.row_stack ([np.repeat (np.nan, npos), Df_2])"
   ]
  },
  {
   "cell_type": "code",
   "execution_count": 18,
   "id": "68f8557d",
   "metadata": {
    "scrolled": false
   },
   "outputs": [],
   "source": [
    "# compute false positive rates and accuracy for mochi over a range of alphas\n",
    "fdr_alpha = .1\n",
    "alphas   = np.logspace (-2,np.log10 (.5),100)\n",
    "accuracy = np.zeros ( (2, len (alphas), 2))\n",
    "prop     = np.zeros ( (2, len (alphas), 2))\n",
    "\n",
    "for i in range (2) :\n",
    "    if i == 0 :\n",
    "        pvals_i = cp.deepcopy (meta_P1)\n",
    "        Df      = cp.deepcopy (Df_1a)\n",
    "    elif i == 1 :\n",
    "        pvals_i = cp.deepcopy (meta_P2)\n",
    "        Df      = cp.deepcopy (Df_2a)\n",
    "    \n",
    "    ct = 0\n",
    "    for a in alphas :\n",
    "        Ep, Et = compute_enrichment (pvals_i, alpha=a)\n",
    "\n",
    "        fpcow = scipy.stats.false_discovery_control (np.ndarray.flatten (Ep), method='bh')\n",
    "        fpthres = np.nanmax (np.ndarray.flatten (Ep)[fpcow < fdr_alpha])\n",
    "        accuracy[i,ct,0] = np.sum (np.logical_and (Ep <= fpthres, Df <= 5)) / np.sum (Ep <= fpthres)\n",
    "        prop[i,ct,0]     = (np.sum (np.logical_and (Ep <= fpthres, Df <= 5)) / np.sum (Df <= 5))\n",
    "\n",
    "        accuracy[i,ct,1] = np.sum (np.logical_and (Ep <= fpthres, Df <= 8)) / np.sum (Ep <= fpthres)\n",
    "        prop[i,ct,1]     = (np.sum (np.logical_and (Ep <= fpthres, Df <= 8)) / np.sum (Df <= 8))\n",
    "        ct += 1"
   ]
  },
  {
   "cell_type": "code",
   "execution_count": 19,
   "id": "32c55824",
   "metadata": {},
   "outputs": [
    {
     "name": "stdout",
     "output_type": "stream",
     "text": [
      "[[0.03404087 0.03404087]\n",
      " [0.02118678 0.02118678]]\n"
     ]
    }
   ],
   "source": [
    "# find alpha values that maximize sum of accuracy and proportion\n",
    "alpha_enrich = np.zeros ((2,2))\n",
    "for i in range (2) :\n",
    "    for j in range (2) :\n",
    "        alpha_enrich[i,j] = alphas[np.nanargmax (accuracy[i,:,j] + prop[i,:,j])]\n",
    "\n",
    "print (alpha_enrich)"
   ]
  },
  {
   "cell_type": "code",
   "execution_count": 20,
   "id": "8bcf9d7f",
   "metadata": {},
   "outputs": [],
   "source": [
    "plt.rcParams[\"figure.figsize\"] = (4,2)\n",
    "\n",
    "fig, axs = plt.subplots (1, 2, sharex=False, sharey=True, constrained_layout=True)\n",
    "\n",
    "for i in range (2) :\n",
    "    myp = axs[i].scatter (prop[i,:,0], accuracy[i,:,0], alpha=0.8,\n",
    "                 s=20, c=alphas, cmap='rocket', norm=mpl.colors.LogNorm (),\n",
    "                 edgecolor='black', linewidth=.05)\n",
    "    if i == 1 :\n",
    "        cbar = fig.colorbar (myp, ax=axs[i], shrink=.75, label=r'$\\alpha$', aspect=17, pad=.05)\n",
    "        cbar.set_label(r'$\\alpha$', labelpad=-10, loc='top', rotation=360)\n",
    "\n",
    "    myp = axs[i].scatter (prop[i,:,1], accuracy[i,:,1], alpha=0.8,\n",
    "                 s=20, c=alphas, cmap='Blues_r', norm=mpl.colors.LogNorm (),\n",
    "                 edgecolor='black', linewidth=0.05)\n",
    "   \n",
    "    axs[i].set_xlabel ('Prop. contacts')\n",
    "    if i == 0 :\n",
    "        axs[i].set_ylabel ('$pseudo$-accuracy')\n",
    "    axs[i].set_title ('block ' + str (i+1))\n",
    "    axs[i].set_xlim ((0, np.nanmax (prop[i,:,:]) + .05))\n",
    "    \n",
    "    if i == 1 :\n",
    "        cbar = fig.colorbar (myp, ax=axs[i], shrink=.75, aspect=17)\n",
    "        cbar.ax.set_yticklabels([])\n",
    "\n",
    "        \n",
    "    axs[i].tick_params (length=2)\n",
    "    axs[i].xaxis.set_tick_params (pad=2)\n",
    "    axs[i].yaxis.set_tick_params (pad=1.5)\n",
    "        \n",
    "if save :\n",
    "    plt.savefig (os.path.join (outdir, 'pdz_contact_accuracy.pdf'),\n",
    "                 transparent=True, dpi=600, format='pdf', bbox_inches='tight')\n",
    "    plt.close ()\n",
    "else :\n",
    "    plt.show ()"
   ]
  },
  {
   "cell_type": "code",
   "execution_count": 21,
   "id": "5b01bcdf",
   "metadata": {},
   "outputs": [
    {
     "data": {
      "text/plain": [
       "array([[0.03404087, 0.03404087],\n",
       "       [0.02118678, 0.02118678]])"
      ]
     },
     "execution_count": 21,
     "metadata": {},
     "output_type": "execute_result"
    }
   ],
   "source": [
    "alpha_enrich"
   ]
  },
  {
   "cell_type": "code",
   "execution_count": 22,
   "id": "3d98d60f",
   "metadata": {},
   "outputs": [
    {
     "name": "stderr",
     "output_type": "stream",
     "text": [
      "/var/folders/38/f4j79l017855c4b93219m3bh0000gp/T/ipykernel_5081/2117305302.py:10: RuntimeWarning: Mean of empty slice\n",
      "  positive=True, Sign=np.nanmean (Dsyms[0,:,:,:], axis=2))\n",
      "/var/folders/38/f4j79l017855c4b93219m3bh0000gp/T/ipykernel_5081/2117305302.py:13: RuntimeWarning: Mean of empty slice\n",
      "  plot_enrichment (Emat=Epos, Dmat=np.nanmean (Dsyms[0,:,:,:], axis=2),\n"
     ]
    },
    {
     "data": {
      "image/png": "[encoded data removed]",
      "text/plain": [
       "<Figure size 330x330 with 1 Axes>"
      ]
     },
     "metadata": {},
     "output_type": "display_data"
    },
    {
     "name": "stdout",
     "output_type": "stream",
     "text": [
      "[4 6 6]\n",
      "cows\n"
     ]
    },
    {
     "name": "stderr",
     "output_type": "stream",
     "text": [
      "/var/folders/38/f4j79l017855c4b93219m3bh0000gp/T/ipykernel_5081/2117305302.py:23: RuntimeWarning: Mean of empty slice\n",
      "  Sign=np.nanmean (Dsyms[1,:,:,:], axis=2))\n",
      "/var/folders/38/f4j79l017855c4b93219m3bh0000gp/T/ipykernel_5081/2117305302.py:26: RuntimeWarning: Mean of empty slice\n",
      "  plot_enrichment (Emat=Epos, Dmat=np.nanmean (Dsyms[1,:,:,:], axis=2),\n",
      "/Users/maryncarlson/nitmb/resample_and_reorder/notebooks/../code/plot_functions.py:1120: RuntimeWarning: Mean of empty slice\n",
      "  avgSign[i,j] = np.nanmean (Dsign[i*nAA:(i*nAA + nAA),:][:,j*nAA:(j*nAA + nAA)])\n"
     ]
    },
    {
     "data": {
      "image/png": "[encoded data removed]",
      "text/plain": [
       "<Figure size 330x330 with 1 Axes>"
      ]
     },
     "metadata": {},
     "output_type": "display_data"
    },
    {
     "name": "stdout",
     "output_type": "stream",
     "text": [
      "[5]\n",
      "cows\n"
     ]
    }
   ],
   "source": [
    "# compute enrichment\n",
    "\n",
    "npos = 43\n",
    "Df_1a = np.row_stack ([np.repeat (np.nan, npos), Df_1])\n",
    "Df_2a = np.row_stack ([np.repeat (np.nan, npos), Df_2])\n",
    "\n",
    "# block 1\n",
    "Epos, Etot      = compute_enrichment (meta_P1, alpha=alpha_enrich[0,0])\n",
    "Eplus, Etotplus = compute_enrichment (meta_P1, alpha=alpha_enrich[0,0],\n",
    "                                  positive=True, Sign=np.nanmean (Dsyms[0,:,:,:], axis=2))\n",
    "\n",
    "# plot\n",
    "plot_enrichment (Emat=Epos, Dmat=np.nanmean (Dsyms[0,:,:,:], axis=2),\n",
    "                 Ps=meta_P1, alpha=alpha_enrich[0,0],\n",
    "                 Dist=Df_1a,\n",
    "                 Posmat=Eplus, pdf=False,\n",
    "                 protein='CRIPT', ligand='block 1', outlabel='block_1',\n",
    "                 start=303, startlig=0, save=save, outdir=outdir, liglabels=lig_labels, aspect=1.15)\n",
    "\n",
    "# block 2\n",
    "Epos, Etot      = compute_enrichment (meta_P2, alpha=alpha_enrich[1,0])\n",
    "Eplus, Etotplus = compute_enrichment (meta_P2, alpha=alpha_enrich[1,0], positive=True,\n",
    "                                  Sign=np.nanmean (Dsyms[1,:,:,:], axis=2))\n",
    "\n",
    "# plot\n",
    "plot_enrichment (Emat=Epos, Dmat=np.nanmean (Dsyms[1,:,:,:], axis=2),\n",
    "                 Ps=meta_P2, alpha=.05,#alpha_enrich[1,0],\n",
    "                 Dist=Df_2a,\n",
    "                 Posmat=Eplus, pdf=False,\n",
    "                 protein='CRIPT', ligand='block 2', outlabel='block_2',\n",
    "                 start=353, startlig=0, save=save, outdir=outdir, liglabels=lig_labels, aspect=1.15)"
   ]
  },
  {
   "cell_type": "code",
   "execution_count": 23,
   "id": "b4a44e7b",
   "metadata": {},
   "outputs": [],
   "source": [
    "plt.rcParams[\"figure.figsize\"] = (3,3)\n",
    "\n",
    "fig, axs = plt.subplots (4, 2, sharex=True, sharey=True)\n",
    "\n",
    "#axs[0].set_ylim ((-0.05,27500))\n",
    "for ct in range (len (indirs)) :\n",
    "    axs[-1, ct].set_xlabel (r'$p$-value')\n",
    "    axs[0,ct].set_title ('block ' + str (ct+1), fontsize=8)\n",
    "\n",
    "    for i in range (nreps) :\n",
    "        axs[i,ct].hist (np.ndarray.flatten (Psym[ct,:,:,i]), label=r'$p_{ij}$', bins=20,\n",
    "                        color='lightgray', edgecolor='black', linewidth=.01)\n",
    "        if ct == 0 :\n",
    "            axs[i,ct].set_ylabel ('Count', labelpad=0)\n",
    "        axs[i,ct].annotate ( 'rep ' + str (i+1), (0,8000), fontsize=8)\n",
    "        axs[0,ct].set_yticks ([0,10000], ['0', r'$10^{4}$'])\n",
    "        \n",
    "\n",
    "    axs[-1,ct].annotate ( 'meta', (0,8000), fontsize=8)\n",
    "\n",
    "axs[-1,0].hist (np.ndarray.flatten (meta_P1), label=r'$\\tilde p_{ij}$',\n",
    "                color='darkgray', edgecolor='black', linewidth=.01, bins=20)\n",
    "axs[-1,1].hist (np.ndarray.flatten (meta_P2), label=r'$\\tilde p_{ij}$',\n",
    "                color='darkgray', edgecolor='black', linewidth=.01, bins=20)\n",
    "    \n",
    "axs[-1,0].set_ylabel ('Count', labelpad=0)\n",
    "\n",
    "for i in range (4) :\n",
    "    for j in range (2) :\n",
    "        axs[i,j].tick_params (length=2)\n",
    "        axs[i,j].xaxis.set_tick_params (pad=2)\n",
    "        axs[i,j].yaxis.set_tick_params (pad=1.5)\n",
    "\n",
    "if save :\n",
    "    plt.savefig (os.path.join (outdir, 'pij_values.pdf'), bbox_inches='tight')\n",
    "    plt.close ()\n",
    "else :\n",
    "    plt.show ()"
   ]
  },
  {
   "cell_type": "code",
   "execution_count": 24,
   "id": "fe755146",
   "metadata": {},
   "outputs": [],
   "source": [
    "# compute AA distance matrix\n",
    "bigDist = np.zeros ((2,Llig,L1)) * np.nan\n",
    "for i in range (1,ncript) :\n",
    "    bigDist[0,(i*nAA):(i*nAA + nAA),:] = np.reshape (np.repeat (Df_1[i-1,:], nAA**2), (nAA, L1), order='F')\n",
    "    bigDist[1,(i*nAA):(i*nAA + nAA),:] = np.reshape (np.repeat (Df_2[i-1,:], nAA**2), (nAA, L2), order='F')"
   ]
  },
  {
   "cell_type": "code",
   "execution_count": 25,
   "id": "5f5ccaeb",
   "metadata": {
    "scrolled": false
   },
   "outputs": [
    {
     "name": "stderr",
     "output_type": "stream",
     "text": [
      "/var/folders/38/f4j79l017855c4b93219m3bh0000gp/T/ipykernel_5081/2812867923.py:3: RuntimeWarning: Mean of empty slice\n",
      "  avgSign = compute_avg_sign_matrix (np.nanmean (Dsyms[0,:,:,:], axis=2), meta_P1)\n",
      "/var/folders/38/f4j79l017855c4b93219m3bh0000gp/T/ipykernel_5081/2812867923.py:5: RuntimeWarning: Mean of empty slice\n",
      "  positive=True, Sign=np.nanmean (Dsyms[0,:,:,:], axis=2))\n",
      "/var/folders/38/f4j79l017855c4b93219m3bh0000gp/T/ipykernel_5081/2812867923.py:8: RuntimeWarning: Mean of empty slice\n",
      "  avgSign_2 = compute_avg_sign_matrix (np.nanmean (Dsyms[1,:,:,:], axis=2), meta_P2)\n",
      "/var/folders/38/f4j79l017855c4b93219m3bh0000gp/T/ipykernel_5081/2812867923.py:10: RuntimeWarning: Mean of empty slice\n",
      "  positive=True, Sign=np.nanmean (Dsyms[1,:,:,:], axis=2))\n"
     ]
    }
   ],
   "source": [
    "# Distance plot for positive interactions\n",
    "start_1 = 303\n",
    "avgSign = compute_avg_sign_matrix (np.nanmean (Dsyms[0,:,:,:], axis=2), meta_P1)\n",
    "Eplus, Eplustot = compute_enrichment (meta_P1, alpha=alpha_enrich[0,0],\n",
    "                                  positive=True, Sign=np.nanmean (Dsyms[0,:,:,:], axis=2))\n",
    "\n",
    "start_2 = 353\n",
    "avgSign_2 = compute_avg_sign_matrix (np.nanmean (Dsyms[1,:,:,:], axis=2), meta_P2)\n",
    "Eplus_2, Eplustot_2 = compute_enrichment (meta_P2, alpha=alpha_enrich[1,0],\n",
    "                                      positive=True, Sign=np.nanmean (Dsyms[1,:,:,:], axis=2))\n",
    "\n",
    "\n",
    "# label T-2,372; T-2,330; S-1,342; S-1,345\n",
    "focal_1 = [(5,330-start_1),(6,342-start_1)]#,(6,345-start_1)]\n",
    "focal_2 = [(5,372-start_2)]\n",
    "\n",
    "plt.rcParams[\"figure.figsize\"] = (1,1)\n",
    "#plt.rcParams[\"figure.figsize\"] = (3,3)\n",
    "\n",
    "fig, ax = plt.subplots ()\n",
    "\n",
    "# block 1\n",
    "plt.scatter (Df_1a, Eplustot, c=avgSign, cmap='Spectral', vmin=-1, vmax=1,\n",
    "             edgecolor='black',\n",
    "             linewidth=.05, s=5, marker='X')\n",
    "\n",
    "plt.xticks (np.arange (0, np.nanmax (Df_1a),5),\n",
    "            np.array (np.arange (0, np.nanmax (Df_1a),5), dtype=int),\n",
    "            fontsize=6)\n",
    "plt.axvline (5, color='black', linestyle='-', linewidth=.5, alpha=0.25, label=r'5$\\AA$')\n",
    "\n",
    "fdrps = scipy.stats.false_discovery_control (np.ndarray.flatten (Eplus))\n",
    "thres = np.nanmin ( np.ndarray.flatten (Eplustot)[fdrps < .01])\n",
    "plt.axhline (thres, color='black', linestyle='dotted', label='FDR$^{1}$', linewidth=.5)\n",
    "\n",
    "offsets = [-4,2,0]\n",
    "for i in range (len (focal_1)) :\n",
    "    x_i = focal_1[i][0]\n",
    "    y_i = focal_1[i][1]\n",
    "    plt.scatter (Df_1a[x_i,y_i], Eplustot[x_i,y_i],\n",
    "                 marker='X', c=avgSign[x_i,y_i], cmap='Spectral', vmin=-1, vmax=1,\n",
    "                 edgecolor='black',\n",
    "                 linewidth=.2, s=10)\n",
    "    plt.annotate (str (lig_labels[x_i]) + ',' + str (y_i + start_1),\n",
    "                  (Df_1a[x_i,y_i]+1, Eplustot[x_i,y_i]+offsets[i]),\n",
    "                  fontsize=6)\n",
    "\n",
    "# block 2\n",
    "plt.scatter (Df_2a, Eplustot_2, c=avgSign_2, cmap='Spectral', vmin=-1, vmax=1,\n",
    "             edgecolor='black', linewidth=0.05, s=5)\n",
    "\n",
    "fdrps_2 = scipy.stats.false_discovery_control (np.ndarray.flatten (Eplus_2))\n",
    "thres   = np.nanmin ( np.ndarray.flatten (Eplustot_2)[fdrps_2 < .1])\n",
    "plt.axhline (thres, linestyle='dashed', label='FDR$^{2}$', color='gray', linewidth=.5)\n",
    "\n",
    "for i in range (len (focal_2)) :\n",
    "    x_i = focal_2[i][0]\n",
    "    y_i = focal_2[i][1]\n",
    "    \n",
    "    plt.scatter (Df_2a[x_i,y_i], Eplustot_2[x_i,y_i],\n",
    "                 marker='o', c=avgSign_2[x_i,y_i], cmap='Spectral', vmin=-1, vmax=1,\n",
    "                 edgecolor='black',\n",
    "                 linewidth=.2, s=10)\n",
    "    plt.annotate (str (lig_labels[x_i]) + ',' + str (y_i + start_2),\n",
    "                  (Df_2a[x_i,y_i]+1, Eplustot_2[x_i,y_i]-5),\n",
    "                  fontsize=6)\n",
    "\n",
    "# axis parameters\n",
    "ax.locator_params(axis='x', nbins=5)\n",
    "ax.tick_params (length=2)\n",
    "ax.xaxis.set_tick_params (pad=2)\n",
    "ax.yaxis.set_tick_params (pad=1.5)\n",
    "\n",
    "ax.set_yticks (np.arange (0,np.nanmax (Eplustot_2),20),\n",
    "               np.array (np.arange (0,np.nanmax (Eplustot_2),20), dtype=int),\n",
    "               fontsize=6)\n",
    "\n",
    "# axis labels and legend\n",
    "plt.ylabel (r'# spec. muts.', labelpad=2)\n",
    "plt.xlabel ('distance ($\\AA$)', labelpad=2)\n",
    "plt.legend (frameon=False, handlelength=1, fontsize=6)\n",
    "\n",
    "#plt.colorbar (shrink=0.75, label=r'Avg. sign ($\\hat D_{ij}$)')\n",
    "if save :\n",
    "    plt.savefig ( os.path.join (outdir, 'randr_pos_distance.svg'),\n",
    "                  bbox_inches='tight', format='svg', transparent=True, dpi=600)\n",
    "    plt.close ()\n",
    "else :\n",
    "    plt.show ()"
   ]
  },
  {
   "cell_type": "code",
   "execution_count": 26,
   "id": "87aa19a0",
   "metadata": {},
   "outputs": [
    {
     "name": "stderr",
     "output_type": "stream",
     "text": [
      "/var/folders/38/f4j79l017855c4b93219m3bh0000gp/T/ipykernel_5081/3623136616.py:3: RuntimeWarning: Mean of empty slice\n",
      "  avgSign = compute_avg_sign_matrix (np.nanmean (Dsyms[0,:,:,:], axis=2), meta_P1)\n",
      "/var/folders/38/f4j79l017855c4b93219m3bh0000gp/T/ipykernel_5081/3623136616.py:5: RuntimeWarning: Mean of empty slice\n",
      "  positive=False, Sign=np.nanmean (Dsyms[0,:,:,:], axis=2))\n",
      "/var/folders/38/f4j79l017855c4b93219m3bh0000gp/T/ipykernel_5081/3623136616.py:8: RuntimeWarning: Mean of empty slice\n",
      "  avgSign_2 = compute_avg_sign_matrix (np.nanmean (Dsyms[1,:,:,:], axis=2), meta_P2)\n",
      "/var/folders/38/f4j79l017855c4b93219m3bh0000gp/T/ipykernel_5081/3623136616.py:10: RuntimeWarning: Mean of empty slice\n",
      "  positive=False, Sign=np.nanmean (Dsyms[1,:,:,:], axis=2))\n"
     ]
    }
   ],
   "source": [
    "# Distance plot for negative interactions\n",
    "start_1 = 303\n",
    "avgSign = compute_avg_sign_matrix (np.nanmean (Dsyms[0,:,:,:], axis=2), meta_P1)\n",
    "Eplus, Eplustot = compute_enrichment (meta_P1, alpha=alpha_enrich[0,0],\n",
    "                                  positive=False, Sign=np.nanmean (Dsyms[0,:,:,:], axis=2))\n",
    "\n",
    "start_2 = 353\n",
    "avgSign_2 = compute_avg_sign_matrix (np.nanmean (Dsyms[1,:,:,:], axis=2), meta_P2)\n",
    "Eplus_2, Eplustot_2 = compute_enrichment (meta_P2, alpha=alpha_enrich[1,0],\n",
    "                                      positive=False, Sign=np.nanmean (Dsyms[1,:,:,:], axis=2))\n",
    "\n",
    "\n",
    "# label T-2,372; T-2,330; S-1,342; S-1,345\n",
    "focal_1 = [(5,330-start_1),(6,342-start_1)]#,(6,345-start_1)]\n",
    "focal_2 = [(5,372-start_2)]\n",
    "\n",
    "plt.rcParams[\"figure.figsize\"] = (2.,2.)\n",
    "#plt.rcParams[\"figure.figsize\"] = (3,3)\n",
    "\n",
    "fig, ax = plt.subplots ()\n",
    "\n",
    "# block 1\n",
    "plt.scatter (Df_1a, Eplustot, c=avgSign, cmap='Spectral', vmin=-1, vmax=1,\n",
    "             edgecolor='black',\n",
    "             linewidth=.05, s=10, marker='X')\n",
    "\n",
    "plt.xticks (np.arange (0, np.nanmax (Df_1a),5),\n",
    "            np.array (np.arange (0, np.nanmax (Df_1a),5), dtype=int),\n",
    "            fontsize=6)\n",
    "plt.axvline (5, color='black', linestyle='-', linewidth=.5, alpha=0.25, label=r'5$\\AA$')\n",
    "\n",
    "fdrps = scipy.stats.false_discovery_control (np.ndarray.flatten (Eplus))\n",
    "thres = np.nanmin ( np.ndarray.flatten (Eplustot)[fdrps < .01])\n",
    "plt.axhline (thres, color='black', linestyle='dotted', label='FDR$^{1}$', linewidth=.5)\n",
    "\n",
    "offsets = [-4,2,0]\n",
    "for i in range (len (focal_1)) :\n",
    "    x_i = focal_1[i][0]\n",
    "    y_i = focal_1[i][1]\n",
    "    plt.scatter (Df_1a[x_i,y_i], Eplustot[x_i,y_i],\n",
    "                 marker='X', c=avgSign[x_i,y_i], cmap='Spectral', vmin=-1, vmax=1,\n",
    "                 edgecolor='black',\n",
    "                 linewidth=.2, s=20)\n",
    "    plt.annotate (str (lig_labels[x_i]) + ',' + str (y_i + start_1),\n",
    "                  (Df_1a[x_i,y_i]+1, Eplustot[x_i,y_i]+offsets[i]),\n",
    "                  fontsize=6)\n",
    "\n",
    "# block 2\n",
    "plt.scatter (Df_2a, Eplustot_2, c=avgSign_2, cmap='Spectral', vmin=-1, vmax=1,\n",
    "             edgecolor='black', linewidth=0.05, s=10)\n",
    "\n",
    "fdrps_2 = scipy.stats.false_discovery_control (np.ndarray.flatten (Eplus_2))\n",
    "thres   = np.nanmin ( np.ndarray.flatten (Eplustot_2)[fdrps_2 < .1])\n",
    "plt.axhline (thres, linestyle='dashed', label='FDR$^{2}$', color='gray', linewidth=.5)\n",
    "\n",
    "for i in range (len (focal_2)) :\n",
    "    x_i = focal_2[i][0]\n",
    "    y_i = focal_2[i][1]\n",
    "    \n",
    "    plt.scatter (Df_2a[x_i,y_i], Eplustot_2[x_i,y_i],\n",
    "                 marker='o', c=avgSign_2[x_i,y_i], cmap='Spectral', vmin=-1, vmax=1,\n",
    "                 edgecolor='black',\n",
    "                 linewidth=.2, s=20)\n",
    "    plt.annotate (str (lig_labels[x_i]) + ',' + str (y_i + start_2),\n",
    "                  (Df_2a[x_i,y_i]+1, Eplustot_2[x_i,y_i]-5),\n",
    "                  fontsize=6)\n",
    "\n",
    "# axis parameters\n",
    "ax.locator_params(axis='x', nbins=5)\n",
    "ax.tick_params (length=2)\n",
    "ax.xaxis.set_tick_params (pad=2)\n",
    "ax.yaxis.set_tick_params (pad=1.5)\n",
    "\n",
    "ax.set_yticks (np.arange (0,np.nanmax (Eplustot_2),20),\n",
    "               np.array (np.arange (0,np.nanmax (Eplustot_2),20), dtype=int),\n",
    "               fontsize=6)\n",
    "\n",
    "# axis labels and legend\n",
    "plt.ylabel (r'# signif. muts.', labelpad=2)\n",
    "plt.xlabel ('distance ($\\AA$)', labelpad=2)\n",
    "plt.legend (frameon=False, handlelength=1, fontsize=6)\n",
    "\n",
    "#plt.colorbar (shrink=0.75, label=r'Avg. sign ($\\hat D_{ij}$)')\n",
    "if save :\n",
    "    plt.savefig ( os.path.join (outdir, 'randr_all_distance.pdf'),\n",
    "                  bbox_inches='tight', format='pdf', transparent=True, dpi=600)\n",
    "    plt.close ()\n",
    "else :\n",
    "    plt.show ()"
   ]
  },
  {
   "cell_type": "code",
   "execution_count": 27,
   "id": "89c76b25",
   "metadata": {},
   "outputs": [
    {
     "data": {
      "image/png": "[encoded data removed]",
      "text/plain": [
       "<Figure size 600x150 with 1 Axes>"
      ]
     },
     "metadata": {},
     "output_type": "display_data"
    },
    {
     "data": {
      "image/png": "[encoded data removed]",
      "text/plain": [
       "<Figure size 600x150 with 1 Axes>"
      ]
     },
     "metadata": {},
     "output_type": "display_data"
    }
   ],
   "source": [
    "depth_list_1 = list ()\n",
    "depth_list_2 = list ()\n",
    "for i in range (npos) :\n",
    "    vals = n0_sing_1[i*nAA:(i*nAA + nAA),:]\n",
    "    depth_list_1.append (cp.deepcopy (vals[~np.isnan (vals)]))\n",
    "    \n",
    "    vals = n0_sing_2[i*nAA:(i*nAA + nAA),:]\n",
    "    depth_list_2.append (cp.deepcopy (vals[~np.isnan (vals)]))\n",
    "    \n",
    "plt.rcParams[\"figure.figsize\"] = (6,1.5)\n",
    "\n",
    "plt.boxplot (depth_list_1)\n",
    "plt.xticks ( np.arange (1,npos+1,1),\n",
    "             np.arange (303,303+npos,1), rotation=90, size=6)\n",
    "plt.show ()\n",
    "\n",
    "plt.boxplot (depth_list_2)\n",
    "plt.xticks ( np.arange (1,npos+1,1),\n",
    "             np.arange (353,353+npos,1), rotation=90, size=6)\n",
    "plt.show ()"
   ]
  },
  {
   "cell_type": "code",
   "execution_count": 28,
   "id": "74e5d5bb",
   "metadata": {},
   "outputs": [],
   "source": [
    "# label T-2,372; T-2,330; S-1,342\n",
    "focaldict    = dict ()\n",
    "\n",
    "# label T-2,372; T-2,330; S-1,342; S-1,345\n",
    "focal_1 = [(5,330-start_1),(6,342-start_1)]#,(6,345-start_1)]\n",
    "focal_2 = [(5,372-start_2)]\n",
    "\n",
    "focaldict[0] = dict ()\n",
    "focaldict[0]['pairs']     = focal_1\n",
    "focaldict[0]['pdz_aas']   = [14, 16]\n",
    "focaldict[0]['cript_aas'] = [18, 19]\n",
    "\n",
    "focaldict[1] = dict ()\n",
    "focaldict[1]['pairs']     = focal_2\n",
    "focaldict[1]['pdz_aas']  = [18]\n",
    "focaldict[1]['cript_aas'] = [16]"
   ]
  },
  {
   "cell_type": "code",
   "execution_count": 29,
   "id": "6f7aa0d9",
   "metadata": {},
   "outputs": [
    {
     "name": "stderr",
     "output_type": "stream",
     "text": [
      "/var/folders/38/f4j79l017855c4b93219m3bh0000gp/T/ipykernel_5081/660617447.py:26: RuntimeWarning: Mean of empty slice\n",
      "  Dmean = np.nanmean (Dsyms[idx,:,:,:], axis=2)\n",
      "/var/folders/38/f4j79l017855c4b93219m3bh0000gp/T/ipykernel_5081/660617447.py:27: RuntimeWarning: Mean of empty slice\n",
      "  Dsign = np.nanmean (Dsyms[idx,:,:,:], axis=2)\n",
      "/var/folders/38/f4j79l017855c4b93219m3bh0000gp/T/ipykernel_5081/660617447.py:107: RuntimeWarning: Mean of empty slice\n",
      "  Dmean  = np.nanmean (Dsyms[idx,:,:,:], axis=2)\n",
      "/var/folders/38/f4j79l017855c4b93219m3bh0000gp/T/ipykernel_5081/660617447.py:108: RuntimeWarning: Mean of empty slice\n",
      "  Rmean  = np.nanmean (Rmats[idx,:,:,:], axis=2)\n",
      "/var/folders/38/f4j79l017855c4b93219m3bh0000gp/T/ipykernel_5081/660617447.py:109: RuntimeWarning: Mean of empty slice\n",
      "  RLmean = np.nanmean (RLmats[idx,:,:,:], axis=2)\n",
      "/var/folders/38/f4j79l017855c4b93219m3bh0000gp/T/ipykernel_5081/660617447.py:110: RuntimeWarning: Mean of empty slice\n",
      "  Ymean  = np.nanmean (y_rank, axis=1)\n",
      "/var/folders/38/f4j79l017855c4b93219m3bh0000gp/T/ipykernel_5081/660617447.py:111: RuntimeWarning: Mean of empty slice\n",
      "  Lmean  = np.nanmean (lig_rank, axis=1)\n",
      "/var/folders/38/f4j79l017855c4b93219m3bh0000gp/T/ipykernel_5081/660617447.py:116: RuntimeWarning: Mean of empty slice\n",
      "  Davg = np.nanmean (Dsyms[idx,:,:,:], axis=2)\n",
      "/var/folders/38/f4j79l017855c4b93219m3bh0000gp/T/ipykernel_5081/660617447.py:220: RuntimeWarning: Mean of empty slice\n",
      "  Dmean  = np.nanmean (Dsyms[idx,:,:,:], axis=2)\n",
      "/var/folders/38/f4j79l017855c4b93219m3bh0000gp/T/ipykernel_5081/660617447.py:221: RuntimeWarning: Mean of empty slice\n",
      "  Rmean  = np.nanmean (Rmats[idx,:,:,:], axis=2)\n",
      "/var/folders/38/f4j79l017855c4b93219m3bh0000gp/T/ipykernel_5081/660617447.py:222: RuntimeWarning: Mean of empty slice\n",
      "  RLmean = np.nanmean (RLmats[idx,:,:,:], axis=2)\n",
      "/var/folders/38/f4j79l017855c4b93219m3bh0000gp/T/ipykernel_5081/660617447.py:223: RuntimeWarning: Mean of empty slice\n",
      "  Ymean  = np.nanmean (y_rank, axis=1)\n",
      "/var/folders/38/f4j79l017855c4b93219m3bh0000gp/T/ipykernel_5081/660617447.py:224: RuntimeWarning: Mean of empty slice\n",
      "  Lmean  = np.nanmean (lig_rank, axis=1)\n",
      "/var/folders/38/f4j79l017855c4b93219m3bh0000gp/T/ipykernel_5081/660617447.py:229: RuntimeWarning: Mean of empty slice\n",
      "  Davg = np.nanmean (Dsyms[idx,:,:,:], axis=2)\n"
     ]
    }
   ],
   "source": [
    "plt.rcParams[\"figure.figsize\"] = (3.5*.95,3.)\n",
    "\n",
    "# spectral color map\n",
    "maxval = 1\n",
    "spec = mpl.colormaps['Spectral']\n",
    "norm = plt.Normalize(-1, 1)\n",
    "\n",
    "fig, axs = plt.subplots (3, 3, height_ratios=[.65,2,2],\n",
    "                         sharex='row', sharey='row', constrained_layout=True)\n",
    "\n",
    "maxval = np.nanmax (np.abs (Dsyms))\n",
    "bins   = np.linspace (-maxval, maxval, 20)\n",
    "\n",
    "count = 0\n",
    "for idx in range (2) :\n",
    "    focal_pairs = cp.deepcopy (focaldict[idx]['pairs'])\n",
    "    focal_aas   = cp.deepcopy (focaldict[idx]['cript_aas'])\n",
    "    pdz_aas     = cp.deepcopy (focaldict[idx]['pdz_aas'])\n",
    "\n",
    "    if idx == 0 :\n",
    "        metaP = cp.deepcopy (meta_P1)\n",
    "        start = 303\n",
    "    else :\n",
    "        metaP = cp.deepcopy (meta_P2)        \n",
    "        start = 353\n",
    "    Dmean = np.nanmean (Dsyms[idx,:,:,:], axis=2)\n",
    "    Dsign = np.nanmean (Dsyms[idx,:,:,:], axis=2)\n",
    "    Dsign[Dmean < 0] = -1\n",
    "    Dsign[Dmean > 0] = 1\n",
    "    Dsign[metaP > .1] = np.nan\n",
    "\n",
    "    avgSign = np.zeros ((ncript, npos))\n",
    "    for i in range (ncript) :\n",
    "        for j in range (npos) :\n",
    "            avgSign[i,j] = np.nanmean (Dsign[i*nAA:(i*nAA + nAA),:][:,j*nAA:(j*nAA + nAA)])\n",
    "\n",
    "    ct = 0\n",
    "    for pair in focaldict[idx]['pairs'] :\n",
    "        j_i, f_i = cp.deepcopy (pair)\n",
    "        aa_i     = focaldict[idx]['pdz_aas'][ct]   # pdz aa\n",
    "        aalig_i  = focaldict[idx]['cript_aas'][ct] # ligand aa\n",
    "\n",
    "        # (1) Plot D values\n",
    "        axs[0,count].hist ( np.ndarray.flatten (Dmean[j_i*nAA:(j_i*nAA + nAA),:][:,f_i*nAA:(f_i*nAA + nAA)]),\n",
    "                          bins=bins, color=spec( norm (avgSign[j_i,f_i])),\n",
    "                          edgecolor='black', linewidth=.2)\n",
    "        axs[0,count].axvline (0, color='gray', linestyle='dashed', linewidth=.2)                \n",
    "        axs[0,count].tick_params(axis='both', which='major', labelsize=6)\n",
    "        #mylabel = r'avg. $D$'\n",
    "        mylabel = r'$\\bar D_{i(k),j(\\ell)}$'\n",
    "\n",
    "        axs[0,count].set_title (lig_labels[j_i] + ', ' + pdz_wt_full[f_i + 50*idx] + str (f_i + start),\n",
    "                                fontsize=8)\n",
    "        axs[0,count].set_xlabel (mylabel, labelpad=0, fontsize=8)\n",
    "        \n",
    "        if count == 0 :\n",
    "            axs[0,count].set_ylabel (r'Count', labelpad=0)\n",
    "            axs[0,count].set_yticks (np.arange (0,101,50),\n",
    "                                   np.array (np.arange (0,101,50), dtype=int))\n",
    "        # axis parameters\n",
    "        axs[0,count].locator_params(axis='x', nbins=5)\n",
    "        axs[0,count].tick_params (length=2)\n",
    "        axs[0,count].xaxis.set_tick_params (pad=2)\n",
    "        axs[0,count].yaxis.set_tick_params (pad=1.5)\n",
    "        \n",
    "        count += 1\n",
    "        ct += 1\n",
    "        \n",
    "# spectral color map\n",
    "maxval = 1\n",
    "spec = mpl.colormaps['Spectral']\n",
    "norm = plt.Normalize(-1, 1)\n",
    "maxval = np.nanmax (np.abs (Dsyms))\n",
    "bins   = np.linspace (-maxval, maxval, 20)\n",
    "\n",
    "count = 0\n",
    "for idx in range (2) :\n",
    "    focal_pairs = cp.deepcopy (focaldict[idx]['pairs'])\n",
    "    focal_aas   = cp.deepcopy (focaldict[idx]['cript_aas'])\n",
    "    pdz_aas     = cp.deepcopy (focaldict[idx]['pdz_aas'])\n",
    "    \n",
    "    # meta p-value and compute average single ranks\n",
    "    if idx == 0 :\n",
    "        metaP = cp.deepcopy (meta_P1)        \n",
    "        y_rank = np.zeros_like (ysing_1)\n",
    "        for i in range (nreps) :\n",
    "            y_rank[:,i] = compute_mean_ranks (ysing_1[:,i])\n",
    "            \n",
    "        lig_rank = np.zeros_like (lsing_1)\n",
    "        for i in range (nreps) :\n",
    "            lig_rank[:,i] = compute_mean_ranks (lsing_1[:,i])\n",
    "            \n",
    "        start = 303\n",
    "    else :\n",
    "        metaP = cp.deepcopy (meta_P2)        \n",
    "        y_rank = np.zeros_like (ysing_2)\n",
    "        for i in range (nreps) :\n",
    "            y_rank[:,i] = compute_mean_ranks (ysing_2[:,i])\n",
    "            \n",
    "        lig_rank = np.zeros_like (lsing_2)\n",
    "        for i in range (nreps) :\n",
    "            lig_rank[:,i] = compute_mean_ranks (lsing_2[:,i])\n",
    "        start = 353\n",
    "\n",
    "    \n",
    "\n",
    "    Dmean  = np.nanmean (Dsyms[idx,:,:,:], axis=2)\n",
    "    Rmean  = np.nanmean (Rmats[idx,:,:,:], axis=2)\n",
    "    RLmean = np.nanmean (RLmats[idx,:,:,:], axis=2)\n",
    "    Ymean  = np.nanmean (y_rank, axis=1)\n",
    "    Lmean  = np.nanmean (lig_rank, axis=1)\n",
    "\n",
    "    identity     = np.linspace (0, np.nanmax (Ymean), 20)\n",
    "    identity_lig = np.linspace (0, np.nanmax (Lmean), 20)\n",
    "    \n",
    "    Davg = np.nanmean (Dsyms[idx,:,:,:], axis=2)\n",
    "    Dsign = cp.deepcopy (Davg)\n",
    "    Dsign[Davg < 0] = -1\n",
    "    Dsign[Davg > 0] = 1\n",
    "    Dsign[metaP > .1] = np.nan\n",
    "\n",
    "    avgSign = np.zeros ((ncript, npos))\n",
    "    for i in range (ncript) :\n",
    "        for j in range (npos) :\n",
    "            avgSign[i,j] = np.nanmean (Dsign[i*nAA:(i*nAA + nAA),:][:,j*nAA:(j*nAA + nAA)])\n",
    "\n",
    "    ct = 0\n",
    "    for pair in focaldict[idx]['pairs'] :\n",
    "        j_i, f_i = cp.deepcopy (pair)\n",
    "        aa_i     = focaldict[idx]['pdz_aas'][ct]   # pdz aa\n",
    "        aalig_i  = focaldict[idx]['cript_aas'][ct] # ligand aa\n",
    "        \n",
    "        # (2) Plot ligand ranks\n",
    "        gray = axs[1,count].scatter (Lmean, RLmean[:,f_i*nAA + aa_i], c=metaP[:,f_i*nAA + aa_i], cmap='gray',\n",
    "                                     norm=mpl.colors.LogNorm (vmin=np.nanmin (metaP), vmax=1),\n",
    "                                     alpha=1., edgecolor='black', linewidth=.1, s=5)\n",
    "\n",
    "        pink = axs[1,count].scatter (Lmean[j_i*nAA:(j_i*nAA + nAA)],\n",
    "                                     RLmean[ j_i*nAA:(j_i*nAA + nAA), f_i*nAA + aa_i],\n",
    "                                     edgecolor=spec( norm (avgSign[j_i,f_i]) ),\n",
    "                                     cmap='gray', c=metaP[j_i*nAA:(j_i*nAA + nAA),f_i*nAA + aa_i],\n",
    "                                     norm=mpl.colors.LogNorm (vmin=np.nanmin (metaP), vmax=1),\n",
    "                                     alpha=1., linewidth=.3, s=10)\n",
    "                \n",
    "        # add annotations for the focal site\n",
    "        for j in range (nAA) :\n",
    "            if ~np.isnan (metaP[j_i*nAA + j,f_i*nAA + aa_i]) :\n",
    "                axs[1,count].annotate ( aas[j], (Lmean[j_i*nAA + j]+5, RLmean[ j_i*nAA + j, f_i*nAA + aa_i,]+5),\n",
    "                                       fontsize=6, color='black', zorder=1)#color=spec( norm (avgsign)))\n",
    "\n",
    "                ymin_j = np.nanmin ([RLmean[ j_i*nAA + j, f_i*nAA + aa_i], Lmean[j_i*nAA + j]])\n",
    "                ymax_j = np.nanmax ([RLmean[ j_i*nAA + j, f_i*nAA + aa_i], Lmean[j_i*nAA + j]])\n",
    "                vals   = np.linspace (ymin_j, ymax_j, 10)\n",
    "\n",
    "                axs[1,count].plot ( np.repeat (Lmean[j_i*nAA + j], 10), vals, linestyle='dashed',\n",
    "                                  color=spec( norm (avgSign[j_i,f_i])), linewidth=.3)\n",
    "\n",
    "        \n",
    "        axs[1,count].plot ( identity_lig, identity_lig, linewidth=.5, linestyle='--', color='black')\n",
    "        axs[1,count].set_xticks ( np.arange (0,np.nanmax (Lmean)+1,50),\n",
    "                                  np.array (np.arange (0,np.nanmax (Lmean)+1,50), dtype=int),\n",
    "                                  rotation=0, fontsize=6)\n",
    "        axs[1,count].set_yticks ( np.arange (0,np.nanmax (Lmean)+1,50),\n",
    "                                  np.array (np.arange (0,np.nanmax (Lmean)+1,50), dtype=int),\n",
    "                                  fontsize=6)\n",
    "\n",
    "        # axis labels\n",
    "        axs[1,count].set_xlabel (r'CRIPT $\\bar R_{i(\\ell)}$', labelpad=.5, fontsize=8)\n",
    "        axs[1,count].locator_params(axis='x', nbins=5)\n",
    "        axs[1,count].tick_params (length=2)\n",
    "        axs[1,count].xaxis.set_tick_params (pad=2)\n",
    "        axs[1,count].yaxis.set_tick_params (pad=1.5)\n",
    "        \n",
    "        axs[1,count].annotate (str (f_i + start) + '(' + aas[aa_i] + ')', (100,10), fontsize=6)\n",
    "        \n",
    "        if count == 0 :\n",
    "            axs[1,count].set_ylabel (r'$\\bar R_{j(k),i(\\ell)}$', labelpad=0)\n",
    "\n",
    "        \n",
    "        count += 1\n",
    "        ct += 1\n",
    "        \n",
    "## ROW 3\n",
    "# spectral color map\n",
    "maxval = 1\n",
    "spec = mpl.colormaps['Spectral']\n",
    "norm = plt.Normalize(-1, 1)\n",
    "\n",
    "maxval = np.nanmax (np.abs (Dsyms))\n",
    "bins   = np.linspace (-maxval, maxval, 20)\n",
    "\n",
    "count = 0\n",
    "for idx in range (2) :\n",
    "    focal_pairs = cp.deepcopy (focaldict[idx]['pairs'])\n",
    "    focal_aas   = cp.deepcopy (focaldict[idx]['cript_aas'])\n",
    "    pdz_aas     = cp.deepcopy (focaldict[idx]['pdz_aas'])\n",
    "    \n",
    "    # meta p-value and compute average single ranks\n",
    "    if idx == 0 :\n",
    "        metaP = cp.deepcopy (meta_P1)        \n",
    "        y_rank = np.zeros_like (ysing_1)\n",
    "        for i in range (nreps) :\n",
    "            y_rank[:,i] = compute_mean_ranks (ysing_1[:,i])\n",
    "            \n",
    "            \n",
    "        lig_rank = np.zeros_like (lsing_1)\n",
    "        for i in range (nreps) :\n",
    "            lig_rank[:,i] = compute_mean_ranks (lsing_1[:,i])\n",
    "    else :\n",
    "        metaP = cp.deepcopy (meta_P2)        \n",
    "        y_rank = np.zeros_like (ysing_2)\n",
    "        for i in range (nreps) :\n",
    "            y_rank[:,i] = compute_mean_ranks (ysing_2[:,i])\n",
    "            \n",
    "        lig_rank = np.zeros_like (lsing_2)\n",
    "        for i in range (nreps) :\n",
    "            lig_rank[:,i] = compute_mean_ranks (lsing_2[:,i])\n",
    "\n",
    "\n",
    "    Dmean  = np.nanmean (Dsyms[idx,:,:,:], axis=2)\n",
    "    Rmean  = np.nanmean (Rmats[idx,:,:,:], axis=2)\n",
    "    RLmean = np.nanmean (RLmats[idx,:,:,:], axis=2)\n",
    "    Ymean  = np.nanmean (y_rank, axis=1)\n",
    "    Lmean  = np.nanmean (lig_rank, axis=1)\n",
    "\n",
    "    identity     = np.linspace (0, np.nanmax (Ymean), 20)\n",
    "    identity_lig = np.linspace (0, np.nanmax (Lmean), 20)\n",
    "    \n",
    "    Davg = np.nanmean (Dsyms[idx,:,:,:], axis=2)\n",
    "    Dsign = cp.deepcopy (Davg)\n",
    "    Dsign[Davg < 0] = -1\n",
    "    Dsign[Davg > 0] = 1\n",
    "    Dsign[metaP > .1] = np.nan\n",
    "\n",
    "    avgSign = np.zeros ((ncript, npos))\n",
    "    for i in range (ncript) :\n",
    "        for j in range (npos) :\n",
    "            avgSign[i,j] = np.nanmean (Dsign[i*nAA:(i*nAA + nAA),:][:,j*nAA:(j*nAA + nAA)])\n",
    "\n",
    "    ct = 0\n",
    "    for pair in focaldict[idx]['pairs'] :\n",
    "        j_i, f_i = cp.deepcopy (pair)\n",
    "        aa_i     = focaldict[idx]['pdz_aas'][ct]   # pdz aa\n",
    "        aalig_i  = focaldict[idx]['cript_aas'][ct] # ligand aa\n",
    "        \n",
    "        # (3) Plot pdz ranks\n",
    "        gray = axs[2,count].scatter (Ymean, Rmean[j_i*nAA + aalig_i,:], c=metaP[j_i*nAA + aalig_i,:], cmap='gray',\n",
    "                                     norm=mpl.colors.LogNorm (vmin=np.nanmin (metaP), vmax=1),\n",
    "                                     alpha=1., edgecolor='black', linewidth=.1, s=5) \n",
    "\n",
    "        pink = axs[2,count].scatter (Ymean[f_i*nAA:(f_i*nAA + nAA)],\n",
    "                                     Rmean[j_i*nAA + aalig_i, f_i*nAA:(f_i*nAA + nAA)],\n",
    "                                     edgecolor=spec( norm (avgSign[j_i,f_i])),\n",
    "                                     cmap='gray', c=metaP[j_i*nAA + aalig_i,f_i*nAA:(f_i*nAA + nAA)],\n",
    "                                     norm=mpl.colors.LogNorm (vmin=np.nanmin (metaP), vmax=1),\n",
    "                                     alpha=1., linewidth=.3, s=10)\n",
    "        offsetx = 0\n",
    "        offsety = 0\n",
    "        for j in range (nAA) :\n",
    "                if ~np.isnan (metaP[j_i*nAA + aalig_i,f_i*nAA + j]) :\n",
    "                    if count == 2 and Rmean[j_i*nAA + aalig_i,f_i*nAA + j] > 700 :\n",
    "                        offsetx = np.random.uniform (-50,50)\n",
    "                        offsety = np.random.uniform (-50,-20)\n",
    "\n",
    "                        \n",
    "                    axs[2,count].annotate ( aas[j],\n",
    "                                         (Ymean[f_i*nAA + j] + offsetx,\n",
    "                                          Rmean[j_i*nAA + aalig_i,f_i*nAA + j] + offsety),\n",
    "                                          fontsize=6, color='black', zorder=1)#color=spec( norm (avgsign)))\n",
    "\n",
    "                    ymin_j = np.nanmin ([Rmean[j_i*nAA + aalig_i, f_i*nAA + j], Ymean[f_i*nAA + j]])\n",
    "                    ymax_j = np.nanmax ([Rmean[j_i*nAA + aalig_i, f_i*nAA + j], Ymean[f_i*nAA + j]])\n",
    "                    vals = np.linspace (ymin_j, ymax_j, 10)\n",
    "\n",
    "                    axs[2,count].plot ( np.repeat (Ymean[f_i*nAA + j], 10), vals, linestyle='dashed',\n",
    "                                        color=spec( norm (avgSign[j_i,f_i])), linewidth=.3 )\n",
    "\n",
    "        axs[2,count].plot ( identity, identity, linewidth=.5, linestyle='--', color='black')\n",
    "        axs[2,count].set_xticks ( np.arange (0,np.nanmax (Ymean)+1,200),\n",
    "                                  np.array (np.arange (0,np.nanmax (Ymean)+1,200), dtype=int),\n",
    "                                  rotation=0, fontsize=6)\n",
    "        axs[2,count].set_yticks ( np.arange (0,np.nanmax (Ymean)+1,200),\n",
    "                                  np.array (np.arange (0,np.nanmax (Ymean)+1,200), dtype=int),\n",
    "                                  fontsize=6)\n",
    "\n",
    "        # axis labels and parameters\n",
    "        axs[2,count].set_xlabel (r'PDZ3 $\\bar R_{j(\\ell)}$', labelpad=.5, fontsize=8)\n",
    "        axs[2,count].locator_params(axis='x', nbins=5)\n",
    "        axs[2,count].tick_params (length=2)\n",
    "        axs[2,count].xaxis.set_tick_params (pad=2)\n",
    "        axs[2,count].yaxis.set_tick_params (pad=1.5)\n",
    "        if count == 0 :\n",
    "            axs[2,count].set_ylabel (r'$\\bar R_{i(k),j(\\ell)}$', labelpad=.5, fontsize=8)\n",
    "\n",
    "        axs[2,count].annotate (lig_labels[j_i] + '(' + aas[aalig_i] + ')', (600,10), fontsize=6)\n",
    "        \n",
    "        count += 1\n",
    "        ct += 1\n",
    "\n",
    "\n",
    "if save :\n",
    "    plt.savefig ( os.path.join (outdir, 'fig4_i_all.svg'),\n",
    "                  bbox_inches='tight', format='svg', transparent=True, dpi=600)\n",
    "    plt.close ()\n",
    "else :\n",
    "    plt.show ()"
   ]
  },
  {
   "cell_type": "code",
   "execution_count": 30,
   "id": "8d752abb",
   "metadata": {},
   "outputs": [
    {
     "data": {
      "text/plain": [
       "8.270715272706841e-05"
      ]
     },
     "execution_count": 30,
     "metadata": {},
     "output_type": "execute_result"
    }
   ],
   "source": [
    "np.nanmin (metaP)"
   ]
  },
  {
   "cell_type": "code",
   "execution_count": 31,
   "id": "57db05cb",
   "metadata": {},
   "outputs": [],
   "source": [
    "plt.rcParams[\"figure.figsize\"] = (1.5,1.5)\n",
    "\n",
    "fig, ax = plt.subplots ()\n",
    "gray = ax.scatter (Lmean, RLmean[:,0], c=metaP[:,0], cmap='gray',\n",
    "                             norm=mpl.colors.LogNorm (vmin=np.nanmin (metaP), vmax=1),\n",
    "                             alpha=1., edgecolor='black', linewidth=.1, s=5)\n",
    "cbar = fig.colorbar (gray, ax=ax, shrink=0.5, aspect=13)\n",
    "cbar.set_label ( r'meta $p$-value, $\\tilde p_{ij}$', labelpad=6, size=6)\n",
    "cbar.set_ticks (np.logspace (-4, 0, 3))\n",
    "cbar.ax.tick_params (labelsize=6, length=3, pad=1)\n",
    "\n",
    "\n",
    "if save :\n",
    "    plt.savefig ( os.path.join (outdir, 'fig4_e_colorbar.svg'),\n",
    "                  bbox_inches='tight', format='svg', transparent=True, dpi=600)\n",
    "    plt.close ()\n",
    "else :\n",
    "    plt.show ()"
   ]
  },
  {
   "cell_type": "code",
   "execution_count": 32,
   "id": "8813e53a",
   "metadata": {},
   "outputs": [],
   "source": [
    "Rmats_1  = np.zeros_like (ydoub_1)\n",
    "Rmats_2  = np.zeros_like (ydoub_2)\n",
    "y_rank_1 = np.zeros_like (ysing_1)\n",
    "y_rank_2 = np.zeros_like (ysing_2)\n",
    "Rlmats_1 = np.zeros_like (np.transpose (ydoub_1, axes=(1,0,2)))\n",
    "Rlmats_2 = np.zeros_like (np.transpose (ydoub_2, axes=(1,0,2)))\n",
    "lig_rank_1 = np.zeros_like (lsing_1)\n",
    "lig_rank_2 = np.zeros_like (lsing_2)\n",
    "for i in range (nreps) :\n",
    "    Rmats_1[:,:,i]     = compute_transformed_Rmat (ydoub_1[:,:,i], M=np.sum (~np.isnan (ysing_1[:,i])) - 1)\n",
    "    Rlmats_1[:,:,i]    = compute_transformed_Rmat (np.transpose (ydoub_1[:,:,i]), M=np.sum (~np.isnan (lsing_1[:,i])) - 1)\n",
    "    Rmats_2[:,:,i]     = compute_transformed_Rmat (ydoub_2[:,:,i], M=np.sum (~np.isnan (ysing_2[:,i])) - 1)\n",
    "    Rlmats_2[:,:,i]    = compute_transformed_Rmat (np.transpose (ydoub_2[:,:,i]), M=np.sum (~np.isnan (lsing_2[:,i])) - 1)\n",
    "    y_rank_1[:,i]      = compute_mean_ranks (ysing_1[:,i])\n",
    "    y_rank_2[:,i]      = compute_mean_ranks (ysing_2[:,i])\n",
    "\n",
    "    lig_rank_1[:,i]      = compute_mean_ranks (lsing_1[:,i])\n",
    "    lig_rank_2[:,i]      = compute_mean_ranks (lsing_2[:,i])\n"
   ]
  },
  {
   "cell_type": "code",
   "execution_count": 33,
   "id": "a9c8145a",
   "metadata": {},
   "outputs": [],
   "source": [
    "if (6,345-start_1) not in focaldict[0]['pairs'] :\n",
    "    focaldict[0]['pairs'].append ((6,345-start_1))"
   ]
  },
  {
   "cell_type": "code",
   "execution_count": 34,
   "id": "a885733f",
   "metadata": {
    "scrolled": false
   },
   "outputs": [
    {
     "name": "stderr",
     "output_type": "stream",
     "text": [
      "/var/folders/38/f4j79l017855c4b93219m3bh0000gp/T/ipykernel_5081/1949186922.py:14: RuntimeWarning: Mean of empty slice\n",
      "  ymean = 10**np.nanmean (np.log10 (ysing_1), axis=1)\n",
      "/var/folders/38/f4j79l017855c4b93219m3bh0000gp/T/ipykernel_5081/1949186922.py:15: RuntimeWarning: Mean of empty slice\n",
      "  yrank = np.nanmean (y_rank_1, axis=1)\n",
      "/var/folders/38/f4j79l017855c4b93219m3bh0000gp/T/ipykernel_5081/1949186922.py:16: RuntimeWarning: Mean of empty slice\n",
      "  ydoub = 10**np.nanmean ( np.log10 (ydoub_1), axis=2)\n",
      "/var/folders/38/f4j79l017855c4b93219m3bh0000gp/T/ipykernel_5081/1949186922.py:19: RuntimeWarning: Mean of empty slice\n",
      "  lrank = np.nanmean (lig_rank_1, axis=1)\n",
      "/var/folders/38/f4j79l017855c4b93219m3bh0000gp/T/ipykernel_5081/1949186922.py:20: RuntimeWarning: Mean of empty slice\n",
      "  lmean = np.nanmean (lsing_1, axis=1)\n",
      "/var/folders/38/f4j79l017855c4b93219m3bh0000gp/T/ipykernel_5081/1949186922.py:35: RuntimeWarning: Mean of empty slice\n",
      "  Dmean  = np.nanmean (Dsyms[idx,:,:,:], axis=2)\n"
     ]
    },
    {
     "name": "stdout",
     "output_type": "stream",
     "text": [
      "2.796837156628841\n",
      "(5, 27)\n",
      "alpha: 0.01\n",
      "(6, 39)\n",
      "alpha: 0.01\n",
      "(6, 42)\n",
      "alpha: 0.01\n"
     ]
    },
    {
     "name": "stderr",
     "output_type": "stream",
     "text": [
      "/var/folders/38/f4j79l017855c4b93219m3bh0000gp/T/ipykernel_5081/1949186922.py:26: RuntimeWarning: Mean of empty slice\n",
      "  ymean = 10**np.nanmean (np.log10 (ysing_2), axis=1)\n",
      "/var/folders/38/f4j79l017855c4b93219m3bh0000gp/T/ipykernel_5081/1949186922.py:27: RuntimeWarning: Mean of empty slice\n",
      "  yrank = np.nanmean (y_rank_2, axis=1)\n",
      "/var/folders/38/f4j79l017855c4b93219m3bh0000gp/T/ipykernel_5081/1949186922.py:28: RuntimeWarning: Mean of empty slice\n",
      "  ydoub = 10**np.nanmean ( np.log10 (ydoub_2), axis=2)\n",
      "/var/folders/38/f4j79l017855c4b93219m3bh0000gp/T/ipykernel_5081/1949186922.py:32: RuntimeWarning: Mean of empty slice\n",
      "  lrank = np.nanmean (lig_rank_2, axis=1)\n",
      "/var/folders/38/f4j79l017855c4b93219m3bh0000gp/T/ipykernel_5081/1949186922.py:33: RuntimeWarning: Mean of empty slice\n",
      "  lmean = np.nanmean (lsing_2, axis=1)\n",
      "/var/folders/38/f4j79l017855c4b93219m3bh0000gp/T/ipykernel_5081/1949186922.py:35: RuntimeWarning: Mean of empty slice\n",
      "  Dmean  = np.nanmean (Dsyms[idx,:,:,:], axis=2)\n"
     ]
    },
    {
     "name": "stdout",
     "output_type": "stream",
     "text": [
      "5.70900248414204\n",
      "(5, 19)\n",
      "alpha: 0.01\n"
     ]
    }
   ],
   "source": [
    "plt.rcParams[\"figure.figsize\"] = (3,3)\n",
    "\n",
    "alpha = .01\n",
    "for idx in range (2) :\n",
    "    \n",
    "    #alpha = alpha_enrich[idx,0]\n",
    "    \n",
    "    focal_pairs = cp.deepcopy (focaldict[idx]['pairs'])\n",
    "    start = [start_1, start_2][idx]\n",
    "    offset = [0,50][idx]\n",
    "    \n",
    "    if idx == 0 :\n",
    "        metaP = cp.deepcopy (meta_P1)\n",
    "        ymean = 10**np.nanmean (np.log10 (ysing_1), axis=1)\n",
    "        yrank = np.nanmean (y_rank_1, axis=1)\n",
    "        ydoub = 10**np.nanmean ( np.log10 (ydoub_1), axis=2)\n",
    "        y_wt  = 10**np.nanmean (np.log10 ( (n1_wt_1 + 1) / (n0_wt_1 + 1)))\n",
    "        \n",
    "        lrank = np.nanmean (lig_rank_1, axis=1)\n",
    "        lmean = np.nanmean (lsing_1, axis=1)\n",
    "\n",
    "\n",
    "        print (y_wt)\n",
    "    else :\n",
    "        metaP = cp.deepcopy (meta_P2)\n",
    "        ymean = 10**np.nanmean (np.log10 (ysing_2), axis=1)\n",
    "        yrank = np.nanmean (y_rank_2, axis=1)\n",
    "        ydoub = 10**np.nanmean ( np.log10 (ydoub_2), axis=2)\n",
    "        y_wt  = 10**np.nanmean (np.log10 ( (n1_wt_2 + 1) / (n0_wt_2 + 1)))\n",
    "        print (y_wt)\n",
    "        \n",
    "        lrank = np.nanmean (lig_rank_2, axis=1)\n",
    "        lmean = np.nanmean (lsing_2, axis=1)\n",
    "\n",
    "    Dmean  = np.nanmean (Dsyms[idx,:,:,:], axis=2)\n",
    "    for i in focal_pairs :\n",
    "        l2 = i[1]\n",
    "        l1 = i[0]\n",
    "        print ((l1, l2))\n",
    "        \n",
    "        # AA X AA\n",
    "        plt.rcParams[\"figure.figsize\"] = (3,3)\n",
    "\n",
    "        fig, ax = plt.subplots ()\n",
    "        maxval = np.nanmax (np.abs (Dmean[l1*nAA:(l1*nAA + nAA-1),:][:,l2*nAA:(l2*nAA + nAA-1)]))\n",
    "        daa    = ax.imshow (Dmean[l1*nAA:(l1*nAA + nAA-1),:][:,l2*nAA:(l2*nAA + nAA-1)], vmin=-maxval, vmax=maxval,\n",
    "                         cmap='Spectral')\n",
    "        fig.colorbar (daa, ax=ax, shrink=0.6, label=r'$\\hat D_{ij}$')\n",
    "\n",
    "        print ('alpha: ' + str (alpha))\n",
    "        x, y = np.where (metaP[l1*nAA:(l1*nAA + nAA-1),:][:,l2*nAA:(l2*nAA + nAA-1)] <= alpha)\n",
    "        for i in range (len (x)) :\n",
    "            ax.add_patch( Rectangle((y[i]-.5, x[i]-.5), 1, 1, fill=False,lw=1.))# label=r'$\\leq 5\\AA$')\n",
    "            \n",
    "        x, y = np.where (metaP[l1*nAA:(l1*nAA + nAA-1),:][:,l2*nAA:(l2*nAA + nAA-1)] <= alpha*10)\n",
    "        for i in range (len (x)) :\n",
    "            ax.add_patch( Rectangle((y[i]-.5, x[i]-.5), 1, 1, fill=False,lw=.5, linestyle='dotted'))# label=r'$\\leq 5\\AA$')\n",
    "        \n",
    "        x, y = np.where (ydoub[l1*nAA:(l1*nAA + nAA-1),:][:,l2*nAA:(l2*nAA + nAA-1)] >= y_wt)\n",
    "        for i in range (len (x)) :\n",
    "            ax.scatter (y[i], x[i], s=.5, color='dimgray')\n",
    "        \n",
    "        ax.tick_params (length=2)\n",
    "        ax.xaxis.set_tick_params (pad=2)\n",
    "        ax.yaxis.set_tick_params (pad=1.5)\n",
    "        plt.xticks (np.arange (0,nAA-1,1), aas[:-1], fontsize=6)\n",
    "        plt.yticks (np.arange (0,nAA-1,1), aas[:-1], fontsize=6)\n",
    "        plt.ylabel ('CRIPT ' + lig_labels[l1])\n",
    "        plt.xlabel ('PDZ ' + pdz_wt_full[l2+offset] + str (l2+start))\n",
    "\n",
    "        if save :\n",
    "            plt.savefig ( os.path.join (outdir, str (l2+start) + '_' + str (l1) + '.pdf'),\n",
    "                         bbox_inches='tight',  dpi=600)\n",
    "            plt.close ()\n",
    "        else :\n",
    "            plt.show ()\n",
    "            \n",
    "        "
   ]
  },
  {
   "cell_type": "code",
   "execution_count": 35,
   "id": "76aad006",
   "metadata": {
    "scrolled": false
   },
   "outputs": [
    {
     "data": {
      "image/png": "[encoded data removed]",
      "text/plain": [
       "<Figure size 300x300 with 1 Axes>"
      ]
     },
     "metadata": {},
     "output_type": "display_data"
    },
    {
     "data": {
      "image/png": "[encoded data removed]",
      "text/plain": [
       "<Figure size 300x300 with 1 Axes>"
      ]
     },
     "metadata": {},
     "output_type": "display_data"
    },
    {
     "data": {
      "image/png": "[encoded data removed]",
      "text/plain": [
       "<Figure size 300x300 with 1 Axes>"
      ]
     },
     "metadata": {},
     "output_type": "display_data"
    },
    {
     "name": "stdout",
     "output_type": "stream",
     "text": [
      "R\n",
      "0.012968053574093807\n",
      "[0.06393606 0.09190809 0.05294705]\n",
      "[0.36363636 0.29166667 0.24242424]\n",
      "[32. 23. 32.]\n",
      "[11.  6.  7.]\n",
      "\n",
      "0.012968053574093807\n",
      "K\n",
      "0.04156026201026608\n",
      "[0.14585415 0.01198801 0.82017982]\n",
      "[0.11538462 0.8125     0.02631579]\n",
      "[25. 31. 37.]\n",
      "[ 2. 25.  0.]\n",
      "\n",
      "0.04156026201026608\n",
      "34.734728357618515\n",
      "9982\n",
      "36.12277316397981\n",
      "8271\n",
      "27.565419584912934\n",
      "11164\n"
     ]
    }
   ],
   "source": [
    "widxs = [x for x in range (len (aas)) if aas[x] in ['R','K']]\n",
    "tlidx = [x for x in range (len (aas)) if aas[x] in ['V']]\n",
    "\n",
    "for r in range (nreps) :\n",
    "    plt.scatter (Dsyms[1,:,:,r], Pvals[1,:,:,r], s=1)\n",
    "\n",
    "    for i in range (2) :\n",
    "        plt.scatter (Dsyms[1,5*nAA + widxs[i],19*nAA + tlidx[0],r],\n",
    "                     Pvals[1,5*nAA + widxs[i],19*nAA + tlidx[0],r], s=20, color='orange')\n",
    "    plt.show ()\n",
    "\n",
    "\n",
    "for i in range (2) :\n",
    "    print (aas[widxs[i]])\n",
    "    print (meta_P2[5*nAA + widxs[i],19*nAA + tlidx[0]])\n",
    "    print (Pvals[1,5*nAA + widxs[i],19*nAA + tlidx[0],:])\n",
    "    print (ydoub_2[5*nAA + widxs[i],19*nAA + tlidx[0]])\n",
    "    print (n0_doub_2[5*nAA + widxs[i],19*nAA + tlidx[0]])\n",
    "    print (n1_doub_2[5*nAA + widxs[i],19*nAA + tlidx[0]])\n",
    "    print ()\n",
    "    \n",
    "    mp = -2*np.sum (np.log (Pvals[1,5*nAA + widxs[i],19*nAA + tlidx[0],:]) )\n",
    "    print (1-scipy.stats.chi2.cdf (mp, df=2*3))\n",
    "    \n",
    "for i in range (nreps) :\n",
    "    print (np.nanmean (n1_doub_2[:,:,i]))\n",
    "    print (np.sum (n1_doub_2[:,:,i] == 0))\n"
   ]
  },
  {
   "cell_type": "code",
   "execution_count": 36,
   "id": "8c71e10b",
   "metadata": {},
   "outputs": [
    {
     "name": "stdout",
     "output_type": "stream",
     "text": [
      "\n"
     ]
    },
    {
     "name": "stderr",
     "output_type": "stream",
     "text": [
      "/var/folders/38/f4j79l017855c4b93219m3bh0000gp/T/ipykernel_5081/880018153.py:2: RuntimeWarning: Mean of empty slice\n",
      "  positive=True, Sign=np.nanmean (Dsyms[1,:,:,:], axis=2))\n"
     ]
    }
   ],
   "source": [
    "Eplus_2, Eplustot_2 = compute_enrichment (meta_P2, alpha=alpha_enrich[1,0],\n",
    "                                          positive=True, Sign=np.nanmean (Dsyms[1,:,:,:], axis=2))\n",
    "\n",
    "print ()"
   ]
  },
  {
   "cell_type": "code",
   "execution_count": 37,
   "id": "4780d7c9",
   "metadata": {},
   "outputs": [
    {
     "name": "stdout",
     "output_type": "stream",
     "text": [
      "53.0\n",
      "73.0\n",
      "78.0\n",
      "53.0\n"
     ]
    }
   ],
   "source": [
    "for r in range (nreps) :\n",
    "    E_r, T_r = compute_enrichment (Pvals[1,:,:,r], alpha=.1, positive=True, Sign=Dsyms[1,:,:,r])\n",
    "    for k in focaldict[1]['pairs'] :\n",
    "        print (T_r[k[0],k[1]])\n",
    "        \n",
    "E_r, T_r = compute_enrichment (meta_P2, alpha=alpha_enrich[1,0], positive=True, Sign=Dsyms[1,:,:,r])\n",
    "for k in focaldict[1]['pairs'] :\n",
    "    print (T_r[k[0],k[1]])"
   ]
  },
  {
   "cell_type": "code",
   "execution_count": null,
   "id": "d344a986",
   "metadata": {},
   "outputs": [],
   "source": []
  },
  {
   "cell_type": "code",
   "execution_count": 38,
   "id": "ad20508c",
   "metadata": {},
   "outputs": [],
   "source": [
    "n0_doub = np.column_stack ([n0_doub_1, n0_doub_2])\n",
    "n1_doub = np.column_stack ([n1_doub_1, n1_doub_2])\n",
    "ysing   = np.row_stack ([ysing_1, ysing_2])\n",
    "lsing   = np.row_stack ([lsing_1, lsing_2])"
   ]
  },
  {
   "cell_type": "code",
   "execution_count": 39,
   "id": "6f76e04f",
   "metadata": {},
   "outputs": [
    {
     "data": {
      "text/plain": [
       "(336, 3)"
      ]
     },
     "execution_count": 39,
     "metadata": {},
     "output_type": "execute_result"
    }
   ],
   "source": [
    "lsing.shape"
   ]
  },
  {
   "cell_type": "code",
   "execution_count": 40,
   "id": "421f9a18",
   "metadata": {},
   "outputs": [
    {
     "name": "stdout",
     "output_type": "stream",
     "text": [
      "1806\n"
     ]
    }
   ],
   "source": [
    "Llig, L, nreps = n0_doub.shape\n",
    "nlig = int (Llig / nAA)\n",
    "npos = int (L / nAA)\n",
    "print (L)"
   ]
  },
  {
   "cell_type": "code",
   "execution_count": 41,
   "id": "f9b77339",
   "metadata": {},
   "outputs": [
    {
     "name": "stdout",
     "output_type": "stream",
     "text": [
      "154\n"
     ]
    },
    {
     "name": "stderr",
     "output_type": "stream",
     "text": [
      "/var/folders/38/f4j79l017855c4b93219m3bh0000gp/T/ipykernel_5081/732080362.py:3: RuntimeWarning: Mean of empty slice\n",
      "  Ydmean  = np.nanmean (Ydreads, axis=2)\n"
     ]
    }
   ],
   "source": [
    "# Y estimates without pseudo counts\n",
    "Ydreads = (n1_doub / n0_doub)\n",
    "Ydmean  = np.nanmean (Ydreads, axis=2)\n",
    "\n",
    "# maximum number of observations in a given background\n",
    "M = np.max (np.sum (~np.isnan (Ydreads), axis=0))\n",
    "print (M)"
   ]
  },
  {
   "cell_type": "code",
   "execution_count": 42,
   "id": "9842366e",
   "metadata": {},
   "outputs": [
    {
     "data": {
      "text/plain": [
       "(168, 3)"
      ]
     },
     "execution_count": 42,
     "metadata": {},
     "output_type": "execute_result"
    }
   ],
   "source": [
    "lsing_1.shape"
   ]
  },
  {
   "cell_type": "code",
   "execution_count": 43,
   "id": "167f5b6b",
   "metadata": {},
   "outputs": [
    {
     "name": "stderr",
     "output_type": "stream",
     "text": [
      "/var/folders/38/f4j79l017855c4b93219m3bh0000gp/T/ipykernel_5081/4030595305.py:13: RuntimeWarning: Mean of empty slice\n",
      "  rbar_rank[:,i]     = compute_mean_ranks (np.nanmean (Rmats[:,:,i], axis=0))\n"
     ]
    }
   ],
   "source": [
    "# compute residuals wrt rbar\n",
    "y_rank          = np.zeros_like (ysing)\n",
    "lig_rank_1      = np.zeros_like (lsing_1)\n",
    "lig_rank_2      = np.zeros_like (lsing_2)\n",
    "rbar_rank       = np.zeros_like (ysing)\n",
    "rbar_lig_rank_1 = np.zeros_like (lsing_1)\n",
    "Rmats           = np.zeros ( (Llig, L, nreps) )\n",
    "Rlmats          = np.zeros ( (L, Llig, nreps) )\n",
    "for i in range (nreps) :\n",
    "    Rmats[:,:,i]       = compute_transformed_Rmat (Ydreads[:,:,i], M=np.sum (~np.isnan (ysing[:,i])) - 1)\n",
    "    Rlmats[:,:,i]      = compute_transformed_Rmat (np.transpose (Ydreads[:,:,i]), M=np.sum (~np.isnan (lsing[:,i])) - 1)\n",
    "    y_rank[:,i]        = compute_mean_ranks (ysing[:,i])\n",
    "    rbar_rank[:,i]     = compute_mean_ranks (np.nanmean (Rmats[:,:,i], axis=0))\n",
    "    lig_rank_1[:,i]      = compute_mean_ranks (lsing_1[:,i])\n",
    "    lig_rank_2[:,i]      = compute_mean_ranks (lsing_2[:,i])\n",
    "\n",
    "    #rbar_lig_rank[:,i] = compute_mean_ranks (np.nanmean (Rlmats[:,:,i], axis=0))"
   ]
  },
  {
   "cell_type": "code",
   "execution_count": 44,
   "id": "a8389e2d",
   "metadata": {},
   "outputs": [
    {
     "name": "stderr",
     "output_type": "stream",
     "text": [
      "/var/folders/38/f4j79l017855c4b93219m3bh0000gp/T/ipykernel_5081/3354662924.py:2: RuntimeWarning: Mean of empty slice\n",
      "  Rmean   = np.nanmean (Rmats, axis=2)\n",
      "/var/folders/38/f4j79l017855c4b93219m3bh0000gp/T/ipykernel_5081/3354662924.py:3: RuntimeWarning: Mean of empty slice\n",
      "  Rmean_t = np.nanmean (Rlmats, axis=2)\n"
     ]
    }
   ],
   "source": [
    "# average over rank matrices\n",
    "Rmean   = np.nanmean (Rmats, axis=2)\n",
    "Rmean_t = np.nanmean (Rlmats, axis=2)"
   ]
  },
  {
   "cell_type": "code",
   "execution_count": 45,
   "id": "caf72857",
   "metadata": {},
   "outputs": [
    {
     "name": "stdout",
     "output_type": "stream",
     "text": [
      "['dimgray' 'dimgray' 'dimgray' ... 'lightgray' 'lightgray' 'lightgray']\n"
     ]
    }
   ],
   "source": [
    "L_b1 = ysing_1.shape[0]\n",
    "L_b2 = ysing_2.shape[0]\n",
    "\n",
    "blocks = np.repeat (['dimgray'], L_b1)\n",
    "blocks = np.concatenate ( [blocks, np.repeat (['lightgray'], L_b2)] )\n",
    "print (blocks)"
   ]
  },
  {
   "cell_type": "code",
   "execution_count": 46,
   "id": "551be78e",
   "metadata": {},
   "outputs": [
    {
     "name": "stderr",
     "output_type": "stream",
     "text": [
      "/var/folders/38/f4j79l017855c4b93219m3bh0000gp/T/ipykernel_5081/2576802826.py:6: RuntimeWarning: Mean of empty slice\n",
      "  axs[0,0].hist (np.nanmean (y_rank, axis=1)[:L_b1], bins=bins,\n",
      "/var/folders/38/f4j79l017855c4b93219m3bh0000gp/T/ipykernel_5081/2576802826.py:8: RuntimeWarning: Mean of empty slice\n",
      "  axs[0,0].hist (np.nanmean (y_rank, axis=1)[L_b1:], bins=bins,\n",
      "/var/folders/38/f4j79l017855c4b93219m3bh0000gp/T/ipykernel_5081/2576802826.py:11: RuntimeWarning: Mean of empty slice\n",
      "  axs[1,0].hist (np.nanmean (Rmean, axis=0)[:L_b1], bins=bins,\n",
      "/var/folders/38/f4j79l017855c4b93219m3bh0000gp/T/ipykernel_5081/2576802826.py:13: RuntimeWarning: Mean of empty slice\n",
      "  axs[1,0].hist (np.nanmean (Rmean, axis=0)[L_b1:], bins=bins,\n",
      "/var/folders/38/f4j79l017855c4b93219m3bh0000gp/T/ipykernel_5081/2576802826.py:23: RuntimeWarning: Mean of empty slice\n",
      "  maxval = np.nanmax ([np.nanmax (np.nanmean (n0_sing_1, axis=1)),\n",
      "/var/folders/38/f4j79l017855c4b93219m3bh0000gp/T/ipykernel_5081/2576802826.py:24: RuntimeWarning: Mean of empty slice\n",
      "  np.nanmax (np.nanmean (n0_sing_2, axis=1))])\n",
      "/var/folders/38/f4j79l017855c4b93219m3bh0000gp/T/ipykernel_5081/2576802826.py:27: RuntimeWarning: Mean of empty slice\n",
      "  axs[0,1].hist (np.nanmean (n0_sing_1, axis=1), bins=bins,\n",
      "/var/folders/38/f4j79l017855c4b93219m3bh0000gp/T/ipykernel_5081/2576802826.py:29: RuntimeWarning: Mean of empty slice\n",
      "  axs[0,1].hist (np.nanmean (n0_sing_2, axis=1), bins=bins,\n",
      "/var/folders/38/f4j79l017855c4b93219m3bh0000gp/T/ipykernel_5081/2576802826.py:33: RuntimeWarning: Mean of empty slice\n",
      "  maxval = np.nanmax ([np.nanmax (np.nanmean (n0_doub_1, axis=2)),\n",
      "/var/folders/38/f4j79l017855c4b93219m3bh0000gp/T/ipykernel_5081/2576802826.py:34: RuntimeWarning: Mean of empty slice\n",
      "  np.nanmax (np.nanmean (n0_doub_2, axis=2))])\n",
      "/var/folders/38/f4j79l017855c4b93219m3bh0000gp/T/ipykernel_5081/2576802826.py:37: RuntimeWarning: Mean of empty slice\n",
      "  axs[1,1].hist (np.ndarray.flatten (np.nanmean (n0_doub_1, axis=2)), bins=bins,\n",
      "/var/folders/38/f4j79l017855c4b93219m3bh0000gp/T/ipykernel_5081/2576802826.py:39: RuntimeWarning: Mean of empty slice\n",
      "  axs[1,1].hist (np.ndarray.flatten (np.nanmean (n0_doub_2, axis=2)), bins=bins,\n"
     ]
    }
   ],
   "source": [
    "plt.rcParams[\"figure.figsize\"] = (4,3.75)\n",
    "\n",
    "fig, axs = plt.subplots (2, 2, sharey=False, constrained_layout=True)\n",
    "\n",
    "bins = np.linspace ( 0, np.nanmax (y_rank), 20)\n",
    "axs[0,0].hist (np.nanmean (y_rank, axis=1)[:L_b1], bins=bins,\n",
    "             color='dimgray', edgecolor='black', linewidth=0.05,label='$\\leq 342$')\n",
    "axs[0,0].hist (np.nanmean (y_rank, axis=1)[L_b1:], bins=bins,\n",
    "             color='lightgray', edgecolor='black', alpha=0.5, linewidth=0.05, label='$\\geq 353$')\n",
    "\n",
    "axs[1,0].hist (np.nanmean (Rmean, axis=0)[:L_b1], bins=bins,\n",
    "             color='dimgray', edgecolor='black', linewidth=0.05, label='303-342aa')\n",
    "axs[1,0].hist (np.nanmean (Rmean, axis=0)[L_b1:], bins=bins,\n",
    "             color='lightgray', edgecolor='black', alpha=0.5, linewidth=0.05, label='353-395aa')\n",
    "\n",
    "for i in range (2) :\n",
    "    axs[i,0].set_xticks ( np.arange (0, np.nanmax (y_rank), 500),\n",
    "                    np.array (np.arange (0, np.nanmax (y_rank), 500), dtype=int))\n",
    "    axs[i,0].set_xlabel ([r'$\\bar{R}_{i}^{pdz}$', r'$\\bar{R}_{ij}$'][i])\n",
    "    axs[i,0].set_ylabel ('Count')\n",
    "    \n",
    "# COLUMN 2\n",
    "maxval = np.nanmax ([np.nanmax (np.nanmean (n0_sing_1, axis=1)),\n",
    "                     np.nanmax (np.nanmean (n0_sing_2, axis=1))])\n",
    "\n",
    "bins = np.logspace ( np.log10 (10), np.log10 (maxval), 20)\n",
    "axs[0,1].hist (np.nanmean (n0_sing_1, axis=1), bins=bins,\n",
    "             color='dimgray', edgecolor='black', linewidth=0.05,label='$\\leq 342$')\n",
    "axs[0,1].hist (np.nanmean (n0_sing_2, axis=1), bins=bins,\n",
    "             color='lightgray', edgecolor='black', alpha=0.5, linewidth=0.05, label='$\\geq 353$')\n",
    "axs[0,1].legend (handlelength=1, fontsize=10, frameon=False)\n",
    "\n",
    "maxval = np.nanmax ([np.nanmax (np.nanmean (n0_doub_1, axis=2)),\n",
    "                     np.nanmax (np.nanmean (n0_doub_2, axis=2))])\n",
    "\n",
    "bins = np.logspace ( np.log10 (10), np.log10 (maxval), 20)\n",
    "axs[1,1].hist (np.ndarray.flatten (np.nanmean (n0_doub_1, axis=2)), bins=bins,\n",
    "             color='dimgray', edgecolor='black', linewidth=0.05, label='303-342aa')\n",
    "axs[1,1].hist (np.ndarray.flatten (np.nanmean (n0_doub_2, axis=2)), bins=bins,\n",
    "             color='lightgray', edgecolor='black', alpha=0.5, linewidth=0.05, label='353-395aa')\n",
    "\n",
    "for i in range (2) :\n",
    "    axs[i,1].set_xscale ('log')\n",
    "\n",
    "axs[0,1].set_xlabel (r'$\\bar{N}_{i}^0$') \n",
    "axs[1,1].set_xlabel (r'$\\bar{N}_{ij}^0$') \n",
    "\n",
    "ct = 0\n",
    "for i in range (2) :\n",
    "    for j in range (2) :\n",
    "        axs[i,j].set_title (['a','b','c','d'][ct], loc='left', fontweight='bold')\n",
    "        ct += 1\n",
    "    \n",
    "\n",
    "if save :\n",
    "    plt.savefig (os.path.join (outdir, 'batch_effects.pdf'), bbox_inches='tight')\n",
    "    plt.close ()\n",
    "else :\n",
    "    plt.show ()"
   ]
  },
  {
   "cell_type": "code",
   "execution_count": 47,
   "id": "feb21bb3",
   "metadata": {},
   "outputs": [
    {
     "name": "stderr",
     "output_type": "stream",
     "text": [
      "/var/folders/38/f4j79l017855c4b93219m3bh0000gp/T/ipykernel_5081/1850474272.py:1: RuntimeWarning: Mean of empty slice\n",
      "  rbar_1 = transform_ranks (compute_mean_ranks (np.nanmean (np.nanmean (Rmats_1, axis=2), axis=0)),\n",
      "/var/folders/38/f4j79l017855c4b93219m3bh0000gp/T/ipykernel_5081/1850474272.py:3: RuntimeWarning: Mean of empty slice\n",
      "  rbar_2 = transform_ranks (compute_mean_ranks (np.nanmean (np.nanmean (Rmats_2, axis=2), axis=0)),\n",
      "/var/folders/38/f4j79l017855c4b93219m3bh0000gp/T/ipykernel_5081/1850474272.py:5: RuntimeWarning: Mean of empty slice\n",
      "  rbar_lig_1 = transform_ranks (compute_mean_ranks (np.nanmean (np.nanmean (Rlmats_1, axis=2), axis=0)),\n",
      "/var/folders/38/f4j79l017855c4b93219m3bh0000gp/T/ipykernel_5081/1850474272.py:7: RuntimeWarning: Mean of empty slice\n",
      "  rbar_lig_2 = transform_ranks (compute_mean_ranks (np.nanmean (np.nanmean (Rlmats_2, axis=2), axis=0)),\n"
     ]
    }
   ],
   "source": [
    "rbar_1 = transform_ranks (compute_mean_ranks (np.nanmean (np.nanmean (Rmats_1, axis=2), axis=0)),\n",
    "                          M=np.nanmax (y_rank_1))\n",
    "rbar_2 = transform_ranks (compute_mean_ranks (np.nanmean (np.nanmean (Rmats_2, axis=2), axis=0)),\n",
    "                          M=np.nanmax (y_rank_2))\n",
    "rbar_lig_1 = transform_ranks (compute_mean_ranks (np.nanmean (np.nanmean (Rlmats_1, axis=2), axis=0)),\n",
    "                          M=np.nanmax (lig_rank_1))\n",
    "rbar_lig_2 = transform_ranks (compute_mean_ranks (np.nanmean (np.nanmean (Rlmats_2, axis=2), axis=0)),\n",
    "                          M=np.nanmax (lig_rank_2))"
   ]
  },
  {
   "cell_type": "code",
   "execution_count": 48,
   "id": "131e79f1",
   "metadata": {},
   "outputs": [
    {
     "name": "stdout",
     "output_type": "stream",
     "text": [
      "(2, 168, 903, 3)\n"
     ]
    }
   ],
   "source": [
    "Dsign = cp.deepcopy (Dsyms)\n",
    "Dsign[Dsyms > 0] = 1\n",
    "Dsign[Dsyms < 0] = -1\n",
    "print (Dsign.shape)"
   ]
  },
  {
   "cell_type": "code",
   "execution_count": 49,
   "id": "5033162e",
   "metadata": {},
   "outputs": [
    {
     "name": "stderr",
     "output_type": "stream",
     "text": [
      "/var/folders/38/f4j79l017855c4b93219m3bh0000gp/T/ipykernel_5081/3216097892.py:6: RuntimeWarning: Mean of empty slice\n",
      "  hm = axs.scatter (compute_mean_ranks (np.nanmean (y_rank_2, axis=1)), rbar_2,\n",
      "/var/folders/38/f4j79l017855c4b93219m3bh0000gp/T/ipykernel_5081/3216097892.py:7: RuntimeWarning: Mean of empty slice\n",
      "  c=np.nanmean (np.nanmean (Dsign[1,:,:,:], axis=2), axis=0),\n",
      "/var/folders/38/f4j79l017855c4b93219m3bh0000gp/T/ipykernel_5081/3216097892.py:18: RuntimeWarning: Mean of empty slice\n",
      "  maxr = np.nanmax (compute_mean_ranks (np.nanmean (y_rank_2, axis=1)))\n",
      "/var/folders/38/f4j79l017855c4b93219m3bh0000gp/T/ipykernel_5081/3216097892.py:34: RuntimeWarning: Mean of empty slice\n",
      "  hm = axs.scatter (compute_mean_ranks (np.nanmean (lig_rank_2, axis=1)), rbar_lig_2,\n",
      "/var/folders/38/f4j79l017855c4b93219m3bh0000gp/T/ipykernel_5081/3216097892.py:35: RuntimeWarning: Mean of empty slice\n",
      "  c=np.nanmean (np.nanmean (Dsign[1,:,:,:], axis=2), axis=1),\n",
      "/var/folders/38/f4j79l017855c4b93219m3bh0000gp/T/ipykernel_5081/3216097892.py:42: RuntimeWarning: Mean of empty slice\n",
      "  maxr = np.nanmax (compute_mean_ranks (np.nanmean (lig_rank, axis=1)))\n"
     ]
    }
   ],
   "source": [
    "plt.rcParams[\"figure.figsize\"] = (1, 1)\n",
    "\n",
    "fig, axs = plt.subplots ()\n",
    "\n",
    "maxval = np.nanmax (y_rank_2)\n",
    "hm = axs.scatter (compute_mean_ranks (np.nanmean (y_rank_2, axis=1)), rbar_2,\n",
    "                  c=np.nanmean (np.nanmean (Dsign[1,:,:,:], axis=2), axis=0),\n",
    "                  cmap='Spectral', vmin=-1, vmax=1, s=5,\n",
    "                  edgecolor='black', linewidth=0.05) \n",
    "axs.set_xticks ( np.arange (0, maxval, 400), np.array (np.arange (0, maxval, 400), dtype=int))\n",
    "axs.set_yticks ( np.arange (0, maxval, 400), np.array (np.arange (0, maxval, 400), dtype=int))\n",
    "axs.plot (np.linspace (0, maxval, 400), np.linspace (0, maxval, 400),\n",
    "          color='black', linestyle='dashed', linewidth=.5)\n",
    "axs.set_xlabel (r'$\\bar R_i^{pdz}$', labelpad=0, fontsize=7)\n",
    "axs.tick_params (length=2, labelsize=6, pad=1)\n",
    "axs.set_ylabel (r'Rank of $\\bar R_{\\cdot,i}$', labelpad=0, fontsize=7)\n",
    "\n",
    "maxr = np.nanmax (compute_mean_ranks (np.nanmean (y_rank_2, axis=1)))\n",
    "\n",
    "axs.annotate ('block ' + str (i+1), (.05*maxr,.9*np.nanmax (rbar_2)), size=6)\n",
    "\n",
    "\n",
    "if save :\n",
    "    plt.savefig (os.path.join (outdir, 'block_2_rank.svg'),\n",
    "                 format='svg', bbox_inches='tight', dpi=600, transparent=True)\n",
    "    plt.close ()\n",
    "else :\n",
    "    plt.show ()\n",
    "    \n",
    "# CRIPT RANK\n",
    "fig, axs = plt.subplots ()\n",
    "\n",
    "maxval  = np.nanmax (lig_rank)\n",
    "hm = axs.scatter (compute_mean_ranks (np.nanmean (lig_rank_2, axis=1)), rbar_lig_2,\n",
    "                  c=np.nanmean (np.nanmean (Dsign[1,:,:,:], axis=2), axis=1),\n",
    "                  cmap='Spectral', vmin=-1, vmax=1, s=5,\n",
    "                  edgecolor='black', linewidth=0.05) \n",
    "\n",
    "axs.set_xticks ( np.arange (0, maxval, 50), np.array (np.arange (0, maxval, 50), dtype=int))\n",
    "axs.set_yticks ( np.arange (0, maxval, 50), np.array (np.arange (0, maxval, 50), dtype=int))\n",
    "\n",
    "maxr = np.nanmax (compute_mean_ranks (np.nanmean (lig_rank, axis=1)))\n",
    "\n",
    "axs.plot (np.linspace (0, maxval, 50), np.linspace (0, maxval, 50),\n",
    "             color='black', linestyle='dashed', linewidth=.5)\n",
    "axs.annotate ('block ' + str (i+1), (.05*maxr,.9*np.nanmax ( rbar_lig_2)), size=6)\n",
    "axs.set_xlabel (r'$\\bar R_j^{cript}$', labelpad=0, fontsize=7)\n",
    "axs.tick_params (length=2, labelsize=6, pad=1)\n",
    "axs.set_xlim ( (-10,165))\n",
    "axs.set_ylim ( (-10,165))\n",
    "axs.set_ylabel (r'Rank of $\\bar R_{\\cdot,j}$', labelpad=0, fontsize=7)\n",
    "\n",
    "if save :\n",
    "    plt.savefig (os.path.join (outdir, 'block_2_ligand_rank.svg'),\n",
    "                 format='svg', bbox_inches='tight', dpi=600, transparent=True)\n",
    "    plt.close ()\n",
    "else :\n",
    "    plt.show ()"
   ]
  },
  {
   "cell_type": "code",
   "execution_count": 50,
   "id": "9033f43c",
   "metadata": {},
   "outputs": [
    {
     "name": "stderr",
     "output_type": "stream",
     "text": [
      "/var/folders/38/f4j79l017855c4b93219m3bh0000gp/T/ipykernel_5081/744515421.py:3: RuntimeWarning: Mean of empty slice\n",
      "  rbar_i = compute_mean_ranks (np.nanmean (Rmats_1[:,:,i], axis=0))\n",
      "/var/folders/38/f4j79l017855c4b93219m3bh0000gp/T/ipykernel_5081/744515421.py:5: RuntimeWarning: Mean of empty slice\n",
      "  rbar_i = compute_mean_ranks (np.nanmean (Rmats_2[:,:,i], axis=0))\n"
     ]
    },
    {
     "name": "stdout",
     "output_type": "stream",
     "text": [
      "SignificanceResult(statistic=0.9362006511874119, pvalue=0.0)\n",
      "SignificanceResult(statistic=0.9309486942559043, pvalue=0.0)\n",
      "SignificanceResult(statistic=0.9370704425460419, pvalue=0.0)\n",
      "\n",
      "Spearmans correlations between single and average double ranks:\n",
      "[0.9197552  0.92527023]\n",
      "\n",
      "Spearmans correlations for single mutants:\n",
      "SignificanceResult(statistic=0.9124479973803046, pvalue=0.0)\n",
      "SignificanceResult(statistic=0.8963702292894216, pvalue=2.6630957118746954e-298)\n",
      "SignificanceResult(statistic=0.9135084248713626, pvalue=0.0)\n"
     ]
    }
   ],
   "source": [
    "cors = np.zeros ((2, nreps))\n",
    "for i in range (nreps) :\n",
    "    rbar_i = compute_mean_ranks (np.nanmean (Rmats_1[:,:,i], axis=0))\n",
    "    cors[0,i] = scipy.stats.spearmanr ( ysing_1[:,i], rbar_i, nan_policy='omit').statistic\n",
    "    rbar_i = compute_mean_ranks (np.nanmean (Rmats_2[:,:,i], axis=0))\n",
    "    cors[1,i] = scipy.stats.spearmanr ( ysing_2[:,i], rbar_i,\n",
    "                                   nan_policy='omit').statistic\n",
    "    for j in range (i+1,nreps) :\n",
    "        print (scipy.stats.spearmanr ( np.ndarray.flatten (ydoub_1[:,:,i]),\n",
    "                                       np.ndarray.flatten (ydoub_1[:,:,j]),\n",
    "                                       nan_policy='omit'))\n",
    "        \n",
    "print ('\\nSpearmans correlations between single and average double ranks:')\n",
    "print (np.nanmean (cors, axis=1))\n",
    "\n",
    "print ('\\nSpearmans correlations for single mutants:')\n",
    "for i in range (nreps) :\n",
    "    for j in range (i+1,nreps) :\n",
    "        vals_i = cp.deepcopy (ysing_2[:,i])\n",
    "        vals_j = cp.deepcopy (ysing_2[:,j])\n",
    "        print (scipy.stats.spearmanr (vals_i, vals_j, nan_policy='omit'))"
   ]
  },
  {
   "cell_type": "code",
   "execution_count": 51,
   "id": "fcced6b3",
   "metadata": {},
   "outputs": [
    {
     "name": "stdout",
     "output_type": "stream",
     "text": [
      "SignificanceResult(statistic=0.9398514223651336, pvalue=0.0)\n",
      "SignificanceResult(statistic=0.9514481422078259, pvalue=0.0)\n"
     ]
    },
    {
     "name": "stderr",
     "output_type": "stream",
     "text": [
      "/var/folders/38/f4j79l017855c4b93219m3bh0000gp/T/ipykernel_5081/1979826339.py:6: RuntimeWarning: Mean of empty slice\n",
      "  minread = np.nanmin ( [np.nanmin (np.nanmean (n0_sing_1, axis=1)),\n",
      "/var/folders/38/f4j79l017855c4b93219m3bh0000gp/T/ipykernel_5081/1979826339.py:7: RuntimeWarning: Mean of empty slice\n",
      "  np.nanmin (np.nanmean (n0_sing_2, axis=1))])\n",
      "/var/folders/38/f4j79l017855c4b93219m3bh0000gp/T/ipykernel_5081/1979826339.py:8: RuntimeWarning: Mean of empty slice\n",
      "  maxread = np.nanmin ( [np.nanmax (np.nanmean (n0_sing_1, axis=1)),\n",
      "/var/folders/38/f4j79l017855c4b93219m3bh0000gp/T/ipykernel_5081/1979826339.py:9: RuntimeWarning: Mean of empty slice\n",
      "  np.nanmax (np.nanmean (n0_sing_2, axis=1))])\n",
      "/var/folders/38/f4j79l017855c4b93219m3bh0000gp/T/ipykernel_5081/1979826339.py:11: RuntimeWarning: Mean of empty slice\n",
      "  hm = axs[0].scatter (compute_mean_ranks (np.nanmean (y_rank_1, axis=1)), rbar_1,\n",
      "/var/folders/38/f4j79l017855c4b93219m3bh0000gp/T/ipykernel_5081/1979826339.py:12: RuntimeWarning: Mean of empty slice\n",
      "  c=np.nanmean (np.nanmean (Dsign[0,:,:,:], axis=2), axis=0),\n",
      "/var/folders/38/f4j79l017855c4b93219m3bh0000gp/T/ipykernel_5081/1979826339.py:15: RuntimeWarning: Mean of empty slice\n",
      "  axs[1].scatter (compute_mean_ranks (np.nanmean (y_rank_2, axis=1)), rbar_2,\n",
      "/var/folders/38/f4j79l017855c4b93219m3bh0000gp/T/ipykernel_5081/1979826339.py:16: RuntimeWarning: Mean of empty slice\n",
      "  c=np.nanmean (np.nanmean (Dsign[1,:,:,:], axis=2), axis=0),\n",
      "/var/folders/38/f4j79l017855c4b93219m3bh0000gp/T/ipykernel_5081/1979826339.py:22: RuntimeWarning: Mean of empty slice\n",
      "  print (scipy.stats.spearmanr (compute_mean_ranks (np.nanmean (y_rank_1, axis=1)),  rbar_1,\n",
      "/var/folders/38/f4j79l017855c4b93219m3bh0000gp/T/ipykernel_5081/1979826339.py:24: RuntimeWarning: Mean of empty slice\n",
      "  print (scipy.stats.spearmanr (compute_mean_ranks (np.nanmean (y_rank_2, axis=1)),  rbar_2,\n"
     ]
    }
   ],
   "source": [
    "plt.rcParams[\"figure.figsize\"] = (3, 1.25)\n",
    "\n",
    "fig, axs = plt.subplots (1,2, sharex=True, sharey=True, constrained_layout=True)\n",
    "\n",
    "maxval  = np.nanmax ( [np.nanmax (y_rank_1), np.nanmax (y_rank_2)] )\n",
    "minread = np.nanmin ( [np.nanmin (np.nanmean (n0_sing_1, axis=1)),\n",
    "                       np.nanmin (np.nanmean (n0_sing_2, axis=1))])\n",
    "maxread = np.nanmin ( [np.nanmax (np.nanmean (n0_sing_1, axis=1)),\n",
    "                       np.nanmax (np.nanmean (n0_sing_2, axis=1))]) \n",
    "\n",
    "hm = axs[0].scatter (compute_mean_ranks (np.nanmean (y_rank_1, axis=1)), rbar_1,\n",
    "                     c=np.nanmean (np.nanmean (Dsign[0,:,:,:], axis=2), axis=0),\n",
    "                     cmap='Spectral', vmin=-1, vmax=1, s=5,\n",
    "                     edgecolor='black', linewidth=0.01) #vmin=minread, vmax=maxread)\n",
    "axs[1].scatter (compute_mean_ranks (np.nanmean (y_rank_2, axis=1)), rbar_2,\n",
    "                c=np.nanmean (np.nanmean (Dsign[1,:,:,:], axis=2), axis=0),\n",
    "                     cmap='Spectral', vmin=-1, vmax=1, s=5,\n",
    "                     edgecolor='black', linewidth=0.01) \n",
    "cbar = fig.colorbar (hm, ax=axs[1], label=r'$\\bar{sign}(\\bar D_{ij})$')\n",
    "cbar.ax.tick_params(labelsize=6) \n",
    "\n",
    "print (scipy.stats.spearmanr (compute_mean_ranks (np.nanmean (y_rank_1, axis=1)),  rbar_1,\n",
    "                             nan_policy='omit'))\n",
    "print (scipy.stats.spearmanr (compute_mean_ranks (np.nanmean (y_rank_2, axis=1)),  rbar_2,\n",
    "                             nan_policy='omit'))\n",
    "\n",
    "for i in range (2) :\n",
    "    axs[i].set_xticks ( np.arange (0, maxval, 400), np.array (np.arange (0, maxval, 400), dtype=int))\n",
    "    axs[i].set_yticks ( np.arange (0, maxval, 400), np.array (np.arange (0, maxval, 400), dtype=int))\n",
    "\n",
    "    axs[i].plot (np.linspace (0, maxval, 400), np.linspace (0, maxval, 400),\n",
    "                 color='black', linestyle='dashed', linewidth=1)\n",
    "    axs[i].annotate ('block ' + str (i+1), (25,720))\n",
    "    axs[i].set_xlabel (r'$\\bar R_i^{pdz}$', labelpad=0)\n",
    "    axs[i].tick_params (length=2)\n",
    "    axs[i].yaxis.set_tick_params (pad=2)\n",
    "\n",
    "axs[0].set_ylabel (r'Rank of $\\bar R_{\\cdot,i}^{pdz}$', labelpad=0)\n",
    "\n",
    "if save :\n",
    "    plt.savefig (os.path.join (outdir, 'single_cor.pdf'), bbox_inches='tight', dpi=600)\n",
    "    plt.close ()\n",
    "else :\n",
    "    plt.show ()"
   ]
  },
  {
   "cell_type": "code",
   "execution_count": 52,
   "id": "33b70ad0",
   "metadata": {},
   "outputs": [
    {
     "name": "stderr",
     "output_type": "stream",
     "text": [
      "/var/folders/38/f4j79l017855c4b93219m3bh0000gp/T/ipykernel_5081/608567923.py:7: RuntimeWarning: Mean of empty slice\n",
      "  hm = axs[0].scatter (compute_mean_ranks (np.nanmean (lig_rank_1, axis=1)), rbar_lig_1,\n",
      "/var/folders/38/f4j79l017855c4b93219m3bh0000gp/T/ipykernel_5081/608567923.py:8: RuntimeWarning: Mean of empty slice\n",
      "  c=np.nanmean (np.nanmean (Dsign[0,:,:,:], axis=2), axis=1),\n",
      "/var/folders/38/f4j79l017855c4b93219m3bh0000gp/T/ipykernel_5081/608567923.py:11: RuntimeWarning: Mean of empty slice\n",
      "  axs[1].scatter (compute_mean_ranks (np.nanmean (lig_rank_2, axis=1)), rbar_lig_2,\n",
      "/var/folders/38/f4j79l017855c4b93219m3bh0000gp/T/ipykernel_5081/608567923.py:12: RuntimeWarning: Mean of empty slice\n",
      "  c=np.nanmean (np.nanmean (Dsign[1,:,:,:], axis=2), axis=1),\n"
     ]
    }
   ],
   "source": [
    "plt.rcParams[\"figure.figsize\"] = (3, 1.25)\n",
    "\n",
    "fig, axs = plt.subplots (1,2, sharex=True, sharey=True, constrained_layout=True)\n",
    "\n",
    "maxval  = np.max ( [np.nanmax (lig_rank_1), np.nanmax (lig_rank_2)] )\n",
    "\n",
    "hm = axs[0].scatter (compute_mean_ranks (np.nanmean (lig_rank_1, axis=1)), rbar_lig_1,\n",
    "                     c=np.nanmean (np.nanmean (Dsign[0,:,:,:], axis=2), axis=1),\n",
    "                     cmap='Spectral', vmin=-1, vmax=1, s=5,\n",
    "                     edgecolor='black', linewidth=0.01) #vmin=minread, vmax=maxread)\n",
    "axs[1].scatter (compute_mean_ranks (np.nanmean (lig_rank_2, axis=1)), rbar_lig_2,\n",
    "                c=np.nanmean (np.nanmean (Dsign[1,:,:,:], axis=2), axis=1),\n",
    "                     cmap='Spectral', vmin=-1, vmax=1, s=5,\n",
    "                     edgecolor='black', linewidth=0.01) \n",
    "cbar = fig.colorbar (hm, ax=axs[1], label=r'$\\bar{sign}(\\bar D_{ij})$')\n",
    "cbar.ax.tick_params(labelsize=6) \n",
    "\n",
    "for i in range (2) :\n",
    "    axs[i].set_xticks ( np.arange (0, maxval, 50), np.array (np.arange (0, maxval, 50), dtype=int))\n",
    "    axs[i].set_yticks ( np.arange (0, maxval, 50), np.array (np.arange (0, maxval, 50), dtype=int))\n",
    "\n",
    "    axs[i].plot (np.linspace (0, maxval, 50), np.linspace (0, maxval, 50),\n",
    "                 color='black', linestyle='dashed', linewidth=1)\n",
    "    axs[i].annotate ('block ' + str (i+1), (5,130))\n",
    "    axs[i].set_xlabel (r'$\\bar R_i^{cript}$', labelpad=0)\n",
    "    axs[i].tick_params (length=2)\n",
    "    axs[i].yaxis.set_tick_params (pad=2)\n",
    "\n",
    "axs[0].set_ylabel (r'Rank of $\\bar R_{\\cdot,i}$', labelpad=0)\n",
    "\n",
    "if save :\n",
    "    plt.savefig (os.path.join (outdir, 'single_ligand_cor.pdf'), bbox_inches='tight', dpi=600)\n",
    "    plt.close ()\n",
    "else :\n",
    "    plt.show ()"
   ]
  },
  {
   "cell_type": "code",
   "execution_count": 53,
   "id": "79ecf816",
   "metadata": {},
   "outputs": [
    {
     "data": {
      "text/plain": [
       "168"
      ]
     },
     "execution_count": 53,
     "metadata": {},
     "output_type": "execute_result"
    }
   ],
   "source": [
    "len (rbar_lig_1)"
   ]
  },
  {
   "cell_type": "code",
   "execution_count": 54,
   "id": "a84e50b0",
   "metadata": {},
   "outputs": [
    {
     "name": "stderr",
     "output_type": "stream",
     "text": [
      "/var/folders/38/f4j79l017855c4b93219m3bh0000gp/T/ipykernel_5081/4105027124.py:5: RuntimeWarning: Mean of empty slice\n",
      "  lig_residual_1 = rbar_lig_1 - compute_mean_ranks (np.nanmean (lig_rank_1, axis=1))\n",
      "/var/folders/38/f4j79l017855c4b93219m3bh0000gp/T/ipykernel_5081/4105027124.py:6: RuntimeWarning: Mean of empty slice\n",
      "  lig_residual_2 = rbar_lig_2 - compute_mean_ranks (np.nanmean (lig_rank_2, axis=1))\n",
      "/var/folders/38/f4j79l017855c4b93219m3bh0000gp/T/ipykernel_5081/4105027124.py:10: RuntimeWarning: Mean of empty slice\n",
      "  miny = np.nanmin (10**np.nanmean (np.log10 (lsing), axis=1))\n",
      "/var/folders/38/f4j79l017855c4b93219m3bh0000gp/T/ipykernel_5081/4105027124.py:11: RuntimeWarning: Mean of empty slice\n",
      "  maxy = np.nanmax (10**np.nanmean (np.log10 (lsing), axis=1))\n",
      "/var/folders/38/f4j79l017855c4b93219m3bh0000gp/T/ipykernel_5081/4105027124.py:13: RuntimeWarning: Mean of empty slice\n",
      "  myp = axs[0].scatter (np.nanmean (n0_cript_1, axis=1), lig_residual_1,\n",
      "/var/folders/38/f4j79l017855c4b93219m3bh0000gp/T/ipykernel_5081/4105027124.py:14: RuntimeWarning: Mean of empty slice\n",
      "  c=10**np.nanmean (np.log10 (lsing_1), axis=1),\n",
      "/var/folders/38/f4j79l017855c4b93219m3bh0000gp/T/ipykernel_5081/4105027124.py:17: RuntimeWarning: Mean of empty slice\n",
      "  xs = np.where ( np.logical_or (np.abs (lig_residual_1) > 20,np.nanmean (n0_cript_2, axis=1) < 1e3))[0]\n",
      "/var/folders/38/f4j79l017855c4b93219m3bh0000gp/T/ipykernel_5081/4105027124.py:21: RuntimeWarning: Mean of empty slice\n",
      "  (np.nanmean (n0_cript_1, axis=1)[xi]+2, lig_residual_1[xi]+2),\n",
      "/var/folders/38/f4j79l017855c4b93219m3bh0000gp/T/ipykernel_5081/4105027124.py:28: RuntimeWarning: Mean of empty slice\n",
      "  axs[1].scatter (np.nanmean (n0_cript_2, axis=1), lig_residual_2,\n",
      "/var/folders/38/f4j79l017855c4b93219m3bh0000gp/T/ipykernel_5081/4105027124.py:29: RuntimeWarning: Mean of empty slice\n",
      "  c=10**np.nanmean (np.log10 (lsing_1), axis=1),\n",
      "/var/folders/38/f4j79l017855c4b93219m3bh0000gp/T/ipykernel_5081/4105027124.py:32: RuntimeWarning: Mean of empty slice\n",
      "  xs = np.where ( np.logical_or (np.abs (lig_residual_2) > 20,np.nanmean (n0_cript_2, axis=1) < 1e3))[0]\n",
      "/var/folders/38/f4j79l017855c4b93219m3bh0000gp/T/ipykernel_5081/4105027124.py:36: RuntimeWarning: Mean of empty slice\n",
      "  (np.nanmean (n0_cript_1, axis=1)[xi]+2, lig_residual_2[xi]+2), fontsize=6)\n"
     ]
    },
    {
     "data": {
      "image/png": "[encoded data removed]",
      "text/plain": [
       "<Figure size 300x125 with 3 Axes>"
      ]
     },
     "metadata": {},
     "output_type": "display_data"
    }
   ],
   "source": [
    "plt.rcParams[\"figure.figsize\"] = (3, 1.25)\n",
    "\n",
    "fig, axs = plt.subplots (1, 2, sharex=True, sharey=True, constrained_layout=True)\n",
    "\n",
    "lig_residual_1 = rbar_lig_1 - compute_mean_ranks (np.nanmean (lig_rank_1, axis=1))\n",
    "lig_residual_2 = rbar_lig_2 - compute_mean_ranks (np.nanmean (lig_rank_2, axis=1))\n",
    "\n",
    "maxres = np.nanmax ([np.abs (lig_residual_1), np.abs (lig_residual_2)])\n",
    "\n",
    "miny = np.nanmin (10**np.nanmean (np.log10 (lsing), axis=1))\n",
    "maxy = np.nanmax (10**np.nanmean (np.log10 (lsing), axis=1))\n",
    "\n",
    "myp = axs[0].scatter (np.nanmean (n0_cript_1, axis=1), lig_residual_1,\n",
    "                      c=10**np.nanmean (np.log10 (lsing_1), axis=1),\n",
    "                      cmap='gray', norm=mpl.colors.LogNorm (vmin=miny, vmax=maxy), edgecolor='black',\n",
    "                      s=10, linewidth=.1)\n",
    "xs = np.where ( np.logical_or (np.abs (lig_residual_1) > 20,np.nanmean (n0_cript_2, axis=1) < 1e3))[0]\n",
    "for i in range (len (xs)) :\n",
    "    xi = xs[i]\n",
    "    axs[0].annotate (lig_labels[int (np.floor (xi / nAA))] + aas[xi % nAA],\n",
    "                     (np.nanmean (n0_cript_1, axis=1)[xi]+2, lig_residual_1[xi]+2),\n",
    "                     fontsize=6)\n",
    "\n",
    "#fig.colorbar ()\n",
    "axs[0].set_xscale ('log')\n",
    "\n",
    "\n",
    "axs[1].scatter (np.nanmean (n0_cript_2, axis=1), lig_residual_2,\n",
    "                c=10**np.nanmean (np.log10 (lsing_1), axis=1),\n",
    "                cmap='gray', norm=mpl.colors.LogNorm (vmin=miny, vmax=maxy), edgecolor='black',\n",
    "                s=10, linewidth=.1)\n",
    "xs = np.where ( np.logical_or (np.abs (lig_residual_2) > 20,np.nanmean (n0_cript_2, axis=1) < 1e3))[0]\n",
    "for i in range (len (xs)) :\n",
    "    xi = xs[i]\n",
    "    axs[1].annotate (lig_labels[int (np.floor (xi / nAA))] + aas[xi % nAA],\n",
    "                  (np.nanmean (n0_cript_1, axis=1)[xi]+2, lig_residual_2[xi]+2), fontsize=6)\n",
    "\n",
    "axs[0].set_ylabel ('Avg. residual', labelpad=0)\n",
    "for i in range (2) :\n",
    "    axs[i].set_xlabel (r'$\\bar N_i^0$', labelpad=0)\n",
    "    axs[i].tick_params (length=2)\n",
    "    axs[i].yaxis.set_tick_params (pad=2)\n",
    "    axs[i].xaxis.set_tick_params (pad=2)\n",
    "    axs[i].set_ylim ((-maxres-3, maxres+2))\n",
    "    axs[i].annotate ('block ' + str (i+1), (350, maxres-10), fontsize=6)\n",
    "\n",
    "fig.colorbar (myp, ax=axs[-1], label=r'$\\bar Y_i$')\n",
    "plt.show ()"
   ]
  },
  {
   "cell_type": "code",
   "execution_count": 55,
   "id": "9856c21a",
   "metadata": {},
   "outputs": [
    {
     "name": "stderr",
     "output_type": "stream",
     "text": [
      "/var/folders/38/f4j79l017855c4b93219m3bh0000gp/T/ipykernel_5081/1356333277.py:5: RuntimeWarning: Mean of empty slice\n",
      "  residual_1 = rbar_1 - compute_mean_ranks (np.nanmean (y_rank_1, axis=1))\n",
      "/var/folders/38/f4j79l017855c4b93219m3bh0000gp/T/ipykernel_5081/1356333277.py:6: RuntimeWarning: Mean of empty slice\n",
      "  residual_2 = rbar_2 - compute_mean_ranks (np.nanmean (y_rank_2, axis=1))\n",
      "/var/folders/38/f4j79l017855c4b93219m3bh0000gp/T/ipykernel_5081/1356333277.py:10: RuntimeWarning: Mean of empty slice\n",
      "  miny = np.nanmin (10**np.nanmean (np.log10 (ysing_1), axis=1))\n",
      "/var/folders/38/f4j79l017855c4b93219m3bh0000gp/T/ipykernel_5081/1356333277.py:11: RuntimeWarning: Mean of empty slice\n",
      "  maxy = np.nanmax (10**np.nanmean (np.log10 (ysing_1), axis=1))\n",
      "/var/folders/38/f4j79l017855c4b93219m3bh0000gp/T/ipykernel_5081/1356333277.py:12: RuntimeWarning: Mean of empty slice\n",
      "  miny = np.nanmin ( [miny, np.nanmin (10**np.nanmean (np.log10 (ysing_2), axis=1))])\n",
      "/var/folders/38/f4j79l017855c4b93219m3bh0000gp/T/ipykernel_5081/1356333277.py:13: RuntimeWarning: Mean of empty slice\n",
      "  maxy = np.nanmax ( [maxy, np.nanmax (10**np.nanmean (np.log10 (ysing_2), axis=1))])\n",
      "/var/folders/38/f4j79l017855c4b93219m3bh0000gp/T/ipykernel_5081/1356333277.py:15: RuntimeWarning: Mean of empty slice\n",
      "  myp = axs[0].scatter (np.nanmean (n0_sing_1, axis=1), residual_1,\n",
      "/var/folders/38/f4j79l017855c4b93219m3bh0000gp/T/ipykernel_5081/1356333277.py:16: RuntimeWarning: Mean of empty slice\n",
      "  c=10**np.nanmean (np.log10 (ysing_1), axis=1),\n",
      "/var/folders/38/f4j79l017855c4b93219m3bh0000gp/T/ipykernel_5081/1356333277.py:20: RuntimeWarning: Mean of empty slice\n",
      "  axs[1].scatter (np.nanmean (n0_sing_2, axis=1), residual_2,\n",
      "/var/folders/38/f4j79l017855c4b93219m3bh0000gp/T/ipykernel_5081/1356333277.py:21: RuntimeWarning: Mean of empty slice\n",
      "  c=10**np.nanmean (np.log10 (ysing_2), axis=1),\n"
     ]
    },
    {
     "data": {
      "image/png": "[encoded data removed]",
      "text/plain": [
       "<Figure size 300x150 with 3 Axes>"
      ]
     },
     "metadata": {},
     "output_type": "display_data"
    }
   ],
   "source": [
    "plt.rcParams[\"figure.figsize\"] = (3, 1.5)\n",
    "\n",
    "fig, axs = plt.subplots (1, 2, sharex=False, sharey=True, constrained_layout=True)\n",
    "\n",
    "residual_1 = rbar_1 - compute_mean_ranks (np.nanmean (y_rank_1, axis=1))\n",
    "residual_2 = rbar_2 - compute_mean_ranks (np.nanmean (y_rank_2, axis=1))\n",
    "\n",
    "maxres = np.nanmax ([np.abs (residual_1), np.abs (residual_2)])\n",
    "\n",
    "miny = np.nanmin (10**np.nanmean (np.log10 (ysing_1), axis=1))\n",
    "maxy = np.nanmax (10**np.nanmean (np.log10 (ysing_1), axis=1))\n",
    "miny = np.nanmin ( [miny, np.nanmin (10**np.nanmean (np.log10 (ysing_2), axis=1))])\n",
    "maxy = np.nanmax ( [maxy, np.nanmax (10**np.nanmean (np.log10 (ysing_2), axis=1))])\n",
    "\n",
    "myp = axs[0].scatter (np.nanmean (n0_sing_1, axis=1), residual_1,\n",
    "                      c=10**np.nanmean (np.log10 (ysing_1), axis=1),\n",
    "                      cmap='gray', norm=mpl.colors.LogNorm (vmin=miny, vmax=maxy), edgecolor='black',\n",
    "                      s=10, linewidth=.1)\n",
    "\n",
    "axs[1].scatter (np.nanmean (n0_sing_2, axis=1), residual_2,\n",
    "                c=10**np.nanmean (np.log10 (ysing_2), axis=1),\n",
    "                cmap='gray', norm=mpl.colors.LogNorm (vmin=miny, vmax=maxy), edgecolor='black',\n",
    "                s=10, linewidth=.1)\n",
    "\n",
    "axs[0].set_ylabel ('Avg. residual', labelpad=0)\n",
    "for i in range (2) :\n",
    "    axs[i].set_xlabel (r'$\\bar N_i^0$', labelpad=0)\n",
    "    axs[i].tick_params (length=2)\n",
    "    axs[i].yaxis.set_tick_params (pad=2)\n",
    "    axs[i].xaxis.set_tick_params (pad=2)\n",
    "    axs[i].set_ylim ((-maxres-20, maxres+20))\n",
    "    axs[i].set_xscale ('log')\n",
    "    axs[i].annotate ('block ' + str (i+1), ([12,56][i], maxres-90), fontsize=6)\n",
    "\n",
    "fig.colorbar (myp, ax=axs[-1], label=r'$\\bar Y_i$')\n",
    "plt.show ()"
   ]
  },
  {
   "cell_type": "code",
   "execution_count": 56,
   "id": "bc2f0a23",
   "metadata": {},
   "outputs": [
    {
     "name": "stderr",
     "output_type": "stream",
     "text": [
      "/var/folders/38/f4j79l017855c4b93219m3bh0000gp/T/ipykernel_5081/3215576540.py:7: RuntimeWarning: invalid value encountered in divide\n",
      "  axs[i].scatter (n0_sing_2[:,i], np.sum (Pvals[1,:,:,i] < .1, axis=0) / numtests, s=1)\n"
     ]
    },
    {
     "data": {
      "image/png": "[encoded data removed]",
      "text/plain": [
       "<Figure size 400x125 with 3 Axes>"
      ]
     },
     "metadata": {},
     "output_type": "display_data"
    }
   ],
   "source": [
    "plt.rcParams[\"figure.figsize\"] = (4, 1.25)\n",
    "\n",
    "fig, axs = plt.subplots (1, 3, sharex=True, sharey=True)\n",
    "\n",
    "for i in range (nreps) :\n",
    "    numtests = np.sum (~np.isnan (Pvals[1,:,:,i]), axis=0)\n",
    "    axs[i].scatter (n0_sing_2[:,i], np.sum (Pvals[1,:,:,i] < .1, axis=0) / numtests, s=1)\n",
    "    axs[i].set_xlabel (r'$\\hat N_i^0$')\n",
    "    axs[i].set_title ('Rep. ' + str (i))\n",
    "axs[0].set_ylabel ('Prop. signif. tests')\n",
    "plt.show ()"
   ]
  },
  {
   "cell_type": "code",
   "execution_count": 57,
   "id": "5184779b",
   "metadata": {},
   "outputs": [
    {
     "name": "stderr",
     "output_type": "stream",
     "text": [
      "/var/folders/38/f4j79l017855c4b93219m3bh0000gp/T/ipykernel_5081/3485748835.py:6: RuntimeWarning: Mean of empty slice\n",
      "  myp = axs[0,i].hexbin (n0_sing_1[:,i], np.nanmean (n0_doub_1[:,:,i], axis=0),\n",
      "/var/folders/38/f4j79l017855c4b93219m3bh0000gp/T/ipykernel_5081/3485748835.py:10: RuntimeWarning: Mean of empty slice\n",
      "  myp = axs[1,i].hexbin (n0_sing_2[:,i], np.nanmean (n0_doub_2[:,:,i], axis=0),\n"
     ]
    }
   ],
   "source": [
    "plt.rcParams[\"figure.figsize\"] = (4,4)\n",
    "\n",
    "fig, axs = plt.subplots (2, 3, sharey='row', constrained_layout=True)\n",
    "\n",
    "for i in range (nreps) :\n",
    "    myp = axs[0,i].hexbin (n0_sing_1[:,i], np.nanmean (n0_doub_1[:,:,i], axis=0),\n",
    "                           norm=mpl.colors.LogNorm (), cmap='Blues', gridsize=20)\n",
    "    fig.colorbar (myp, ax=axs[0,i], location='top', shrink=0.75, aspect=10)\n",
    "    \n",
    "    myp = axs[1,i].hexbin (n0_sing_2[:,i], np.nanmean (n0_doub_2[:,:,i], axis=0),\n",
    "                           norm=mpl.colors.LogNorm (), cmap='Purples', gridsize=20)\n",
    "    fig.colorbar (myp, ax=axs[1,i], location='top', shrink=0.75, aspect=10)\n",
    "\n",
    "    axs[1,i].set_xlabel (r'$\\hat N_i^0$')\n",
    "    #axs[0,i].set_title ('Rep. ' + str (i))\n",
    "axs[0,0].set_ylabel (r'$\\bar N_{ij}$')\n",
    "axs[1,0].set_ylabel (r'$\\bar N_{ij}$')\n",
    "\n",
    "if save :\n",
    "    plt.savefig (os.path.join (outdir, 'single_reads_blocks.pdf'), bbox_inches='tight', dpi=600)\n",
    "    plt.close ()\n",
    "else :\n",
    "    plt.show ()"
   ]
  },
  {
   "cell_type": "code",
   "execution_count": 58,
   "id": "b9a520a3",
   "metadata": {},
   "outputs": [
    {
     "data": {
      "image/png": "[encoded data removed]",
      "text/plain": [
       "<Figure size 400x200 with 6 Axes>"
      ]
     },
     "metadata": {},
     "output_type": "display_data"
    }
   ],
   "source": [
    "plt.rcParams[\"figure.figsize\"] = (4, 2)\n",
    "\n",
    "fig, axs = plt.subplots (1, 3, sharex=True, sharey=True, constrained_layout=True)\n",
    "\n",
    "for i in range (nreps) :\n",
    "    xvals = cp.deepcopy (n0_doub_2[:,:,i])\n",
    "    yvals = cp.deepcopy (Pvals[1,:,:,i])\n",
    "    myp = axs[i].hexbin (xvals[np.logical_and (~np.isnan (xvals), ~np.isnan (yvals))],\n",
    "                   yvals[np.logical_and (~np.isnan (xvals), ~np.isnan (yvals))], yscale='log',\n",
    "                   norm=mpl.colors.LogNorm (), cmap='Blues', gridsize=20)\n",
    "    fig.colorbar (myp, ax=axs[i], location='top', shrink=0.75)\n",
    "    axs[i].set_yscale ('log')\n",
    "    axs[i].set_xlabel (r'$\\hat N_{ij}^0$')\n",
    "    #axs[i].set_title ('Rep. ' + str (i))\n",
    "axs[0].set_ylabel ('Prop. signif. tests')\n",
    "plt.show ()"
   ]
  },
  {
   "cell_type": "code",
   "execution_count": 59,
   "id": "2bccee55",
   "metadata": {},
   "outputs": [
    {
     "name": "stderr",
     "output_type": "stream",
     "text": [
      "/var/folders/38/f4j79l017855c4b93219m3bh0000gp/T/ipykernel_5081/287950395.py:7: RuntimeWarning: Mean of empty slice\n",
      "  r_1 = compute_mean_ranks (np.nanmean (Rmats_1[:,:,i], axis=0))\n",
      "/var/folders/38/f4j79l017855c4b93219m3bh0000gp/T/ipykernel_5081/287950395.py:8: RuntimeWarning: Mean of empty slice\n",
      "  r_2 = compute_mean_ranks (np.nanmean (Rmats_2[:,:,i], axis=0))\n",
      "/var/folders/38/f4j79l017855c4b93219m3bh0000gp/T/ipykernel_5081/287950395.py:18: RuntimeWarning: Mean of empty slice\n",
      "  c=np.nanmean (Dsign[0,:,:], axis=0), cmap='Spectral',\n",
      "/var/folders/38/f4j79l017855c4b93219m3bh0000gp/T/ipykernel_5081/287950395.py:23: RuntimeWarning: Mean of empty slice\n",
      "  c=np.nanmean (Dsign[1,:,:], axis=0), cmap='Spectral',\n"
     ]
    }
   ],
   "source": [
    "plt.rcParams[\"figure.figsize\"] = (3.5, 3.5)\n",
    "\n",
    "fig, axs = plt.subplots (3,2, sharey=True, sharex='col',constrained_layout=True)\n",
    "\n",
    "for i in range (nreps) :\n",
    "\n",
    "    r_1 = compute_mean_ranks (np.nanmean (Rmats_1[:,:,i], axis=0))\n",
    "    r_2 = compute_mean_ranks (np.nanmean (Rmats_2[:,:,i], axis=0))\n",
    "\n",
    "    residuals_1 = transform_ranks (r_1, np.sum (~np.isnan (y_rank_1[:,i]))) - y_rank_1[:,i]\n",
    "    residuals_2 = transform_ranks (r_2, np.sum (~np.isnan (y_rank_2[:,i]))) - y_rank_2[:,i]\n",
    "\n",
    "    Dsign = cp.deepcopy (Dsyms[:,:,:,i])\n",
    "    Dsign[Dsign > 0] = 1\n",
    "    Dsign[Dsign < 0] = -1\n",
    "    \n",
    "    myp = axs[i,0].scatter (n0_sing_1[:,i], residuals_1,\n",
    "                            c=np.nanmean (Dsign[0,:,:], axis=0), cmap='Spectral',\n",
    "                            vmin=-1, vmax=1,\n",
    "                            edgecolor='black', linewidth=.05, s=10)\n",
    "\n",
    "    myp = axs[i,1].scatter (n0_sing_2[:,i], residuals_2,\n",
    "                          c=np.nanmean (Dsign[1,:,:], axis=0), cmap='Spectral',\n",
    "                            vmin=-1, vmax=1,\n",
    "                          edgecolor='black', linewidth=.05, s=10)\n",
    "    \n",
    "    if i == 0 :\n",
    "        for j in range (2) :\n",
    "            axs[i,j].set_title (['block 1', 'block 2'][j])\n",
    "            \n",
    "    if i == 1 :\n",
    "        fig.colorbar (myp, ax=axs[i,1], location='right', shrink=1, aspect=20, label=r'avg. sign $\\hat D$')\n",
    "\n",
    "    for j in range (2) :    \n",
    "        axs[i,j].tick_params (length=2)\n",
    "        axs[i,j].yaxis.set_tick_params (pad=2)\n",
    "        axs[i,j].xaxis.set_tick_params (pad=2)\n",
    "    \n",
    "    axs[i,0].set_ylabel ('Rep ' + str (i+1) + ' residual')\n",
    "    if i == 2 :\n",
    "        for j in range (2) :\n",
    "            axs[i,j].set_xlabel (r'$\\hat N_i^0$')\n",
    "\n",
    "\n",
    "if save :\n",
    "    plt.savefig (os.path.join (outdir, 'n0_vs_res.pdf'), bbox_inches='tight', dpi=600)\n",
    "    plt.close ()\n",
    "else :\n",
    "    plt.show ()"
   ]
  },
  {
   "cell_type": "code",
   "execution_count": 60,
   "id": "3af6db0b",
   "metadata": {},
   "outputs": [
    {
     "name": "stderr",
     "output_type": "stream",
     "text": [
      "/var/folders/38/f4j79l017855c4b93219m3bh0000gp/T/ipykernel_5081/981668310.py:1: RuntimeWarning: Mean of empty slice\n",
      "  residuals   = rbar_1 - compute_mean_ranks (np.nanmean (y_rank_1, axis=1))\n",
      "/var/folders/38/f4j79l017855c4b93219m3bh0000gp/T/ipykernel_5081/981668310.py:2: RuntimeWarning: Mean of empty slice\n",
      "  residuals_2 = rbar_2 - compute_mean_ranks (np.nanmean (y_rank_2, axis=1))\n",
      "/var/folders/38/f4j79l017855c4b93219m3bh0000gp/T/ipykernel_5081/981668310.py:6: RuntimeWarning: Mean of empty slice\n",
      "  Davg = np.nanmean (Dsyms, axis=-1)\n",
      "/var/folders/38/f4j79l017855c4b93219m3bh0000gp/T/ipykernel_5081/981668310.py:7: RuntimeWarning: Mean of empty slice\n",
      "  myp = axs[0].scatter (np.nanmean (n0_sing_1, axis=1), residuals,\n",
      "/var/folders/38/f4j79l017855c4b93219m3bh0000gp/T/ipykernel_5081/981668310.py:8: RuntimeWarning: Mean of empty slice\n",
      "  c=np.nanmean (Davg[0,:,:], axis=0), cmap='Spectral',\n",
      "/var/folders/38/f4j79l017855c4b93219m3bh0000gp/T/ipykernel_5081/981668310.py:12: RuntimeWarning: Mean of empty slice\n",
      "  myp = axs[1].scatter (np.nanmean (n0_sing_2, axis=1), residuals_2,\n",
      "/var/folders/38/f4j79l017855c4b93219m3bh0000gp/T/ipykernel_5081/981668310.py:13: RuntimeWarning: Mean of empty slice\n",
      "  c=np.nanmean (Davg[1,:,:], axis=0), cmap='Spectral',\n"
     ]
    },
    {
     "data": {
      "image/png": "[encoded data removed]",
      "text/plain": [
       "<Figure size 350x350 with 4 Axes>"
      ]
     },
     "metadata": {},
     "output_type": "display_data"
    }
   ],
   "source": [
    "residuals   = rbar_1 - compute_mean_ranks (np.nanmean (y_rank_1, axis=1))\n",
    "residuals_2 = rbar_2 - compute_mean_ranks (np.nanmean (y_rank_2, axis=1))\n",
    "\n",
    "fig, axs = plt.subplots (1,2, sharey=True)\n",
    "\n",
    "Davg = np.nanmean (Dsyms, axis=-1)\n",
    "myp = axs[0].scatter (np.nanmean (n0_sing_1, axis=1), residuals,\n",
    "                      c=np.nanmean (Davg[0,:,:], axis=0), cmap='Spectral',\n",
    "                      edgecolor='black', linewidth=.1, s=15)\n",
    "fig.colorbar (myp, ax=axs[0], location='top', shrink=0.75)\n",
    "\n",
    "myp = axs[1].scatter (np.nanmean (n0_sing_2, axis=1), residuals_2,\n",
    "                      c=np.nanmean (Davg[1,:,:], axis=0), cmap='Spectral',\n",
    "                      edgecolor='black', linewidth=.1, s=15)\n",
    "fig.colorbar (myp, ax=axs[1], location='top', shrink=0.75)\n",
    "\n",
    "for i in range (len (axs)) :\n",
    "    axs[i].set_xlabel (r'$\\bar N_i^0$')\n",
    "plt.show ()\n",
    "\n"
   ]
  },
  {
   "cell_type": "code",
   "execution_count": 61,
   "id": "929f641f",
   "metadata": {},
   "outputs": [
    {
     "name": "stderr",
     "output_type": "stream",
     "text": [
      "/var/folders/38/f4j79l017855c4b93219m3bh0000gp/T/ipykernel_5081/3538447425.py:5: RuntimeWarning: Mean of empty slice\n",
      "  Dsign = np.nanmean (Dsyms, axis=-1)\n",
      "/var/folders/38/f4j79l017855c4b93219m3bh0000gp/T/ipykernel_5081/3538447425.py:11: RuntimeWarning: Mean of empty slice\n",
      "  axs[0,0].scatter (np.nanmean (n0_sing_1, axis=1),\n",
      "/var/folders/38/f4j79l017855c4b93219m3bh0000gp/T/ipykernel_5081/3538447425.py:13: RuntimeWarning: Mean of empty slice\n",
      "  c=spec (norm (np.nanmean (Dsign[0,:,:], axis=0))),\n",
      "/var/folders/38/f4j79l017855c4b93219m3bh0000gp/T/ipykernel_5081/3538447425.py:15: RuntimeWarning: Mean of empty slice\n",
      "  axs[0,1].scatter (np.nanmean (n0_sing_2, axis=1),\n",
      "/var/folders/38/f4j79l017855c4b93219m3bh0000gp/T/ipykernel_5081/3538447425.py:17: RuntimeWarning: Mean of empty slice\n",
      "  c=spec (norm (np.nanmean (Dsign[1,:,:], axis=0))),\n",
      "/var/folders/38/f4j79l017855c4b93219m3bh0000gp/T/ipykernel_5081/3538447425.py:24: RuntimeWarning: Mean of empty slice\n",
      "  (np.nanmean (n0_sing_2, axis=1)[ii],\n",
      "/var/folders/38/f4j79l017855c4b93219m3bh0000gp/T/ipykernel_5081/3538447425.py:31: RuntimeWarning: Mean of empty slice\n",
      "  (np.nanmean (n0_sing_1, axis=1)[ii],\n",
      "/var/folders/38/f4j79l017855c4b93219m3bh0000gp/T/ipykernel_5081/3538447425.py:42: RuntimeWarning: Mean of empty slice\n",
      "  c=spec (norm (np.nanmean (Dsign[0,:,:,i], axis=0))),\n",
      "/var/folders/38/f4j79l017855c4b93219m3bh0000gp/T/ipykernel_5081/3538447425.py:45: RuntimeWarning: Mean of empty slice\n",
      "  c=spec (norm (np.nanmean (Dsign[1,:,:,i], axis=0))),\n"
     ]
    }
   ],
   "source": [
    "plt.rcParams[\"figure.figsize\"] = (4, 5)\n",
    "\n",
    "fig, axs = plt.subplots (4,2, sharex='col', constrained_layout=True)\n",
    "\n",
    "Dsign = np.nanmean (Dsyms, axis=-1)\n",
    "Dsign[Dsign < 0] = -1\n",
    "Dsign[Dsign > 0] = 1\n",
    "Dsign[0, meta_P1 > .1] = np.nan\n",
    "Dsign[1, meta_P2 > .1] = np.nan\n",
    "\n",
    "axs[0,0].scatter (np.nanmean (n0_sing_1, axis=1),\n",
    "                  np.sum (meta_P1 < .1, axis=0),\n",
    "                  c=spec (norm (np.nanmean (Dsign[0,:,:], axis=0))),\n",
    "                  s=10, edgecolor='black', linewidth=.1)\n",
    "axs[0,1].scatter (np.nanmean (n0_sing_2, axis=1),\n",
    "                  np.sum (meta_P2 < .1, axis=0),\n",
    "                  c=spec (norm (np.nanmean (Dsign[1,:,:], axis=0))),\n",
    "                  s=10, edgecolor='black', linewidth=.1)\n",
    "\n",
    "idxs = np.where (np.sum (meta_P2 < .1, axis=0) > 19)[0]\n",
    "for i in range (len (idxs)) :\n",
    "    ii = int (idxs[i])\n",
    "    axs[0,1].annotate ( pdz_wt_full[50 + int (ii/nAA)] + str (int (ii/nAA)+353) + aas[ii % nAA],\n",
    "                       (np.nanmean (n0_sing_2, axis=1)[ii],\n",
    "                          np.sum (meta_P2 < .1, axis=0)[ii]), fontsize=6)\n",
    "\n",
    "idxs = np.where (np.sum (meta_P1 < .1, axis=0) > 25)[0]\n",
    "for i in range (len (idxs)) :\n",
    "    ii = int (idxs[i])\n",
    "    axs[0,0].annotate ( pdz_wt_full[int (ii/nAA)] + str (int (ii/nAA)+303) + aas[ii % nAA],\n",
    "                       (np.nanmean (n0_sing_1, axis=1)[ii],\n",
    "                          np.sum (meta_P1 < .1, axis=0)[ii]),\n",
    "                      fontsize=6) \n",
    "    \n",
    "    \n",
    "Dsign = cp.deepcopy (Dsyms)\n",
    "Dsign[Dsyms < 0] = -1\n",
    "Dsign[Dsyms > 0] = 1\n",
    "Dsign[Pvals > .1] = np.nan\n",
    "for i in range (nreps) :\n",
    "    axs[i+1,0].scatter (n0_sing_1[:,i], np.sum (Pvals[0,:,:,i] < .1, axis=0),\n",
    "                        c=spec (norm (np.nanmean (Dsign[0,:,:,i], axis=0))),\n",
    "                        s=10, edgecolor='black', linewidth=.1)\n",
    "    axs[i+1,1].scatter (n0_sing_2[:,i], np.sum (Pvals[1,:,:,i] < .1, axis=0),\n",
    "                        c=spec (norm (np.nanmean (Dsign[1,:,:,i], axis=0))),\n",
    "                       s=10, edgecolor='black', linewidth=.1)\n",
    "for i in range (4) :\n",
    "    axs[i,0].set_ylabel ('Count')\n",
    "    \n",
    "for i in range (2) :\n",
    "    axs[0,i].set_xlabel (r'$\\bar N_i^0$')\n",
    "    axs[-1,i].set_xlabel (r'$N_i^0$ per replicate')\n",
    "\n",
    "if save :\n",
    "    plt.savefig (os.path.join (outdir, 'n0_vs_numsignif.pdf'), bbox_inches='tight')\n",
    "    plt.close ()\n",
    "else :\n",
    "    plt.show ()"
   ]
  },
  {
   "cell_type": "code",
   "execution_count": 62,
   "id": "4b49321b",
   "metadata": {},
   "outputs": [
    {
     "data": {
      "image/png": "[encoded data removed]",
      "text/plain": [
       "<Figure size 400x500 with 1 Axes>"
      ]
     },
     "metadata": {},
     "output_type": "display_data"
    },
    {
     "data": {
      "image/png": "[encoded data removed]",
      "text/plain": [
       "<Figure size 400x500 with 1 Axes>"
      ]
     },
     "metadata": {},
     "output_type": "display_data"
    }
   ],
   "source": [
    "# recompute big distance matrix\n",
    "bigDist = np.zeros ((2,Llig,L1)) * np.nan\n",
    "for i in range (1,nlig) :\n",
    "    bigDist[0,(i*nAA):(i*nAA + nAA),:] = np.reshape (np.repeat (Df_1[i-1,:], nAA**2), (nAA, L1), order='F')\n",
    "    bigDist[1,(i*nAA):(i*nAA + nAA),:] = np.reshape (np.repeat (Df_2[i-1,:], nAA**2), (nAA, L2), order='F')\n",
    "\n",
    "# plot to check\n",
    "plt.imshow (bigDist[0,:,:])\n",
    "plt.show ()\n",
    "\n",
    "plt.imshow (bigDist[1,:,:])\n",
    "plt.show ()"
   ]
  },
  {
   "cell_type": "code",
   "execution_count": 63,
   "id": "42e0f852",
   "metadata": {},
   "outputs": [
    {
     "data": {
      "text/plain": [
       "array([[0.03404087, 0.03404087],\n",
       "       [0.02118678, 0.02118678]])"
      ]
     },
     "execution_count": 63,
     "metadata": {},
     "output_type": "execute_result"
    }
   ],
   "source": [
    "alpha_enrich"
   ]
  },
  {
   "cell_type": "code",
   "execution_count": 64,
   "id": "1545997a",
   "metadata": {},
   "outputs": [
    {
     "name": "stdout",
     "output_type": "stream",
     "text": [
      "(168, 903)\n",
      "68346\n",
      "68346\n",
      "68346\n",
      "0.5\n",
      "0.4557595993322204\n",
      "power:\n",
      "0.2\n",
      "0.05641592920353982\n",
      "(168, 903)\n",
      "30368\n",
      "30368\n",
      "30368\n",
      "0.5\n",
      "0.2735723771580345\n",
      "power:\n",
      "0.3333333333333333\n",
      "0.038623005877413935\n"
     ]
    },
    {
     "name": "stderr",
     "output_type": "stream",
     "text": [
      "/Users/maryncarlson/nitmb/resample_and_reorder/notebooks/../code/plot_functions.py:374: RuntimeWarning: invalid value encountered in scalar divide\n",
      "  Power[i,j] = num_ij / den_ij\n"
     ]
    }
   ],
   "source": [
    "conmax   = .5\n",
    "powermax = .35\n",
    "fpmax    = .06\n",
    "\n",
    "i = 0\n",
    "for idx in range (2) :\n",
    "    if idx == 0 :\n",
    "        ys = cp.deepcopy (ysing_1[:,i])\n",
    "        ls = cp.deepcopy (lsing_1[:,i])\n",
    "    else :\n",
    "        ys = cp.deepcopy (ysing_2[:,i])\n",
    "        ls = cp.deepcopy (lsing_2[:,i])\n",
    "    \n",
    "    make_fpr_figure_individual (Pvals[idx,:,:,i], bigDist[idx,:,:],\n",
    "                                Dsyms[idx,:,:,i],\n",
    "                                ys, ls, \n",
    "                                ybinsize=50, lbinsize=20, alpha=.05,#alpha_enrich[i,0],\n",
    "                                conmax=conmax, powermax=powermax, fpmax=fpmax, colorbar=False,\n",
    "                                outlabel='block_' + str (idx+1) + '_' + str (i), save=save,\n",
    "                                outdir=outdir, figsize=(1.25, 1.15),\n",
    "                                llabel=r'$\\hat Y_j^{cript}$', ylabel=r'$\\hat Y_i^{pdz3}$')"
   ]
  },
  {
   "cell_type": "code",
   "execution_count": 65,
   "id": "c74ee9e9",
   "metadata": {},
   "outputs": [
    {
     "data": {
      "text/plain": [
       "86"
      ]
     },
     "execution_count": 65,
     "metadata": {},
     "output_type": "execute_result"
    }
   ],
   "source": [
    "npos"
   ]
  },
  {
   "cell_type": "code",
   "execution_count": 66,
   "id": "d781e188",
   "metadata": {},
   "outputs": [
    {
     "name": "stdout",
     "output_type": "stream",
     "text": [
      "Proportion of pdz singles observed:\n",
      "0.92015503875969\n",
      "0.9767441860465116\n",
      "791.3333333333334\n",
      "840.0\n",
      "\n",
      "Proportion of cript singles observed:\n",
      "[0.9625 0.9625 0.9625]\n",
      "[0.9625 0.9625 0.9625]\n",
      "[154 154 154]\n",
      "[154 154 154]\n",
      "\n",
      "Proportion of doubles observed:\n",
      "0.6655450581395349\n",
      "0.8930717054263567\n",
      "91579.0\n",
      "122886.66666666667\n"
     ]
    }
   ],
   "source": [
    "print ('Proportion of pdz singles observed:')\n",
    "print (np.nanmean (np.sum (~np.isnan (n0_sing_1), axis=0) / ((npos/2)*(nAA-1))))\n",
    "print (np.nanmean (np.sum (~np.isnan (n0_sing_2), axis=0) / ((npos/2)*(nAA-1))))\n",
    "print (np.nanmean (np.sum (~np.isnan (n0_sing_1), axis=0)))\n",
    "print (np.nanmean (np.sum (~np.isnan (n0_sing_2), axis=0)))\n",
    "\n",
    "print ('\\nProportion of cript singles observed:')\n",
    "print (np.sum (~np.isnan (n0_cript_1), axis=0) / ((nlig)*(nAA-1)))\n",
    "print (np.sum (~np.isnan (n0_cript_2), axis=0) / ((nlig)*(nAA-1)))\n",
    "print (np.sum (~np.isnan (n0_cript_1), axis=0))\n",
    "print (np.sum (~np.isnan (n0_cript_2), axis=0))\n",
    "\n",
    "print ('\\nProportion of doubles observed:')\n",
    "frac_1 = np.sum (np.sum (~np.isnan (n0_doub_1), axis=1), axis=0)/ (nlig*(npos/2)*(nAA-1)**2)\n",
    "frac_2 = np.sum (np.sum (~np.isnan (n0_doub_2), axis=1), axis=0)/ (nlig*(npos/2)*(nAA-1)**2)\n",
    "print (np.nanmean (frac_1))\n",
    "print (np.nanmean (frac_2))\n",
    "frac_1 = np.sum (np.sum (~np.isnan (n0_doub_1), axis=1), axis=0)\n",
    "frac_2 = np.sum (np.sum (~np.isnan (n0_doub_2), axis=1), axis=0)\n",
    "print (np.nanmean (frac_1))\n",
    "print (np.nanmean (frac_2))"
   ]
  },
  {
   "cell_type": "code",
   "execution_count": 67,
   "id": "6ca0fac4",
   "metadata": {},
   "outputs": [],
   "source": [
    "# MAKE COLORBARS\n",
    "orient = 'horizontal'\n",
    "cloc   = 'top'\n",
    "shrink = 0.6\n",
    "aspect = 15\n",
    "\n",
    "# false positives\n",
    "plt.rcParams[\"figure.figsize\"] = (1.3, 1.3)\n",
    "\n",
    "fig, axs = plt.subplots ()\n",
    "\n",
    "xs = np.linspace (0,1,10)\n",
    "hm = axs.scatter (xs, xs, c=xs, cmap='rocket_r', vmin=0, vmax=powermax)\n",
    "cbar = fig.colorbar (hm, ax=axs, shrink=shrink, ticks=np.arange (0,powermax,.1),\n",
    "                     location=cloc, orientation=orient, aspect=aspect)\n",
    "cbar.set_label (r'pseudo-true pos. rate', size=7, labelpad=5)\n",
    "cbar.ax.tick_params (labelsize=6, length=2, pad=.5)\n",
    "\n",
    "if save :\n",
    "    plt.savefig (os.path.join (outdir, 'colorbar_tpr.svg'),\n",
    "                 format='svg', bbox_inches='tight', dpi=600, transparent=True)\n",
    "    plt.close ()\n",
    "else :\n",
    "    plt.show ()\n",
    "\n",
    "# contacts\n",
    "fig, axs = plt.subplots ()\n",
    "\n",
    "hm = axs.scatter (xs, xs, c=xs, cmap='gray_r', vmin=0, vmax=conmax) \n",
    "cbar = fig.colorbar (hm, ax=axs, shrink=shrink, ticks=np.arange (0,conmax,.1),\n",
    "                     location='top', orientation=orient, aspect=aspect)\n",
    "cbar.set_label (r'prop. contacts', size=7, labelpad=5)\n",
    "cbar.ax.tick_params (labelsize=6, length=2, pad=.5)\n",
    "if save :\n",
    "    plt.savefig (os.path.join (outdir, 'colorbar_contacts.svg'),\n",
    "                 format='svg', bbox_inches='tight', dpi=600, transparent=True)\n",
    "    plt.close ()\n",
    "else :\n",
    "    plt.show ()\n",
    "    \n",
    "# pseudo fpr\n",
    "fig, axs = plt.subplots ()\n",
    "\n",
    "hm = axs.scatter (xs, xs, c=xs, cmap='Blues', vmin=0, vmax=fpmax)\n",
    "cbar = fig.colorbar (hm, ax=axs, shrink=shrink, ticks=np.arange (0,fpmax,.02),\n",
    "                     location='top', orientation=orient, aspect=aspect)\n",
    "cbar.set_label (r'pseudo-false pos. rate', size=7, labelpad=5)\n",
    "cbar.ax.tick_params (labelsize=6, length=2, pad=.5)\n",
    "\n",
    "if save :\n",
    "    plt.savefig (os.path.join (outdir, 'colorbar_fpr.svg'),\n",
    "                 format='svg', bbox_inches='tight', dpi=600, transparent=True)\n",
    "    plt.close ()\n",
    "else :\n",
    "    plt.show ()\n",
    "    \n",
    "        \n",
    "# pseudo fpr\n",
    "fig, axs = plt.subplots ()\n",
    "\n",
    "hm   = axs.scatter (xs, xs, c=xs, cmap='Spectral', vmin=-1, vmax=1)\n",
    "cbar = fig.colorbar (hm, ax=axs, shrink=shrink, ticks=np.linspace (-1,1,5),\n",
    "                     location='top', orientation=orient, aspect=aspect)\n",
    "cbar.set_label (r'average sign $\\hat D$', size=7, labelpad=5)\n",
    "cbar.ax.tick_params (labelsize=6, length=2, pad=.5)\n",
    "cbar.ax.set_xticklabels( np.round (np.linspace (-1,1,5),2)) \n",
    "\n",
    "if save :\n",
    "    plt.savefig (os.path.join (outdir, 'colorbar_sign.svg'),\n",
    "                 format='svg', bbox_inches='tight', dpi=600, transparent=True)\n",
    "    plt.close ()\n",
    "else :\n",
    "    plt.show ()"
   ]
  },
  {
   "cell_type": "code",
   "execution_count": 68,
   "id": "03c7044f",
   "metadata": {},
   "outputs": [
    {
     "name": "stdout",
     "output_type": "stream",
     "text": [
      "[0.0477275  0.02269083]\n",
      "[0.12033432 0.11666879]\n"
     ]
    }
   ],
   "source": [
    "pcors = np.zeros ((2, math.comb (nreps,2)))\n",
    "dcors = np.zeros_like (pcors)\n",
    "for i in range (2) :\n",
    "    ct = 0\n",
    "    for j in range (nreps) :\n",
    "        for k in range (j+1,nreps) :\n",
    "            vals_j = cp.deepcopy (Pvals[i,:,:,j])\n",
    "            vals_k = cp.deepcopy (Pvals[i,:,:,k])\n",
    "            pcors[i,ct] = scipy.stats.spearmanr (np.ndarray.flatten (vals_j),\n",
    "                                          np.ndarray.flatten (vals_k),\n",
    "                                          nan_policy='omit').statistic\n",
    "            \n",
    "            vals_j = cp.deepcopy (Dsyms[i,:,:,j])\n",
    "            vals_k = cp.deepcopy (Dsyms[i,:,:,k])            \n",
    "            dcors[i,ct] = scipy.stats.spearmanr (np.ndarray.flatten (vals_j),\n",
    "                                          np.ndarray.flatten (vals_k),\n",
    "                                          nan_policy='omit').statistic\n",
    "            \n",
    "            ct += 1\n",
    "            \n",
    "print (np.nanmean (pcors, axis=1))\n",
    "print (np.nanmean (dcors, axis=1))"
   ]
  },
  {
   "cell_type": "code",
   "execution_count": 69,
   "id": "64b6df23",
   "metadata": {},
   "outputs": [
    {
     "data": {
      "text/plain": [
       "array([[0.05011701, 0.04483482, 0.04823068],\n",
       "       [0.02278807, 0.02270334, 0.02258106]])"
      ]
     },
     "execution_count": 69,
     "metadata": {},
     "output_type": "execute_result"
    }
   ],
   "source": [
    "pcors"
   ]
  },
  {
   "cell_type": "code",
   "execution_count": 70,
   "id": "17e4b611",
   "metadata": {},
   "outputs": [
    {
     "data": {
      "text/plain": [
       "array([[0.1180229 , 0.12934726, 0.1136328 ],\n",
       "       [0.11677137, 0.10706225, 0.12617276]])"
      ]
     },
     "execution_count": 70,
     "metadata": {},
     "output_type": "execute_result"
    }
   ],
   "source": [
    "dcors"
   ]
  },
  {
   "cell_type": "code",
   "execution_count": null,
   "id": "65c7bdfd",
   "metadata": {},
   "outputs": [],
   "source": []
  }
 ],
 "metadata": {
  "kernelspec": {
   "display_name": "Python 3 (ipykernel)",
   "language": "python",
   "name": "python3"
  },
  "language_info": {
   "codemirror_mode": {
    "name": "ipython",
    "version": 3
   },
   "file_extension": ".py",
   "mimetype": "text/x-python",
   "name": "python",
   "nbconvert_exporter": "python",
   "pygments_lexer": "ipython3",
   "version": "3.11.4"
  }
 },
 "nbformat": 4,
 "nbformat_minor": 5
}
