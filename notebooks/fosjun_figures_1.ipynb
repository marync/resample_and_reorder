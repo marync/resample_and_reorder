{
 "cells": [
  {
   "cell_type": "code",
   "execution_count": 1,
   "id": "17a696d1",
   "metadata": {},
   "outputs": [],
   "source": [
    "import os\n",
    "import copy as cp\n",
    "import sys\n",
    "import numpy as np\n",
    "import pandas\n",
    "import matplotlib.pyplot as plt\n",
    "import matplotlib as mpl\n",
    "import scipy.stats\n",
    "import seaborn\n",
    "import pickle\n",
    "\n",
    "from matplotlib.patches import Rectangle"
   ]
  },
  {
   "cell_type": "code",
   "execution_count": 2,
   "id": "fca2fd57",
   "metadata": {},
   "outputs": [],
   "source": [
    "# my code\n",
    "sys.path.insert(1, '../code/')\n",
    "\n",
    "from format_helper_functions import find_mutation, make_aa_dict\n",
    "from rank_functions import compute_mean_ranks\n",
    "from plot_functions import compute_meta_p, compute_auc, compute_enrichment_accuracy, log_bins\n",
    "from plot_functions import make_fpr_figure_individual, make_fpr_figure_contacts_asym, compute_enrichment\n",
    "from plot_functions import plot_enrichment_fos_svg, plot_enrichment_fos, multiple_test_correct, compute_avg_sign_matrix\n",
    "from mochi_functions import find_mochi_alpha_empirical"
   ]
  },
  {
   "cell_type": "code",
   "execution_count": 3,
   "id": "d8071a34",
   "metadata": {},
   "outputs": [],
   "source": [
    "# plotting settings\n",
    "plt.rcParams.update({'font.size': 8})\n",
    "plt.rcParams[\"font.family\"] = 'Arial'\n",
    "rc = {\"font.family\" : \"serif\", \n",
    "      \"mathtext.fontset\" : \"dejavusans\"}\n",
    "plt.rcParams.update(rc)\n",
    "plt.rcParams[\"font.serif\"] = [\"Arial\"] + plt.rcParams[\"font.serif\"]"
   ]
  },
  {
   "cell_type": "code",
   "execution_count": 4,
   "id": "586d46c4",
   "metadata": {},
   "outputs": [],
   "source": [
    "input_wt  = np.array ([47550, 62496, 53287])\n",
    "output_wt = np.array( [162233, 193273, 171470])\n",
    "y_wt = output_wt / input_wt"
   ]
  },
  {
   "cell_type": "code",
   "execution_count": 5,
   "id": "864d06e0",
   "metadata": {},
   "outputs": [],
   "source": [
    "# amino acids\n",
    "aadict = make_aa_dict (stop='*')\n",
    "aalist = [key for key in aadict.keys ()]"
   ]
  },
  {
   "cell_type": "code",
   "execution_count": 6,
   "id": "c8886504",
   "metadata": {},
   "outputs": [],
   "source": [
    "# my files\n",
    "protein = 'fos'\n",
    "ligand = 'jun'\n",
    "indir = '../results/fosjun/325/fos'\n",
    "\n",
    "# mochi files\n",
    "mochi_dir = '../results/fosjun/325/fos/mochi_fosjun/'\n",
    "file_root = 'mochi_sigmoid_'\n",
    "\n",
    "# number of AAs\n",
    "nAA = 21\n",
    "\n",
    "# enrichment p-value\n",
    "alpha_geom = 0.05\n",
    "\n",
    "# distance matrix\n",
    "Dist = np.loadtxt ('../data/fosjun/fosjun_distance_matrix.txt')\n",
    "Df   = Dist[:32,32:]\n",
    "\n",
    "# make output directory\n",
    "outdir = os.path.join (indir, 'plots')\n",
    "if not os.path.isdir (outdir) :\n",
    "    os.makedirs (outdir)\n",
    "    \n",
    "# whether to save the plots\n",
    "save = True"
   ]
  },
  {
   "cell_type": "code",
   "execution_count": 7,
   "id": "6919e259",
   "metadata": {},
   "outputs": [],
   "source": [
    "# my data files\n",
    "in_obs_doubles = os.path.join (indir, 'fos_Y_doubles.pkl')\n",
    "in_obs_singles = os.path.join (indir, 'fos_Y_singles.txt')\n",
    "in_obs_ligand  = os.path.join (indir, 'jun' + '_Y_singles.txt')\n",
    "in_obs_reads   = os.path.join (indir, 'fos_D_neutral.pkl')\n",
    "in_obs_sel_reads   = os.path.join (indir, 'fos_D_selection.pkl')\n",
    "\n",
    "# read in data\n",
    "ydoub  = pickle.load ( open (in_obs_doubles, 'rb'))\n",
    "y_sing = np.loadtxt (in_obs_singles) \n",
    "l_sing = np.loadtxt (in_obs_ligand)\n",
    "N0doub = pickle.load ( open (in_obs_reads, 'rb'))\n",
    "N1doub = pickle.load ( open (in_obs_sel_reads, 'rb'))\n",
    "n0_sing  = np.loadtxt (os.path.join (indir, protein + '_S_neutral.txt'))\n",
    "n0_lsing = np.loadtxt (os.path.join (indir, ligand + '_S_neutral.txt'))"
   ]
  },
  {
   "cell_type": "code",
   "execution_count": 8,
   "id": "b9009de5",
   "metadata": {},
   "outputs": [
    {
     "name": "stdout",
     "output_type": "stream",
     "text": [
      "32\n"
     ]
    }
   ],
   "source": [
    "Llig, L, nreps = ydoub.shape\n",
    "npos = int (L / nAA)\n",
    "\n",
    "print (npos)"
   ]
  },
  {
   "cell_type": "code",
   "execution_count": 9,
   "id": "a13dc621",
   "metadata": {},
   "outputs": [],
   "source": [
    "# make big distance matrix\n",
    "bigDist = np.zeros ((Llig,L))\n",
    "for i in range (npos) :\n",
    "    bigDist[(i*nAA):(i*nAA + nAA),:] = np.reshape (np.repeat (Df[i,:], nAA**2), (nAA, L), order='F')"
   ]
  },
  {
   "cell_type": "code",
   "execution_count": 10,
   "id": "3e3cc096",
   "metadata": {},
   "outputs": [],
   "source": [
    "# p-values\n",
    "Pvals  = np.zeros_like (ydoub)\n",
    "Ptwo   = np.zeros_like (Pvals)\n",
    "Dmats  = np.zeros_like (ydoub)\n",
    "Lmats  = np.zeros ( (L, Llig, nreps))\n",
    "Dsyms  = np.zeros_like (Dmats)\n",
    "Rmats  = np.zeros_like (Dmats)\n",
    "LRmats = np.zeros_like (Dmats)\n",
    "for i in range (nreps) :\n",
    "    Pvals[:,:,i] = np.loadtxt (os.path.join (indir, 'rep_' + str (i), protein + '_Psymmetric.txt'))\n",
    "    Ptwo[:,:,i]  = 2 * np.loadtxt (os.path.join (indir, 'rep_' + str (i), protein + '_Ptwosided.txt'))\n",
    "\n",
    "    Dmats[:,:,i] = np.loadtxt (os.path.join (indir, 'rep_' + str (i), protein + '_Dmat.txt'))\n",
    "    Lmats[:,:,i] = np.loadtxt (os.path.join (indir, 'rep_' + str (i), protein + '_LDmat.txt'))\n",
    "    Dsyms[:,:,i] = Dmats[:,:,i] + np.transpose (Lmats[:,:,i])\n",
    "    \n",
    "    Rmats[:,:,i]  = np.loadtxt (os.path.join (indir, 'rep_' + str (i), protein + '_Rmat.txt'))\n",
    "    LRmats[:,:,i] = np.loadtxt (os.path.join (indir, 'rep_' + str (i), protein + '_Lmat.txt'))"
   ]
  },
  {
   "cell_type": "code",
   "execution_count": 11,
   "id": "df838470",
   "metadata": {},
   "outputs": [],
   "source": [
    "# set max P value for two-sided to 1\n",
    "Ptwo[Ptwo > 1] = 1.\n",
    "\n",
    "# -1s to NAs\n",
    "n0_doub = np.array (N0doub, dtype=float)\n",
    "n0_doub[N0doub == -1] = np.nan"
   ]
  },
  {
   "cell_type": "code",
   "execution_count": 12,
   "id": "d1d2c4a6",
   "metadata": {},
   "outputs": [
    {
     "name": "stdout",
     "output_type": "stream",
     "text": [
      "1021.96875\n",
      "931.0560515873016\n",
      "21.91811047335601\n",
      "[1.74872667e+05 6.39666667e+02 6.40000000e+02 4.26935221e-01]\n",
      "58.18143453481501\n",
      "1021.96875\n",
      "931.0560515873016\n"
     ]
    }
   ],
   "source": [
    "print (np.nanmean (n0_sing))\n",
    "print (np.nanmean (n0_lsing))\n",
    "print (np.nanmean (N0doub))\n",
    "\n",
    "tots = np.zeros ( (4, nreps) )\n",
    "for i in range (nreps) :\n",
    "    tots[0,i] = np.sum (~np.isnan (Pvals[:,:,i]))\n",
    "    tots[1,i] = np.sum (~np.isnan (y_sing[:,i]))\n",
    "    tots[2,i] = np.sum (~np.isnan (l_sing[:,i]))    \n",
    "    tots[3,i] = np.sum (~np.isnan (Pvals[:,:,i])) / (npos**2 * 20**2)\n",
    "    \n",
    "print (np.nanmean (tots, axis=1))\n",
    "\n",
    "print (np.nanmean (n0_doub))\n",
    "print (np.nanmean (n0_sing))\n",
    "print (np.nanmean (n0_lsing))"
   ]
  },
  {
   "cell_type": "code",
   "execution_count": 13,
   "id": "32df7e34",
   "metadata": {},
   "outputs": [],
   "source": [
    "# data\n",
    "data = pandas.read_csv (os.path.join (mochi_dir, file_root + '0.txt'), delimiter='\\t', low_memory=False)\n",
    "\n",
    "# wildtype sequence\n",
    "all_wt = data['aa_seq'][data['WT'] == True].to_list ()[0]"
   ]
  },
  {
   "cell_type": "code",
   "execution_count": 14,
   "id": "d1386d51",
   "metadata": {},
   "outputs": [],
   "source": [
    "# organize data from Mochi\n",
    "Yd   = np.zeros ( (Llig, L, nreps+1) ) * np.nan\n",
    "Ystd = np.zeros_like (Yd) * np.nan\n",
    "Yest = np.zeros_like (Yd) * np.nan\n",
    "Lam_d = np.zeros_like (Yd) * np.nan\n",
    "\n",
    "Ys = np.zeros ( (L, nreps+1) ) * np.nan\n",
    "Ys_est = np.zeros_like (Ys) * np.nan\n",
    "Lam_s = np.zeros_like (Ys) * np.nan\n",
    "Yl = np.zeros ( (Llig, nreps+1) ) * np.nan\n",
    "Ys_std = np.zeros_like (Ys) * np.nan\n",
    "Yl_std = np.zeros_like (Yl) * np.nan\n",
    "Lam_l = np.zeros_like (Yl) * np.nan\n",
    "\n",
    "for i in range (nreps+1) :\n",
    "    count = 0\n",
    "    if i < nreps :\n",
    "        data_me = pandas.read_csv (os.path.join (mochi_dir, file_root + str (i) + '.txt'),\n",
    "                               delimiter='\\t', low_memory=False)\n",
    "    else :\n",
    "        data_me = pandas.read_csv (os.path.join ( mochi_dir, 'mochi_sigmoid_all.txt'),\n",
    "                                   delimiter='\\t', low_memory=False)\n",
    "    \n",
    "    for index, row in data_me.iterrows () :\n",
    "\n",
    "        muts = find_mutation (row['aa_seq'], all_wt)\n",
    "\n",
    "        if len (muts) == 2 :\n",
    "            if row['Nham_aa'] != 2 :\n",
    "                print ('Wrong number of mutations.')\n",
    "                print (index)\n",
    "\n",
    "            pp_i, pm_i = muts[0]\n",
    "            cp_i, cm_i = muts[1]\n",
    "\n",
    "            cp_i -= npos\n",
    "\n",
    "            Yd[pp_i*nAA + aadict[pm_i], cp_i*nAA + aadict[cm_i], i]   = row['fitness']\n",
    "            Ystd[pp_i*nAA + aadict[pm_i], cp_i*nAA + aadict[cm_i], i] = row['sigma']\n",
    "            Yest[pp_i*nAA + aadict[pm_i], cp_i*nAA + aadict[cm_i], i] = row['mean']\n",
    "            Lam_d[pp_i*nAA + aadict[pm_i], cp_i*nAA + aadict[cm_i], i] = row['fold_10_additive_trait0']\n",
    "\n",
    "        if len (muts) == 1 :\n",
    "            if row['Nham_aa'] != 1 :\n",
    "                print ('Wrong number of mutations.')\n",
    "                print (index)\n",
    "                \n",
    "            pp_i, pm_i = muts[0]  \n",
    "\n",
    "            if pp_i > (npos-1) :\n",
    "                pp_i -= npos\n",
    "                Yl[pp_i*nAA + aadict[pm_i], i] = row['fitness']\n",
    "                Yl_std[pp_i*nAA + aadict[pm_i], i] = row['sigma']\n",
    "                Lam_l[pp_i*nAA + aadict[pm_i], i] = row['fold_10_additive_trait0']\n",
    "\n",
    "            else :\n",
    "                Ys[pp_i*nAA  + aadict[pm_i], i] = row['fitness']\n",
    "                Ys_std[pp_i*nAA + aadict[pm_i], i] = row['sigma']\n",
    "                Ys_est[pp_i*nAA + aadict[pm_i], i] = row['mean']\n",
    "                Lam_s[pp_i*nAA + aadict[pm_i], i] = row['fold_10_additive_trait0']"
   ]
  },
  {
   "cell_type": "code",
   "execution_count": 15,
   "id": "3b75ad82",
   "metadata": {},
   "outputs": [
    {
     "name": "stdout",
     "output_type": "stream",
     "text": [
      "Prediction accuracy: 0.8975210891753028\n",
      "Prediction accuracy: 0.8957789447000932\n",
      "Prediction accuracy: 0.8945469860099781\n",
      "Prediction accuracy: 0.9179046823485012\n"
     ]
    }
   ],
   "source": [
    "# Compute R2\n",
    "for i in range (nreps+1) :\n",
    "    SSres = (Yd[:,:,i] - Yest[:,:,i])**2\n",
    "    SStot = (Yd[:,:,i] - np.nanmean (Yd[:,:,i]))**2\n",
    "    R2    = 1. - np.nansum (SSres)/ np.nansum (SStot)\n",
    "    print ('Prediction accuracy: ' + str (R2))\n",
    "\n",
    "# Compute residuals\n",
    "#pdz3cript_dm$zscore_dm <- (pdz3cript_dm$`pdz3cript_resids[pdz3cript_double_mut_pos]`)/sqrt((pdz3cript_dm$sigma)^2)\n",
    "Res = (Yd - Yest) / Ystd\n",
    "\n",
    "# compute p values\n",
    "Pmochi    = np.zeros_like (Res)\n",
    "mochi_fdr = np.zeros (nreps+1)\n",
    "for i in range (nreps+1) :\n",
    "    Res_i = (Yd[:,:,i] - Yest[:,:,i]) / Ystd[:,:,i]\n",
    "    \n",
    "    # save residuals to file\n",
    "    np.savetxt (os.path.join (outdir, 'mochi_res_rep_' + str (i) + '.txt'),\n",
    "                np.transpose (Res_i))\n",
    "    Pmochi[:,:,i] = 2*scipy.stats.norm.cdf (-abs (Res_i))\n",
    "    \n",
    "    pvalues      = cp.deepcopy (Pmochi[:,:,i])\n",
    "    fdr_ps       = scipy.stats.false_discovery_control ( pvalues[~np.isnan (pvalues)], method='bh' )\n",
    "    mochi_fdr[i] = np.nanmax (pvalues[~np.isnan (pvalues)][fdr_ps < alpha_geom])\n",
    "    \n",
    "Pmochi[Pmochi == 0] = np.nanmin (Pmochi[Pmochi > 0])"
   ]
  },
  {
   "cell_type": "code",
   "execution_count": 16,
   "id": "8a79bdfe",
   "metadata": {},
   "outputs": [
    {
     "data": {
      "image/png": "[encoded data removed]",
      "text/plain": [
       "<Figure size 650x250 with 5 Axes>"
      ]
     },
     "metadata": {},
     "output_type": "display_data"
    }
   ],
   "source": [
    "plt.rcParams[\"figure.figsize\"] = (6.5,2.5)\n",
    "\n",
    "fig, axs = plt.subplots (1, nreps+1, sharex=True, sharey=True, constrained_layout=True)\n",
    "\n",
    "for i in range (nreps+1) :\n",
    "    \n",
    "    Pm_cp = cp.deepcopy (Pmochi[:,:,i])\n",
    "    Pm_cp[Pm_cp < 1e-10] = 1e-10\n",
    "    myp = axs[i].scatter (Yd[:,:,i], Yest[:,:,i], s=1, alpha=0.75,\n",
    "                 cmap='rocket', c=Pm_cp, norm=mpl.colors.LogNorm (vmin=1e-10, vmax=1))\n",
    "    axs[i].set_xlabel (r'$\\hat Y_{ij}$ (log)')\n",
    "    \n",
    "fig.colorbar (myp, ax=axs[1], location='top', label=r'$p$-value (D+M)')\n",
    "    #plt.colorbar ()\n",
    "axs[0].set_ylabel (r'$\\hat Y_{ij}^{pred}$ (log)')\n",
    "plt.show ()"
   ]
  },
  {
   "cell_type": "code",
   "execution_count": 17,
   "id": "da238bd8",
   "metadata": {},
   "outputs": [
    {
     "name": "stdout",
     "output_type": "stream",
     "text": [
      "168242\n",
      "168242\n",
      "183523\n",
      "183523\n",
      "172853\n",
      "172865\n"
     ]
    }
   ],
   "source": [
    "# save mochi p-values to file\n",
    "for i in range (nreps + 1) :\n",
    "    np.savetxt (os.path.join (outdir, 'mochi_ps_rep_' + str (i) + '.txt'),\n",
    "                np.transpose (Pmochi[:,:,i]))\n",
    "    \n",
    "    if i < nreps :\n",
    "        print (np.sum (~np.isnan (Pvals[:,:,i])))\n",
    "        print (np.sum (~np.isnan (Pmochi[:,:,i])))        "
   ]
  },
  {
   "cell_type": "code",
   "execution_count": 18,
   "id": "0bb3facb",
   "metadata": {},
   "outputs": [],
   "source": [
    "# meta p-value efor mochi\n",
    "metaMochi = compute_meta_p (Pmochi[:,:,:nreps], omit=True, nthres=2)\n",
    "metaP     = compute_meta_p (Pvals, omit=True, nthres=2)\n",
    "metaPtwo  = compute_meta_p (Ptwo, omit=True, nthres=2)"
   ]
  },
  {
   "cell_type": "code",
   "execution_count": 19,
   "id": "49191086",
   "metadata": {},
   "outputs": [
    {
     "name": "stdout",
     "output_type": "stream",
     "text": [
      "9.261816609130294e-25\n",
      "1.8193319042245274e-27\n",
      "3.967471815582071e-26\n",
      "1.45767653382287e-54\n",
      "0.001998001998001998\n",
      "0.002997002997002997\n",
      "0.001998001998001998\n",
      "1.2036756867339626e-05\n",
      "9.261816609130294e-25\n",
      "1.8193319042245274e-27\n",
      "3.967471815582071e-26\n",
      "1.45767653382287e-54\n",
      "0.001998001998001998\n",
      "0.002997002997002997\n",
      "0.001998001998001998\n",
      "1.2036756867339626e-05\n"
     ]
    }
   ],
   "source": [
    "# compute accuracy and recall for each replicate and the meta p-values\n",
    "nalphas = 1000\n",
    "alphas  = np.linspace (1/nalphas, 1, nalphas)\n",
    "dists   = [3, 5]\n",
    "\n",
    "# for mochi\n",
    "Acc_reps  = np.zeros ((nreps+1, nalphas, len (dists)))\n",
    "Prop_reps = np.zeros_like (Acc_reps)\n",
    "# for R&R\n",
    "Acc_reps_r  = np.zeros ((nreps+1, nalphas, len (dists)))\n",
    "Prop_reps_r = np.zeros_like (Acc_reps)\n",
    "for d in range (len (dists)) :\n",
    "    d_i = dists[d]\n",
    "    for i in range (nreps+1) :\n",
    "        Acc_reps[i,:,d], Prop_reps[i,:,d] = compute_auc ( Pmochi[:,:,i], Dist=bigDist,\n",
    "                                                      distance_thres=d_i, quantile=True, alphas=alphas)\n",
    "    \n",
    "    for i in range (nreps) :\n",
    "        Acc_reps_r[i,:,d], Prop_reps_r[i,:,d] = compute_auc ( np.transpose (Pvals[:,:,i]), Dist=bigDist,\n",
    "                                                              distance_thres=d_i, quantile=True, alphas=alphas)\n",
    "\n",
    "    # for R&R meta p-values\n",
    "    Acc_reps_r[-1,:,d], Prop_reps_r[-1,:,d] = compute_auc ( np.transpose (metaP), Dist=bigDist,\n",
    "                                                           distance_thres=d_i, quantile=True, alphas=alphas)"
   ]
  },
  {
   "cell_type": "code",
   "execution_count": 20,
   "id": "0f16bf51",
   "metadata": {},
   "outputs": [],
   "source": [
    "plt.rcParams[\"figure.figsize\"] = (6.5,1.75)\n",
    "\n",
    "fig, axs = plt.subplots (1, nreps+1, sharex=True, sharey=True, constrained_layout=True)\n",
    "\n",
    "min_x = np.min ([np.nanmin (Prop_reps), np.nanmin (Acc_reps)])\n",
    "for i in range (nreps+1) :\n",
    "    if i == nreps :\n",
    "        axs[i].set_title ('Combined')        \n",
    "    else :\n",
    "        axs[i].set_title ('Rep ' + str (i+1)) \n",
    "\n",
    "    for d in range (len (dists)) :\n",
    "        \n",
    "        # plot both mochi and R&R\n",
    "        axs[i].plot (Prop_reps[i,:,d], Acc_reps[i,:,d],\n",
    "                     linestyle=['solid', 'dotted'][d], color='dodgerblue', linewidth=1.,\n",
    "                     label='D+M ' + ['3','5'][d])\n",
    "        axs[i].plot (Prop_reps_r[i,:,d], Acc_reps_r[i,:,d], linestyle=['solid', 'dotted'][d],\n",
    "                     color='orange', linewidth=1.,\n",
    "                     label='R&R ' + ['3','5'][d])\n",
    "    \n",
    "    # identity line\n",
    "    axs[i].plot ( np.linspace (min_x, 1, 20), np.linspace (min_x, 1, 20),\n",
    "                 linestyle='solid', color='black', linewidth=.25, label='id')\n",
    "    \n",
    "    axs[i].set_xlabel ('pseudo-false pos. rate')\n",
    "    axs[i].set_xscale ('log')\n",
    "    axs[i].set_yscale ('log')\n",
    "\n",
    "axs[-1].legend (bbox_to_anchor=(1.05,1.))\n",
    "axs[0].set_ylabel ('pseudo-true pos. rate')\n",
    "\n",
    "if save :\n",
    "    plt.savefig (os.path.join (outdir, 'auc_curves.pdf'), bbox_inches='tight')\n",
    "    plt.close ()\n",
    "else :\n",
    "    plt.show ()"
   ]
  },
  {
   "cell_type": "code",
   "execution_count": 21,
   "id": "e7392453",
   "metadata": {},
   "outputs": [
    {
     "name": "stdout",
     "output_type": "stream",
     "text": [
      "0\n",
      "1\n",
      "2\n",
      "3\n"
     ]
    }
   ],
   "source": [
    "# compute accuracy and recall for each replicate and the meta p-values\n",
    "nalphas = 50\n",
    "alphas  = np.linspace (1/nalphas, 1, nalphas)\n",
    "alphas_r = np.logspace (-2,np.log10 (.5), nalphas)\n",
    "alphas_m = np.logspace (-50,np.log10 (.5), nalphas)\n",
    "\n",
    "# for mochi\n",
    "Acc_reps  = np.zeros ((nreps+1, nalphas))\n",
    "Prop_reps = np.zeros_like (Acc_reps)\n",
    "for i in range (nreps+1) :\n",
    "    print (i)\n",
    "    Acc_reps[i,:], Prop_reps[i,:] = compute_enrichment_accuracy ( Pmochi[:,:,i], Dist=Df,\n",
    "                                                                  distance_thres=5, quantile=False,\n",
    "                                                                  alphas=alphas_m)\n",
    "    \n",
    "# for R&R\n",
    "Acc_reps_r  = np.zeros ((nreps+1, nalphas))\n",
    "Prop_reps_r = np.zeros_like (Acc_reps)\n",
    "for i in range (nreps) :\n",
    "    Acc_reps_r[i,:], Prop_reps_r[i,:] = compute_enrichment_accuracy ( np.transpose (Pvals[:,:,i]), Dist=Df,\n",
    "                                                                      distance_thres=5, quantile=False,\n",
    "                                                                      alphas=alphas_r)\n",
    "    \n",
    "# for R&R meta p-values\n",
    "Acc_reps_r[nreps,:], Prop_reps_r[nreps,:] = compute_enrichment_accuracy ( np.transpose (metaP), Dist=Df,\n",
    "                                                                   distance_thres=5, quantile=False,\n",
    "                                                                   alphas=alphas_r)"
   ]
  },
  {
   "cell_type": "code",
   "execution_count": 22,
   "id": "0e71d0c7",
   "metadata": {},
   "outputs": [
    {
     "name": "stdout",
     "output_type": "stream",
     "text": [
      "[2.76825130e-19 2.34899473e-24 2.50848455e-22 1.14040412e-46]\n",
      "[0.01748679 0.03312019 0.10127747 0.11881153]\n"
     ]
    }
   ],
   "source": [
    "# find the best alpha values in terms of accuracy and recall\n",
    "best_alphas_mochi = np.zeros (nreps+1)\n",
    "best_alphas_randr = np.zeros (nreps+1)\n",
    "for i in range (nreps+1) :\n",
    "    best_alphas_mochi[i] = alphas_m[np.nanargmax (Prop_reps[i,:] + Acc_reps[i,:])]\n",
    "    best_alphas_randr[i] = alphas_r[np.nanargmax (Prop_reps_r[i,:] + Acc_reps_r[i,:])]\n",
    "\n",
    "print (best_alphas_mochi)\n",
    "print (best_alphas_randr)"
   ]
  },
  {
   "cell_type": "code",
   "execution_count": 23,
   "id": "d6d42db7",
   "metadata": {},
   "outputs": [],
   "source": [
    "plt.rcParams[\"figure.figsize\"] = (6,2.25)\n",
    "\n",
    "fig, axs = plt.subplots (1, nreps+1, sharex=True, sharey=True, constrained_layout=True)\n",
    "\n",
    "for i in range (nreps+1) :\n",
    "    \n",
    "    # plot both mochi and R&R\n",
    "    myp_d = axs[i].scatter (Prop_reps[i,:] + np.random.normal (0, .02, nalphas), Acc_reps[i,:], cmap='Blues_r',\n",
    "                            norm=mpl.colors.LogNorm (), marker='v',\n",
    "                            s=10, c=alphas_m, edgecolor='navy', linewidth=.1, label='D+M')\n",
    "    myp_r = axs[i].scatter (Prop_reps_r[i,:] + np.random.normal (0, .02, nalphas), Acc_reps_r[i,:] ,\n",
    "                            norm=mpl.colors.LogNorm (), edgecolor='red',\n",
    "                          cmap='rocket', s=10, c=alphas_r, linewidth=.1, label='R&R')\n",
    "    \n",
    "    if i < nreps :\n",
    "        axs[i].set_title ('rep ' + str (i+1) )\n",
    "    else :\n",
    "        axs[i].set_title ('combined')\n",
    "        \n",
    "    axs[i].set_xlabel ('pseudo-recall')\n",
    "    axs[i].set_ylim ( (-0.05, 1.1) )\n",
    "    #axs[i].set_xscale ('log')\n",
    "\n",
    "fig.colorbar (myp_d, ax=axs[2], location='top', label=r'D+M $\\alpha$' )\n",
    "fig.colorbar (myp_r, ax=axs[1], location='top', label=r'R&R $\\alpha$' )\n",
    "\n",
    "axs[0].set_ylabel ('pseudo-accuracy')\n",
    "\n",
    "if save :\n",
    "    plt.savefig (os.path.join (outdir, 'accuracy_recall_enrichment.pdf'), bbox_inches='tight')\n",
    "    plt.close ()\n",
    "else :\n",
    "    plt.show ()"
   ]
  },
  {
   "cell_type": "code",
   "execution_count": 24,
   "id": "46bc0c0f",
   "metadata": {},
   "outputs": [],
   "source": [
    "# p-value histograms\n",
    "plt.rcParams[\"figure.figsize\"] = (2,2)\n",
    "\n",
    "fig, axs = plt.subplots (4, 1, sharex=True, sharey=True)\n",
    "\n",
    "for i in range (nreps+1) :\n",
    "    if i <= 2 :\n",
    "        Pfoc = cp.deepcopy (Pvals[:,:,i])\n",
    "        label = 'rep ' + str (i+1)\n",
    "    else :\n",
    "        Pfoc = cp.deepcopy (metaP)\n",
    "        label = 'meta'\n",
    "        \n",
    "    axs[i].hist (np.ndarray.flatten (Pfoc), bins=20,\n",
    "                 color='lightgray', edgecolor='black', linewidth=.01)\n",
    "    \n",
    "    axs[i].annotate ( label, (.01,12000), fontsize=7)\n",
    "    if i == 1 :\n",
    "        axs[i].set_ylabel ('Count', labelpad=1)\n",
    "\n",
    "axs[-1].set_xticks (np.linspace (0,1,5), np.linspace (0,1,5))\n",
    "axs[-1].set_xlabel (r'$p$-value', labelpad=.5)\n",
    "\n",
    "if save :\n",
    "    plt.savefig (os.path.join (outdir, 'pij_values.pdf'), bbox_inches='tight')\n",
    "    plt.close ()\n",
    "else :\n",
    "    plt.show ()"
   ]
  },
  {
   "cell_type": "code",
   "execution_count": 25,
   "id": "77985945",
   "metadata": {},
   "outputs": [],
   "source": [
    "# p-value histograms\n",
    "plt.rcParams[\"figure.figsize\"] = (2,2)\n",
    "\n",
    "fig, axs = plt.subplots (4, 1, sharex=True, sharey=True)\n",
    "\n",
    "for i in range (nreps+1) :\n",
    "    if i <= 2 :\n",
    "        Pfoc = cp.deepcopy (Pmochi[:,:,i])\n",
    "        label = 'rep ' + str (i+1)\n",
    "    else :\n",
    "        Pfoc = cp.deepcopy (metaMochi)\n",
    "        label = 'meta'\n",
    "        \n",
    "    axs[i].hist (np.ndarray.flatten (Pfoc), bins=20,\n",
    "                 color='lightgray', edgecolor='black', linewidth=.01)\n",
    "    \n",
    "    axs[i].annotate ( label, (.85,20000), fontsize=7)\n",
    "    if i == 1 :\n",
    "        axs[i].set_ylabel ('Count', labelpad=1)\n",
    "\n",
    "axs[-1].set_xticks (np.linspace (0,1,5), np.linspace (0,1,5))\n",
    "axs[-1].set_xlabel (r'$p$-value', labelpad=.5)\n",
    "\n",
    "if save :\n",
    "    plt.savefig (os.path.join (outdir, 'pij_values_mochi.pdf'), bbox_inches='tight')\n",
    "    plt.close ()\n",
    "else :\n",
    "    plt.show ()"
   ]
  },
  {
   "cell_type": "code",
   "execution_count": 26,
   "id": "05c5070b",
   "metadata": {
    "scrolled": false
   },
   "outputs": [
    {
     "name": "stdout",
     "output_type": "stream",
     "text": [
      "PearsonRResult(statistic=0.20483591341342974, pvalue=0.0)\n",
      "SignificanceResult(statistic=0.19576026449549175, pvalue=0.0)\n",
      "SignificanceResult(statistic=0.4137138420746015, pvalue=0.0)\n",
      "0.27435328898743533\n",
      "0.24337791765014424\n",
      "PearsonRResult(statistic=0.21448266456595605, pvalue=0.0)\n",
      "SignificanceResult(statistic=0.20559291031181148, pvalue=0.0)\n",
      "SignificanceResult(statistic=0.42077920777964195, pvalue=0.0)\n",
      "0.27627494456762747\n",
      "0.26088777219430487\n",
      "PearsonRResult(statistic=0.2108689073795068, pvalue=0.0)\n",
      "SignificanceResult(statistic=0.2019383497396112, pvalue=0.0)\n",
      "SignificanceResult(statistic=0.4220441330064416, pvalue=0.0)\n",
      "0.25714660372410175\n",
      "0.27372975991066445\n"
     ]
    }
   ],
   "source": [
    "plt.rcParams[\"figure.figsize\"] = (4.75,1.5)\n",
    "\n",
    "fig, axs = plt.subplots (1,3, sharex=True, sharey=True, constrained_layout=True)\n",
    "\n",
    "ct = 0\n",
    "for i in range (nreps) :\n",
    "    for j in range (i+1, nreps) :\n",
    "        axs[ct].hist2d (np.ndarray.flatten (Pvals[:,:,i]),\n",
    "                              np.ndarray.flatten (Pvals[:,:,j]),\n",
    "                              bins=np.logspace (np.log10 (np.nanmin (Pvals)), 0, 15),\n",
    "                              norm=mpl.colors.LogNorm (vmin=1, vmax=47000), cmap='gray_r')\n",
    "\n",
    "        axs[ct].set_xlabel (r'Rep. ' + str (i+1))\n",
    "        axs[ct].set_ylabel (r'Rep. ' + str (j+1))\n",
    "        axs[ct].set_xscale ('log')\n",
    "        axs[ct].set_yscale ('log')\n",
    "        \n",
    "        val_i = cp.deepcopy (np.ndarray.flatten (Pvals[:,:,i]))\n",
    "        val_j = cp.deepcopy (np.ndarray.flatten (Pvals[:,:,j]))\n",
    "        \n",
    "        print (scipy.stats.pearsonr (val_i[np.logical_and (~np.isnan (val_i), ~np.isnan (val_j))],\n",
    "                                     val_j[np.logical_and (~np.isnan (val_i), ~np.isnan (val_j))] ))\n",
    "        print (scipy.stats.spearmanr (np.ndarray.flatten (Pvals[:,:,i]), np.ndarray.flatten (Pvals[:,:,j]),\n",
    "                                      nan_policy='omit') )\n",
    "        print (scipy.stats.spearmanr (np.ndarray.flatten (Dsyms[:,:,i]), np.ndarray.flatten (Dsyms[:,:,j]),\n",
    "                                      nan_policy='omit') )\n",
    "        \n",
    "        print ( np.sum (np.logical_and (Pvals[:,:,i] < alpha_geom, Pvals[:,:,j] < alpha_geom) ) /\n",
    "                np.sum (Pvals[:,:,i] < alpha_geom))\n",
    "        print ( np.sum (np.logical_and (Pvals[:,:,i] < alpha_geom, Pvals[:,:,j] < alpha_geom) ) /\n",
    "                np.sum (Pvals[:,:,j] < alpha_geom))\n",
    "        ct += 1\n",
    "        \n",
    "cmap = mpl.cm.gray_r\n",
    "norm = mpl.colors.LogNorm (vmin=1, vmax=47000)\n",
    "fig.colorbar (mpl.cm.ScalarMappable(norm=norm, cmap=cmap),\n",
    "              ax=axs[-1], label='# $p$-values')\n",
    "if save :\n",
    "    plt.savefig (os.path.join (outdir, 'fos_pvalue_reps.pdf'), bbox_inches='tight', dpi=600,\n",
    "                transparent=True)\n",
    "    plt.close ()\n",
    "else :\n",
    "    plt.show ()"
   ]
  },
  {
   "cell_type": "code",
   "execution_count": 27,
   "id": "65a591d6",
   "metadata": {},
   "outputs": [
    {
     "name": "stdout",
     "output_type": "stream",
     "text": [
      "8687\n",
      "1856\n",
      "8456\n",
      "1869\n",
      "9000\n",
      "1961\n"
     ]
    }
   ],
   "source": [
    "plt.rcParams[\"figure.figsize\"] = (3.5,2.5)\n",
    "\n",
    "logbins = log_bins (ydoub, 20)\n",
    "\n",
    "fig, axs = plt.subplots (3,3, sharex=True, sharey='row', constrained_layout=True)\n",
    "\n",
    "ct = 0\n",
    "for i in range (nreps) :\n",
    "    for j in range (i+1, nreps) :\n",
    "        \n",
    "        vals = np.nanmean (ydoub[np.logical_and (Pvals[:,:,i] <= alpha_geom, Pvals[:,:,j] > alpha_geom),:], axis=1)\n",
    "        vals = np.append (vals, np.nanmean (ydoub[np.logical_and (Pvals[:,:,j] <= alpha_geom, Pvals[:,:,i] > alpha_geom)], axis=1))\n",
    "        \n",
    "        print (np.sum (~np.isnan (vals)))\n",
    "        axs[0,ct].hist (vals, bins=logbins, color='lightgray', edgecolor='black', linewidth=0.1)\n",
    "        \n",
    "        vals = np.nanmean (ydoub[np.logical_and (Pvals[:,:,i] <= alpha_geom, Pvals[:,:,j] <= alpha_geom)], axis=1)        \n",
    "        print (np.sum (~np.isnan (vals)))\n",
    "        axs[1,ct].hist (np.ndarray.flatten (vals), bins=logbins,\n",
    "                        color='gray', edgecolor='black', linewidth=0.1)\n",
    "        \n",
    "        \n",
    "        axs[2,ct].hist ( np.ndarray.flatten ((ydoub[:,:,i] + ydoub[:,:,j]) /2), bins=logbins,\n",
    "                        color='moccasin', edgecolor='black', linewidth=0.1 )\n",
    "                \n",
    "        axs[0,ct].set_xscale ('log')\n",
    "        axs[2,ct].set_xlabel (r'$\\bar Y_{ij}$', labelpad=0)\n",
    "        for k in range (2) :\n",
    "            axs[k,ct].tick_params (length=2, pad=1)\n",
    "        axs[0,ct].set_title ('Rep ' + str (i) + ' vs. ' + str (j))\n",
    "\n",
    "        ct += 1\n",
    "\n",
    "for k in range (3) :\n",
    "    axs[k,0].set_ylabel ('Count')\n",
    "    axs[k,-1].yaxis.set_label_position(\"right\")\n",
    "\n",
    "axs[0,-1].set_ylabel ('Not shared', rotation=270, labelpad=10)\n",
    "axs[1,-1].set_ylabel ('Shared', rotation=270, labelpad=10)\n",
    "axs[2,-1].set_ylabel ('All', rotation=270, labelpad=10)\n",
    "\n",
    "\n",
    "if save :\n",
    "    plt.savefig (os.path.join (outdir, 'y_val_replicate.pdf'), bbox_inches='tight')\n",
    "    plt.close ()\n",
    "else :\n",
    "    plt.show ()"
   ]
  },
  {
   "cell_type": "code",
   "execution_count": 28,
   "id": "ad89eed0",
   "metadata": {
    "scrolled": false
   },
   "outputs": [
    {
     "name": "stdout",
     "output_type": "stream",
     "text": [
      "(672, 672)\n",
      "283342\n",
      "283342\n",
      "283342\n",
      "None\n",
      "0.20199778024417314\n",
      "power:\n",
      "0.4444444444444444\n"
     ]
    },
    {
     "name": "stderr",
     "output_type": "stream",
     "text": [
      "/Users/maryncarlson/nitmb/resample_and_reorder/notebooks/../code/plot_functions.py:374: RuntimeWarning: invalid value encountered in scalar divide\n",
      "  Power[i,j] = num_ij / den_ij\n"
     ]
    },
    {
     "name": "stdout",
     "output_type": "stream",
     "text": [
      "0.061877667140825036\n",
      "(672, 672)\n",
      "283342\n",
      "283342\n",
      "283342\n",
      "None\n",
      "0.20199778024417314\n",
      "power:\n",
      "0.6666666666666666\n",
      "0.13264604810996564\n",
      "(672, 672)\n",
      "268061\n",
      "268061\n",
      "268061\n",
      "None\n",
      "0.2112088930060213\n",
      "power:\n",
      "0.5\n",
      "0.06141439205955335\n",
      "(672, 672)\n",
      "268061\n",
      "268061\n",
      "268061\n",
      "None\n",
      "0.2112088930060213\n",
      "power:\n",
      "0.5\n",
      "0.12234042553191489\n",
      "(672, 672)\n",
      "278731\n",
      "278731\n",
      "278731\n",
      "None\n",
      "0.20342612419700215\n",
      "power:\n",
      "0.8\n",
      "0.06471389645776567\n",
      "(672, 672)\n",
      "278719\n",
      "278719\n",
      "278719\n",
      "None\n",
      "0.20342612419700215\n",
      "power:\n",
      "0.8\n",
      "0.1231630510846746\n"
     ]
    }
   ],
   "source": [
    "# find correct mochi significance threshold\n",
    "mochi_thresholds = np.zeros (nreps)\n",
    "two_thresholds   = np.zeros (nreps)\n",
    "for i in range (nreps) :\n",
    "    \n",
    "    \n",
    "    mochi_thresholds[i] = find_mochi_alpha_empirical (np.transpose (Pvals[:,:,i]), Pmochi[:,:,i],\n",
    "                                                      bigDist, alpha_geom, alphas=np.logspace (-5,-1,1000),\n",
    "                                                      dthres=5)\n",
    "    \n",
    "        \n",
    "    two_thresholds[i] = find_mochi_alpha_empirical (np.transpose (Pvals[:,:,i]), np.transpose (Ptwo[:,:,i]),\n",
    "                                                      bigDist, alpha_geom, alphas=np.logspace (-5,-1,1000),\n",
    "                                                      dthres=5)\n",
    "\n",
    "\n",
    "    make_fpr_figure_individual (np.transpose (Pvals[:,:,i]), bigDist,\n",
    "                                np.transpose (Dsyms[:,:,i]),\n",
    "                                ls=y_sing[:,i], ys=l_sing[:,i], alpha=alpha_geom,\n",
    "                                outlabel=protein + '_' + str (i), save=save,\n",
    "                                outdir=outdir, figsize=(.9,.9),\n",
    "                                conmax=None, fpmax=None, powermax=None)\n",
    "    \n",
    "    make_fpr_figure_individual (Pmochi[:,:,i], bigDist, Res[:,:,i],\n",
    "                                ls=y_sing[:,i], ys=l_sing[:,i], alpha=mochi_thresholds[i],\n",
    "                                outlabel=protein + '_mochi_' + str (i), save=save,\n",
    "                                outdir=outdir, figsize=(1.2,1.2),\n",
    "                                conmax=None, fpmax=None, powermax=None)"
   ]
  },
  {
   "cell_type": "code",
   "execution_count": 29,
   "id": "ab3b6e47",
   "metadata": {},
   "outputs": [
    {
     "name": "stdout",
     "output_type": "stream",
     "text": [
      "[0.00361875 0.00238989 0.00300939]\n",
      "[0.04827071 0.04827071 0.04827071]\n"
     ]
    }
   ],
   "source": [
    "print (mochi_thresholds)\n",
    "print (two_thresholds)"
   ]
  },
  {
   "cell_type": "code",
   "execution_count": 30,
   "id": "6dca7296",
   "metadata": {
    "scrolled": false
   },
   "outputs": [
    {
     "name": "stdout",
     "output_type": "stream",
     "text": [
      "max fp: 0.13264604810996564\n",
      "max fp: 0.12234042553191489\n",
      "max fp: 0.1231630510846746\n"
     ]
    },
    {
     "name": "stderr",
     "output_type": "stream",
     "text": [
      "/var/folders/38/f4j79l017855c4b93219m3bh0000gp/T/ipykernel_4111/3779556221.py:21: RuntimeWarning: Mean of empty slice\n",
      "  ys=np.nanmean (np.log10 (l_sing), axis=1),\n",
      "/var/folders/38/f4j79l017855c4b93219m3bh0000gp/T/ipykernel_4111/3779556221.py:22: RuntimeWarning: Mean of empty slice\n",
      "  ls=np.nanmean (np.log10 (y_sing), axis=1), svg=False,\n"
     ]
    },
    {
     "name": "stdout",
     "output_type": "stream",
     "text": [
      "max fp: 0.14780457637600494\n"
     ]
    }
   ],
   "source": [
    "for i in range (nreps+1) :    \n",
    "    \n",
    "    if i < nreps :   \n",
    "        # mochi figure\n",
    "        make_fpr_figure_contacts_asym ( P=Pmochi[:,:,i], Imat=bigDist, Dmat=Res[:,:,i],\n",
    "                                        ys=l_sing[:,i], ls=y_sing[:,i], svg=False,\n",
    "                                        alpha=mochi_thresholds[i], \n",
    "                                        outlabel=protein + '_mochi_' + str (i),\n",
    "                                        save=save, outdir=outdir)\n",
    "        \n",
    "    else :\n",
    "        # mochi threshold\n",
    "        mochi_alpha_thres = find_mochi_alpha_empirical ( pval_r=np.transpose (metaP),\n",
    "                                                         pval_m=Pmochi[:,:,-1],\n",
    "                                                         imat=bigDist,\n",
    "                                                         alpha_sig=alpha_geom,\n",
    "                                                         alphas=np.logspace(-50,-2,1000), dthres=5)\n",
    "        \n",
    "        # make figure\n",
    "        make_fpr_figure_contacts_asym (P=Pmochi[:,:,i], Imat=bigDist, Dmat=Res[:,:,i],\n",
    "                                       ys=np.nanmean (np.log10 (l_sing), axis=1),\n",
    "                                       ls=np.nanmean (np.log10 (y_sing), axis=1), svg=False,\n",
    "                                       alpha=mochi_alpha_thres, \n",
    "                                       outlabel=protein + '_mochi_' + str (i),\n",
    "                                       save=save, outdir=outdir)\n"
   ]
  },
  {
   "cell_type": "code",
   "execution_count": 31,
   "id": "75bc3e1b",
   "metadata": {
    "scrolled": false
   },
   "outputs": [
    {
     "name": "stdout",
     "output_type": "stream",
     "text": [
      "max fp: 0.061877667140825036\n",
      "max fp: 0.06156156156156156\n",
      "max fp: 0.06141439205955335\n",
      "max fp: 0.05886426592797784\n",
      "max fp: 0.06471389645776567\n",
      "max fp: 0.058784676354029064\n"
     ]
    }
   ],
   "source": [
    "for i in range (nreps) :    \n",
    "\n",
    "    make_fpr_figure_contacts_asym (P=np.transpose (Pvals[:,:,i]),\n",
    "                                   Imat=bigDist,\n",
    "                                   Dmat=np.transpose (Dsyms[:,:,i]),\n",
    "                                   ys=l_sing[:,i], ls=y_sing[:,i],\n",
    "                                   alpha=alpha_geom, svg=False,\n",
    "                                   outlabel=protein + '_' + str (i), save=save,\n",
    "                                   outdir=outdir)\n",
    "\n",
    "    make_fpr_figure_contacts_asym (P=np.transpose (Ptwo[:,:,i]),\n",
    "                                   Imat=bigDist,\n",
    "                                   Dmat=np.transpose (Dsyms[:,:,i]),\n",
    "                                   ys=l_sing[:,i], ls=y_sing[:,i],\n",
    "                                   alpha=two_thresholds[i], \n",
    "                                   outlabel=protein + '_two_' + str (i),\n",
    "                                   save=save, outdir=outdir)"
   ]
  },
  {
   "cell_type": "code",
   "execution_count": 32,
   "id": "3bee84da",
   "metadata": {},
   "outputs": [
    {
     "name": "stderr",
     "output_type": "stream",
     "text": [
      "/var/folders/38/f4j79l017855c4b93219m3bh0000gp/T/ipykernel_4111/2559774262.py:12: RuntimeWarning: Mean of empty slice\n",
      "  plot_enrichment_fos (Epos_mochi, np.nanmean (Res, axis=2), Df, metaMochi,\n"
     ]
    },
    {
     "data": {
      "image/png": "[encoded data removed]",
      "text/plain": [
       "<Figure size 200x200 with 1 Axes>"
      ]
     },
     "metadata": {},
     "output_type": "display_data"
    },
    {
     "name": "stderr",
     "output_type": "stream",
     "text": [
      "/Users/maryncarlson/nitmb/resample_and_reorder/notebooks/../code/plot_functions.py:147: RuntimeWarning: divide by zero encountered in log10\n",
      "  s=(-np.log10 (Emat[x,y])))\n",
      "/var/folders/38/f4j79l017855c4b93219m3bh0000gp/T/ipykernel_4111/2559774262.py:16: RuntimeWarning: Mean of empty slice\n",
      "  plot_enrichment_fos (Epos_mochi, np.nanmean (Res, axis=2), Df, metaMochi,\n"
     ]
    },
    {
     "data": {
      "image/png": "[encoded data removed]",
      "text/plain": [
       "<Figure size 200x200 with 1 Axes>"
      ]
     },
     "metadata": {},
     "output_type": "display_data"
    },
    {
     "name": "stderr",
     "output_type": "stream",
     "text": [
      "/Users/maryncarlson/nitmb/resample_and_reorder/notebooks/../code/plot_functions.py:147: RuntimeWarning: divide by zero encountered in log10\n",
      "  s=(-np.log10 (Emat[x,y])))\n"
     ]
    }
   ],
   "source": [
    "# meta p-values\n",
    "#metaMochi = compute_meta_p (Pmochi[:,:,:nreps], omit=True, nthres=2)\n",
    "metaMochi = cp.deepcopy (Pmochi[:,:,-1])\n",
    "\n",
    "# remove null alleles\n",
    "nidxs     = np.arange (nAA-1,L,nAA)\n",
    "metaMochi_null = cp.deepcopy (metaMochi)\n",
    "metaMochi_null[nidxs,:] = np.nan\n",
    "metaMochi_null[:,nidxs] = np.nan\n",
    "\n",
    "Epos_mochi, Etot_mochi = compute_enrichment (Pmochi[:,:,-1], alpha=best_alphas_mochi[-1])\n",
    "plot_enrichment_fos (Epos_mochi, np.nanmean (Res, axis=2), Df, metaMochi,\n",
    "                         outdir=outdir, outlabel='mochi_null_', save=save)\n",
    "\n",
    "Epos_mochi, Etot_mochi = compute_enrichment (metaMochi_null, alpha=best_alphas_mochi[-1])\n",
    "plot_enrichment_fos (Epos_mochi, np.nanmean (Res, axis=2), Df, metaMochi,\n",
    "                         outdir=outdir, outlabel='mochi_nonull_', save=save)"
   ]
  },
  {
   "cell_type": "code",
   "execution_count": 33,
   "id": "a8dbc0e5",
   "metadata": {
    "scrolled": false
   },
   "outputs": [
    {
     "name": "stderr",
     "output_type": "stream",
     "text": [
      "/var/folders/38/f4j79l017855c4b93219m3bh0000gp/T/ipykernel_4111/827204090.py:2: RuntimeWarning: Mean of empty slice\n",
      "  plot_enrichment_fos_svg (np.transpose (Epos), np.transpose (np.nanmean (Dsyms, axis=2)),\n"
     ]
    },
    {
     "data": {
      "image/png": "[encoded data removed]",
      "text/plain": [
       "<Figure size 200x200 with 1 Axes>"
      ]
     },
     "metadata": {},
     "output_type": "display_data"
    },
    {
     "name": "stdout",
     "output_type": "stream",
     "text": [
      "\n"
     ]
    },
    {
     "name": "stderr",
     "output_type": "stream",
     "text": [
      "/var/folders/38/f4j79l017855c4b93219m3bh0000gp/T/ipykernel_4111/827204090.py:14: RuntimeWarning: Mean of empty slice\n",
      "  plot_enrichment_fos_svg (np.transpose (Epos), np.transpose (np.nanmean (Dsyms, axis=2)),\n"
     ]
    },
    {
     "data": {
      "image/png": "[encoded data removed]",
      "text/plain": [
       "<Figure size 200x200 with 1 Axes>"
      ]
     },
     "metadata": {},
     "output_type": "display_data"
    },
    {
     "name": "stdout",
     "output_type": "stream",
     "text": [
      "\n"
     ]
    }
   ],
   "source": [
    "Epos, Etot = compute_enrichment (metaP, alpha=alpha_geom)\n",
    "plot_enrichment_fos_svg (np.transpose (Epos), np.transpose (np.nanmean (Dsyms, axis=2)),\n",
    "                         Df, np.transpose (metaP),\n",
    "                         outdir=outdir, outlabel='randr_null_', save=save,\n",
    "                         figsize=(2.25,2.25))\n",
    "\n",
    "# remove null alleles\n",
    "nidxs     = np.arange (nAA-1,L,nAA)\n",
    "metaP_null = cp.deepcopy (metaP)\n",
    "metaP_null[nidxs,:] = np.nan\n",
    "metaP_null[:,nidxs] = np.nan\n",
    "\n",
    "Epos, Etot = compute_enrichment (metaP_null, alpha=alpha_geom)\n",
    "plot_enrichment_fos_svg (np.transpose (Epos), np.transpose (np.nanmean (Dsyms, axis=2)),\n",
    "                         Df, np.transpose (metaP),\n",
    "                         outdir=outdir, outlabel='randr_no_null_', save=save,\n",
    "                         figsize=(2.25,2.25))\n",
    "\n",
    "\n"
   ]
  },
  {
   "cell_type": "code",
   "execution_count": 34,
   "id": "3bdd46ff",
   "metadata": {},
   "outputs": [
    {
     "name": "stderr",
     "output_type": "stream",
     "text": [
      "/var/folders/38/f4j79l017855c4b93219m3bh0000gp/T/ipykernel_4111/779618483.py:2: RuntimeWarning: Mean of empty slice\n",
      "  Dcp  = np.nanmean (Dsyms, axis=2)\n"
     ]
    }
   ],
   "source": [
    "Efdr = multiple_test_correct (Epos)\n",
    "Dcp  = np.nanmean (Dsyms, axis=2)\n",
    "\n",
    "metacp = cp.deepcopy (metaP)\n",
    "# remove null alleles\n",
    "nidxs = np.arange (nAA-1,L,nAA)\n",
    "metacp[nidxs,:] = np.nan\n",
    "metacp[:,nidxs] = np.nan\n",
    "Dcp[metacp > .1] = np.nan\n",
    "\n",
    "x, y = np.where (np.logical_and (np.transpose (Efdr < .1), Df <= 5))\n",
    "dlist = np.zeros ( (len (x), nAA**2))\n",
    "for i in range (len (x)) :\n",
    "    fos_i = x[i]\n",
    "    jun_i = y[i]\n",
    "    dlist[i,:] = np.ndarray.flatten (Dcp[jun_i*nAA:(jun_i*nAA + nAA),:][:,fos_i*nAA:(fos_i*nAA + nAA)])\n",
    "    \n",
    "x, y = np.where (np.logical_and (np.transpose (Efdr < .1), Df > 5))\n",
    "dnlist = np.zeros ( (len (x), nAA**2))\n",
    "for i in range (len (x)) :\n",
    "    fos_i = x[i]\n",
    "    jun_i = y[i]\n",
    "    dnlist[i,:] = np.ndarray.flatten (Dcp[jun_i*nAA:(jun_i*nAA + nAA),:][:,fos_i*nAA:(fos_i*nAA + nAA)])"
   ]
  },
  {
   "cell_type": "code",
   "execution_count": 35,
   "id": "8a317f97",
   "metadata": {},
   "outputs": [],
   "source": [
    "plt.rcParams[\"figure.figsize\"] = (1.2,1)\n",
    "\n",
    "\n",
    "maxval = np.nanmax ( np.abs (dlist))\n",
    "maxval = np.nanmax ( [maxval, np.nanmax (np.abs (dnlist))] )\n",
    "bins = np.linspace (-maxval, maxval, 20)\n",
    "\n",
    "fig, axs = plt.subplots (2, 1, sharex=True)\n",
    "\n",
    "axs[0].hist (np.ndarray.flatten (dlist), bins=bins, color='dimgray', label=r'$\\leq 5\\AA$',\n",
    "             edgecolor='black', linewidth=.2)\n",
    "axs[0].legend (frameon=False, handlelength=0, handletextpad=.15, fontsize=6,\n",
    "               bbox_to_anchor=(0.4,0.4))\n",
    "axs[1].hist (np.ndarray.flatten (dnlist), alpha=0.5, bins=bins, color='gray', label=r'$>5\\AA$',\n",
    "             edgecolor='black', linewidth=.2)\n",
    "axs[1].legend (frameon=False, handlelength=0, handletextpad=.15, fontsize=6,\n",
    "               bbox_to_anchor=(0.4,0.4))\n",
    "xs = np.arange (-1000, maxval, 1000)\n",
    "axs[1].set_xticks ( xs, np.array (xs, dtype=int), fontsize=6 )\n",
    "axs[1].set_xlabel (r'$\\bar D_{ij}$', labelpad=.5)\n",
    "\n",
    "for i in range (2) :\n",
    "    axs[i].set_ylabel ('Count')\n",
    "    axs[i].tick_params (length=2)\n",
    "    axs[i].xaxis.set_tick_params (pad=2)\n",
    "    axs[i].yaxis.set_tick_params (pad=1.5, labelsize=6)\n",
    "    axs[i].axvline (0, color='black', linestyle='dashed', linewidth=.2)\n",
    "if save :\n",
    "    plt.savefig (os.path.join (outdir, 'contacts_hists.svg'), format='svg', transparent=True, dpi=600)\n",
    "    plt.close ()\n",
    "else :\n",
    "    plt.show ()"
   ]
  },
  {
   "cell_type": "code",
   "execution_count": 36,
   "id": "617d4228",
   "metadata": {},
   "outputs": [
    {
     "name": "stderr",
     "output_type": "stream",
     "text": [
      "/var/folders/38/f4j79l017855c4b93219m3bh0000gp/T/ipykernel_4111/3966339556.py:2: RuntimeWarning: Mean of empty slice\n",
      "  avgSign = compute_avg_sign_matrix (np.nanmean (Dsyms, axis=2), metaP)\n"
     ]
    }
   ],
   "source": [
    "# average sogm ,atrox\n",
    "avgSign = compute_avg_sign_matrix (np.nanmean (Dsyms, axis=2), metaP)\n",
    "\n",
    "plt.rcParams[\"figure.figsize\"] = (2,2)\n",
    "\n",
    "plt.scatter (np.transpose (Df), Etot, c=avgSign, cmap='Spectral', vmin=-1, vmax=1,\n",
    "             edgecolor='black', linewidth=0.01)\n",
    "plt.xticks (np.arange (0, np.nanmax (Df),5), np.array (np.arange (0, np.nanmax (Df),5), dtype=int))\n",
    "plt.axvline (5, color='black', linestyle='--', linewidth=1, alpha=.25, label=r'$5\\AA$')\n",
    "plt.ylabel (r'# signif. AA pairs')\n",
    "plt.xlabel ('Physical distance ($\\AA$)')\n",
    "\n",
    "fdrps = scipy.stats.false_discovery_control (np.ndarray.flatten (Epos))\n",
    "thres = np.nanmin ( np.ndarray.flatten (Etot)[fdrps < .01])\n",
    "plt.axhline (thres, color='black', linestyle='dotted', label='FDR,.1')\n",
    "plt.legend (frameon=False, fontsize=10, handlelength=2)\n",
    "\n",
    "if save :\n",
    "    plt.savefig ( os.path.join (outdir, 'randr_distance_' + protein + '.pdf'), bbox_inches='tight')\n",
    "    plt.close ()\n",
    "else :\n",
    "    plt.show ()   \n",
    "    "
   ]
  },
  {
   "cell_type": "code",
   "execution_count": 37,
   "id": "64ce53f9",
   "metadata": {},
   "outputs": [],
   "source": [
    "plt.rcParams[\"figure.figsize\"] = (1.,1.)\n",
    "#plt.rcParams[\"figure.figsize\"] = (4,4)\n",
    "\n",
    "fig, ax = plt.subplots ()\n",
    "\n",
    "# block 1\n",
    "plt.scatter (np.transpose (Df), Etot, c=avgSign, cmap='Spectral', vmin=-1, vmax=1,\n",
    "             edgecolor='black', linewidth=0.05, s=5)\n",
    "\n",
    "plt.xticks (np.arange (0, np.nanmax (Df),5), np.array (np.arange (0, np.nanmax (Df),5), dtype=int), fontsize=6)\n",
    "plt.xlim ((-0.5, np.nanmax (Df)+.5))\n",
    "plt.axvline (5, color='black', linestyle='-', linewidth=.5, alpha=0.25, label=r'5$\\AA$')\n",
    "\n",
    "fdrps = scipy.stats.false_discovery_control (np.ndarray.flatten (Epos))\n",
    "thres = np.nanmin ( np.ndarray.flatten (Etot)[fdrps < .01])\n",
    "plt.axhline (thres, color='black', linestyle='dotted', label='FDR', linewidth=.5)\n",
    "\n",
    "focal_pairs = [(3,3), (7,7), (14,14)]\n",
    "offset = [3,2,-8]\n",
    "for i in range (len (focal_pairs)) :\n",
    "    x_i = focal_pairs[i][0]\n",
    "    y_i = focal_pairs[i][1]\n",
    "    plt.scatter ( Df[x_i,y_i], Etot[x_i,y_i],\n",
    "                  marker='o', c=avgSign[x_i,y_i], cmap='Spectral', vmin=-1, vmax=1,\n",
    "                 edgecolor='black',\n",
    "                 linewidth=.2, s=10)\n",
    "               \n",
    "    plt.annotate ( all_wt[y_i] + str (y_i+1) + ',' + all_wt[x_i + npos] + str (x_i+1),\n",
    "                  (Df[x_i,y_i]+1.5, Etot[x_i,y_i] + offset[i]),\n",
    "                  fontsize=6)\n",
    "\n",
    "# axis parameters\n",
    "ax.locator_params(axis='x', nbins=5)\n",
    "ax.tick_params (length=2)\n",
    "ax.xaxis.set_tick_params (pad=2)\n",
    "ax.yaxis.set_tick_params (pad=1.5)\n",
    "ax.set_yticks (np.arange (0,np.nanmax (Etot),20),\n",
    "               np.array (np.arange (0,np.nanmax (Etot),20), dtype=int),\n",
    "               fontsize=6)\n",
    "\n",
    "# axis labels and legend\n",
    "plt.ylabel (r'# sig. pairs', labelpad=2)\n",
    "plt.xlabel ('distance ($\\AA$)', labelpad=2)\n",
    "plt.legend (frameon=False, handlelength=1, fontsize=6)\n",
    "\n",
    "#plt.colorbar (shrink=0.75, label=r'Avg. sign ($\\hat D_{ij}$)')\n",
    "if save :\n",
    "    plt.savefig ( os.path.join (outdir, 'randr_fosjun_distance.svg'),\n",
    "                  bbox_inches='tight', format='svg', transparent=True, dpi=600)\n",
    "    plt.close ()\n",
    "else :\n",
    "    plt.show ()"
   ]
  },
  {
   "cell_type": "code",
   "execution_count": 38,
   "id": "92e644fc",
   "metadata": {
    "scrolled": false
   },
   "outputs": [
    {
     "name": "stderr",
     "output_type": "stream",
     "text": [
      "/var/folders/38/f4j79l017855c4b93219m3bh0000gp/T/ipykernel_4111/1641037748.py:2: RuntimeWarning: Mean of empty slice\n",
      "  plot_enrichment_fos (Epos_mochi, np.nanmean (Res, axis=2), Df, metaMochi,\n"
     ]
    },
    {
     "data": {
      "image/png": "[encoded data removed]",
      "text/plain": [
       "<Figure size 200x200 with 1 Axes>"
      ]
     },
     "metadata": {},
     "output_type": "display_data"
    },
    {
     "name": "stderr",
     "output_type": "stream",
     "text": [
      "/Users/maryncarlson/nitmb/resample_and_reorder/notebooks/../code/plot_functions.py:147: RuntimeWarning: divide by zero encountered in log10\n",
      "  s=(-np.log10 (Emat[x,y])))\n"
     ]
    }
   ],
   "source": [
    "Epos_mochi, Etot_mochi = compute_enrichment (metaMochi, alpha=best_alphas_mochi[-1])\n",
    "plot_enrichment_fos (Epos_mochi, np.nanmean (Res, axis=2), Df, metaMochi,\n",
    "                     outdir=outdir, outlabel='dm_no_null_', save=save)\n",
    "\n",
    "plt.rcParams[\"figure.figsize\"] = (3,2)\n",
    "\n",
    "plt.scatter (Df, Etot_mochi, c=avgSign, cmap='Spectral', vmin=-1, vmax=1,\n",
    "             edgecolor='black', linewidth=0.01)\n",
    "plt.colorbar (shrink=0.75, label=r'Avg. sign ($\\hat D_{ij}$)')\n",
    "plt.xticks (np.arange (0, np.nanmax (Df),5), np.array (np.arange (0, np.nanmax (Df),5), dtype=int))\n",
    "plt.axvline (5, color='black', linestyle='--', linewidth=1)\n",
    "plt.ylabel (r'Enrichment $p$-value')\n",
    "plt.xlabel ('Physical distance ($\\AA$)')\n",
    "\n",
    "if save :\n",
    "    plt.savefig ( os.path.join (outdir, 'mochi_distance_' + protein + '.pdf'), bbox_inches='tight')\n",
    "    plt.close ()\n",
    "else :\n",
    "    plt.show ()   "
   ]
  },
  {
   "cell_type": "code",
   "execution_count": 39,
   "id": "50322af8",
   "metadata": {},
   "outputs": [],
   "source": [
    "y_rank = np.zeros_like (y_sing)\n",
    "lig_rank = np.zeros_like (l_sing)\n",
    "for i in range (nreps) :\n",
    "    y_rank[:,i] = compute_mean_ranks (y_sing[:,i])\n",
    "    lig_rank[:,i] = compute_mean_ranks (l_sing[:,i])"
   ]
  },
  {
   "cell_type": "code",
   "execution_count": 40,
   "id": "037962da",
   "metadata": {},
   "outputs": [
    {
     "name": "stdout",
     "output_type": "stream",
     "text": [
      "(672, 672)\n"
     ]
    },
    {
     "name": "stderr",
     "output_type": "stream",
     "text": [
      "/var/folders/38/f4j79l017855c4b93219m3bh0000gp/T/ipykernel_4111/1462109225.py:1: RuntimeWarning: Mean of empty slice\n",
      "  Dmean = np.nanmean (Dsyms, axis=2)\n",
      "/var/folders/38/f4j79l017855c4b93219m3bh0000gp/T/ipykernel_4111/1462109225.py:2: RuntimeWarning: Mean of empty slice\n",
      "  Rmean = np.nanmean (Rmats, axis=2)\n",
      "/var/folders/38/f4j79l017855c4b93219m3bh0000gp/T/ipykernel_4111/1462109225.py:3: RuntimeWarning: Mean of empty slice\n",
      "  Ymean = np.nanmean (y_rank, axis=1)\n",
      "/var/folders/38/f4j79l017855c4b93219m3bh0000gp/T/ipykernel_4111/1462109225.py:4: RuntimeWarning: Mean of empty slice\n",
      "  RLmean = np.nanmean (LRmats, axis=1)\n",
      "/var/folders/38/f4j79l017855c4b93219m3bh0000gp/T/ipykernel_4111/1462109225.py:5: RuntimeWarning: Mean of empty slice\n",
      "  Lmean  = np.nanmean (lig_rank, axis=1)\n"
     ]
    }
   ],
   "source": [
    "Dmean = np.nanmean (Dsyms, axis=2)\n",
    "Rmean = np.nanmean (Rmats, axis=2)\n",
    "Ymean = np.nanmean (y_rank, axis=1)\n",
    "RLmean = np.nanmean (LRmats, axis=1)\n",
    "Lmean  = np.nanmean (lig_rank, axis=1)\n",
    "print (Rmean.shape)\n",
    "\n",
    "identity = np.linspace (0, np.nanmax (Ymean), 20)\n",
    "identity_lig = np.linspace (0, np.nanmax (Lmean), 20)\n",
    "\n",
    "start = 1"
   ]
  },
  {
   "cell_type": "code",
   "execution_count": 41,
   "id": "f8b74eca",
   "metadata": {},
   "outputs": [
    {
     "name": "stderr",
     "output_type": "stream",
     "text": [
      "/var/folders/38/f4j79l017855c4b93219m3bh0000gp/T/ipykernel_4111/1731374413.py:5: RuntimeWarning: Mean of empty slice\n",
      "  Davg = np.nanmean (Dsyms, axis=2)\n"
     ]
    }
   ],
   "source": [
    "# spectral color map\n",
    "spec = mpl.colormaps['Spectral']\n",
    "norm = plt.Normalize(-1, 1)\n",
    "\n",
    "Davg = np.nanmean (Dsyms, axis=2)\n",
    "Davg[metaP > alpha_geom] = np.nan\n",
    "\n",
    "avgSign = compute_avg_sign_matrix (Davg)\n",
    "aadict = make_aa_dict (stop='*')\n",
    "aas = [key for key in aadict.keys ()]"
   ]
  },
  {
   "cell_type": "code",
   "execution_count": 42,
   "id": "9571e327",
   "metadata": {},
   "outputs": [
    {
     "name": "stdout",
     "output_type": "stream",
     "text": [
      "(3, 3)\n"
     ]
    },
    {
     "data": {
      "image/png": "[encoded data removed]",
      "text/plain": [
       "<Figure size 300x300 with 2 Axes>"
      ]
     },
     "metadata": {},
     "output_type": "display_data"
    },
    {
     "name": "stdout",
     "output_type": "stream",
     "text": [
      "(7, 7)\n"
     ]
    },
    {
     "data": {
      "image/png": "[encoded data removed]",
      "text/plain": [
       "<Figure size 300x300 with 2 Axes>"
      ]
     },
     "metadata": {},
     "output_type": "display_data"
    },
    {
     "name": "stdout",
     "output_type": "stream",
     "text": [
      "(14, 14)\n"
     ]
    },
    {
     "data": {
      "image/png": "[encoded data removed]",
      "text/plain": [
       "<Figure size 300x300 with 2 Axes>"
      ]
     },
     "metadata": {},
     "output_type": "display_data"
    }
   ],
   "source": [
    "# Focal pairs and their AA's (pdz == Jun)\n",
    "focal_pairs = [(3,3), (7,7), (14,14)]#,(6,7)]\n",
    "focal_aas   = [19, 10, 0]#, 16]\n",
    "pdz_aas     = [19, 1, 9]#, 7]\n",
    "\n",
    "# focal mutations\n",
    "focaldict = dict ()\n",
    "\n",
    "focaldict['pairs']     = focal_pairs #[(3,3), (7,7), (14,14)]\n",
    "focaldict['pdz_aas']   = focal_aas   #[19, 10, 0]\n",
    "focaldict['cript_aas'] = pdz_aas     #[19, 1, 9]\n",
    "\n",
    "# plot p-values\n",
    "plt.rcParams[\"figure.figsize\"] = (3,3)\n",
    "\n",
    "for i in range (len (focal_pairs)) :\n",
    "    j_i, f_i = focal_pairs[i]\n",
    "    print ((j_i, f_i))\n",
    "    \n",
    "    plt.imshow ( metaP[j_i*nAA:(j_i*nAA + nAA),:][:,f_i*nAA:(f_i*nAA + nAA)],\n",
    "                 norm=mpl.colors.LogNorm ())\n",
    "    plt.colorbar (shrink=.5)\n",
    "    plt.show ()"
   ]
  },
  {
   "cell_type": "code",
   "execution_count": 43,
   "id": "da3d335a",
   "metadata": {},
   "outputs": [
    {
     "name": "stderr",
     "output_type": "stream",
     "text": [
      "/var/folders/38/f4j79l017855c4b93219m3bh0000gp/T/ipykernel_4111/3923201341.py:19: RuntimeWarning: Mean of empty slice\n",
      "  Dmean = np.nanmean (Dsyms, axis=2)\n",
      "/var/folders/38/f4j79l017855c4b93219m3bh0000gp/T/ipykernel_4111/3923201341.py:20: RuntimeWarning: Mean of empty slice\n",
      "  Dsign = np.nanmean (Dsyms, axis=2)\n",
      "/var/folders/38/f4j79l017855c4b93219m3bh0000gp/T/ipykernel_4111/3923201341.py:84: RuntimeWarning: Mean of empty slice\n",
      "  Dmean  = np.nanmean (Dsyms, axis=2)\n",
      "/var/folders/38/f4j79l017855c4b93219m3bh0000gp/T/ipykernel_4111/3923201341.py:85: RuntimeWarning: Mean of empty slice\n",
      "  Rmean  = np.nanmean (Rmats, axis=2)\n",
      "/var/folders/38/f4j79l017855c4b93219m3bh0000gp/T/ipykernel_4111/3923201341.py:86: RuntimeWarning: Mean of empty slice\n",
      "  RLmean = np.nanmean (LRmats, axis=2)\n",
      "/var/folders/38/f4j79l017855c4b93219m3bh0000gp/T/ipykernel_4111/3923201341.py:87: RuntimeWarning: Mean of empty slice\n",
      "  Ymean  = np.nanmean (y_rank, axis=1)\n",
      "/var/folders/38/f4j79l017855c4b93219m3bh0000gp/T/ipykernel_4111/3923201341.py:88: RuntimeWarning: Mean of empty slice\n",
      "  Lmean  = np.nanmean (lig_rank, axis=1)\n",
      "/var/folders/38/f4j79l017855c4b93219m3bh0000gp/T/ipykernel_4111/3923201341.py:93: RuntimeWarning: Mean of empty slice\n",
      "  Davg = np.nanmean (Dsyms, axis=2)\n",
      "/var/folders/38/f4j79l017855c4b93219m3bh0000gp/T/ipykernel_4111/3923201341.py:183: RuntimeWarning: Mean of empty slice\n",
      "  Dmean  = np.nanmean (Dsyms, axis=2)\n",
      "/var/folders/38/f4j79l017855c4b93219m3bh0000gp/T/ipykernel_4111/3923201341.py:184: RuntimeWarning: Mean of empty slice\n",
      "  Rmean  = np.nanmean (Rmats, axis=2)\n",
      "/var/folders/38/f4j79l017855c4b93219m3bh0000gp/T/ipykernel_4111/3923201341.py:185: RuntimeWarning: Mean of empty slice\n",
      "  RLmean = np.nanmean (LRmats, axis=2)\n",
      "/var/folders/38/f4j79l017855c4b93219m3bh0000gp/T/ipykernel_4111/3923201341.py:186: RuntimeWarning: Mean of empty slice\n",
      "  Ymean  = np.nanmean (y_rank, axis=1)\n",
      "/var/folders/38/f4j79l017855c4b93219m3bh0000gp/T/ipykernel_4111/3923201341.py:187: RuntimeWarning: Mean of empty slice\n",
      "  Lmean  = np.nanmean (lig_rank, axis=1)\n",
      "/var/folders/38/f4j79l017855c4b93219m3bh0000gp/T/ipykernel_4111/3923201341.py:192: RuntimeWarning: Mean of empty slice\n",
      "  Davg = np.nanmean (Dsyms, axis=2)\n"
     ]
    }
   ],
   "source": [
    "plt.rcParams[\"figure.figsize\"] = (3.5*.95,3.)\n",
    "\n",
    "# spectral color map\n",
    "maxval = 1\n",
    "spec = mpl.colormaps['Spectral']\n",
    "norm = plt.Normalize(-1, 1)\n",
    "\n",
    "fig, axs = plt.subplots (3, 3, height_ratios=[.65,2,2],\n",
    "                         sharex='row', sharey='row', constrained_layout=True)\n",
    "\n",
    "maxval = np.nanmax (np.abs (Dsyms))\n",
    "bins   = np.linspace (-maxval, maxval, 20)\n",
    "\n",
    "count = 0\n",
    "focal_pairs = cp.deepcopy (focaldict['pairs'])\n",
    "focal_aas   = cp.deepcopy (focaldict['cript_aas'])\n",
    "pdz_aas     = cp.deepcopy (focaldict['pdz_aas'])\n",
    "\n",
    "Dmean = np.nanmean (Dsyms, axis=2)\n",
    "Dsign = np.nanmean (Dsyms, axis=2)\n",
    "Dsign[Dmean < 0] = -1\n",
    "Dsign[Dmean > 0] = 1\n",
    "Dsign[metaP > alpha_geom] = np.nan\n",
    "\n",
    "avgSign = np.zeros ((npos, npos))\n",
    "for i in range (npos) :\n",
    "    for j in range (npos) :\n",
    "        avgSign[i,j] = np.nanmean (Dsign[i*nAA:(i*nAA + nAA),:][:,j*nAA:(j*nAA + nAA)])\n",
    "\n",
    "ct = 0\n",
    "for pair in focaldict['pairs'] :\n",
    "    j_i, f_i = cp.deepcopy (pair)\n",
    "    aalig_i     = focaldict['pdz_aas'][ct]   # pdz aa\n",
    "    aa_i  = focaldict['cript_aas'][ct] # ligand aa\n",
    "\n",
    "    # (1) Plot D values\n",
    "    axs[0,count].hist ( np.ndarray.flatten (Dmean[j_i*nAA:(j_i*nAA + nAA),:][:,f_i*nAA:(f_i*nAA + nAA)]),\n",
    "                      bins=bins, color=spec( norm (avgSign[j_i,f_i])),\n",
    "                      edgecolor='black', linewidth=.2)\n",
    "    \n",
    "    axs[0,count].axvline (0, color='gray', linestyle='dashed', linewidth=.2)                \n",
    "    axs[0,count].tick_params(axis='both', which='major', labelsize=6)\n",
    "    mylabel = r'$\\bar D_{i(k),j(\\ell)}$'\n",
    "\n",
    "    axs[0,count].set_title (all_wt[f_i] + str (f_i+1) + ', ' + all_wt[j_i + npos] + str (j_i+1), fontsize=8)\n",
    "    axs[0,count].set_xlabel (mylabel, labelpad=0, fontsize=8)\n",
    "\n",
    "    if count == 0 :\n",
    "        axs[0,count].set_ylabel (r'Count', labelpad=0)\n",
    "        axs[0,count].set_yticks (np.arange (0,101,50),\n",
    "                               np.array (np.arange (0,101,50), dtype=int))\n",
    "    # axis parameters\n",
    "    axs[0,count].locator_params (axis='x', nbins=5)\n",
    "    axs[0,count].tick_params (length=2)\n",
    "    axs[0,count].xaxis.set_tick_params (pad=2)\n",
    "    axs[0,count].yaxis.set_tick_params (pad=1.5)\n",
    "\n",
    "    count += 1\n",
    "    ct += 1\n",
    "    \n",
    "    \n",
    "# PART 2\n",
    "# spectral color map\n",
    "maxval = 1\n",
    "spec = mpl.colormaps['Spectral']\n",
    "norm = plt.Normalize(-1, 1)\n",
    "maxval = np.nanmax (np.abs (Dsyms))\n",
    "bins   = np.linspace (-maxval, maxval, 20)\n",
    "\n",
    "count = 0\n",
    "focal_pairs = cp.deepcopy (focaldict['pairs'])\n",
    "focal_aas   = cp.deepcopy (focaldict['cript_aas'])\n",
    "pdz_aas     = cp.deepcopy (focaldict['pdz_aas'])\n",
    "\n",
    "# meta p-value and compute average single ranks\n",
    "y_rank = np.zeros_like (y_sing)\n",
    "for i in range (nreps) :\n",
    "    y_rank[:,i] = compute_mean_ranks (y_sing[:,i])\n",
    "\n",
    "lig_rank = np.zeros_like (l_sing)\n",
    "for i in range (nreps) :\n",
    "    lig_rank[:,i] = compute_mean_ranks (l_sing[:,i])\n",
    "\n",
    "Dmean  = np.nanmean (Dsyms, axis=2)\n",
    "Rmean  = np.nanmean (Rmats, axis=2)\n",
    "RLmean = np.nanmean (LRmats, axis=2)\n",
    "Ymean  = np.nanmean (y_rank, axis=1)\n",
    "Lmean  = np.nanmean (lig_rank, axis=1)\n",
    "\n",
    "identity     = np.linspace (0, np.nanmax (Ymean), 20)\n",
    "identity_lig = np.linspace (0, np.nanmax (Lmean), 20)\n",
    "\n",
    "Davg = np.nanmean (Dsyms, axis=2)\n",
    "Dsign = cp.deepcopy (Davg)\n",
    "Dsign[Davg < 0] = -1\n",
    "Dsign[Davg > 0] = 1\n",
    "Dsign[metaP > alpha_geom] = np.nan\n",
    "\n",
    "avgSign = np.zeros ((npos, npos))\n",
    "for i in range (npos) :\n",
    "    for j in range (npos) :\n",
    "        avgSign[i,j] = np.nanmean (Dsign[i*nAA:(i*nAA + nAA),:][:,j*nAA:(j*nAA + nAA)])\n",
    "\n",
    "ct = 0\n",
    "for pair in focaldict['pairs'] :\n",
    "    j_i, f_i = cp.deepcopy (pair)\n",
    "    aalig_i     = focaldict['pdz_aas'][ct]   # pdz aa\n",
    "    aa_i  = focaldict['cript_aas'][ct] # ligand aa\n",
    "\n",
    "     # (2) Plot ligand ranks\n",
    "    gray = axs[1,count].scatter (Lmean, RLmean[f_i*nAA + aa_i,:], c=metaP[:,f_i*nAA + aa_i], cmap='gray',\n",
    "                                 norm=mpl.colors.LogNorm (vmin=np.nanmin (metaP), vmax=1),\n",
    "                                 alpha=1., edgecolor='black', linewidth=.1, s=5)\n",
    "    \n",
    "    pink = axs[1,count].scatter (Lmean[j_i*nAA:(j_i*nAA + nAA)],\n",
    "                               RLmean[f_i*nAA + aa_i, j_i*nAA:(j_i*nAA + nAA)],\n",
    "                               edgecolor=spec( norm (avgSign[f_i,j_i])),\n",
    "                               cmap='gray', c=metaP[j_i*nAA:(j_i*nAA + nAA),f_i*nAA + aa_i],\n",
    "                               norm=mpl.colors.LogNorm (vmin=np.nanmin (metaP), vmax=1),\n",
    "                               alpha=1., linewidth=.3, s=10)\n",
    " \n",
    "    # add annotations for the focal site\n",
    "    for j in range (nAA) :\n",
    "        if ~np.isnan (metaP[j_i*nAA + j,f_i*nAA + aa_i]) :\n",
    "            axs[1,count].annotate ( aas[j], (Lmean[j_i*nAA + j]+5, RLmean[f_i*nAA + aa_i, j_i*nAA + j]+5),\n",
    "                                   fontsize=6, color='black', zorder=1)#color=spec( norm (avgsign)))\n",
    "\n",
    "            ymin_j = np.nanmin ([RLmean[ f_i*nAA + aa_i, j_i*nAA + j], Lmean[j_i*nAA + j]])\n",
    "            ymax_j = np.nanmax ([RLmean[ f_i*nAA + aa_i, j_i*nAA + j], Lmean[j_i*nAA + j]])\n",
    "            vals   = np.linspace (ymin_j, ymax_j, 10)\n",
    "\n",
    "            axs[1,count].plot ( np.repeat (Lmean[j_i*nAA + j], 10), vals, linestyle='dashed',\n",
    "                              color=spec( norm (avgSign[j_i,f_i])), linewidth=.3)\n",
    "\n",
    "\n",
    "    axs[1,count].plot ( identity_lig, identity_lig, linewidth=.5, linestyle='--', color='black')\n",
    "   \n",
    "    # axis labels\n",
    "    axs[1,count].set_xlabel (r'Jun $\\bar R_{i(\\ell)}$', labelpad=.5, fontsize=8)\n",
    "    axs[1,count].locator_params(axis='x', nbins=5)\n",
    "    axs[1,count].tick_params (length=2)\n",
    "    axs[1,count].xaxis.set_tick_params (pad=2)\n",
    "    axs[1,count].yaxis.set_tick_params (pad=1.5)\n",
    "    \n",
    "    axs[1,count].set_xticks ( np.arange (0,np.nanmax (Lmean)+1,200),\n",
    "                              np.array (np.arange (0,np.nanmax (Lmean)+1,200), dtype=int),\n",
    "                              rotation=0, fontsize=6)\n",
    "    axs[1,count].set_yticks ( np.arange (0,np.nanmax (Lmean)+1,200),\n",
    "                              np.array (np.arange (0,np.nanmax (Lmean)+1,200), dtype=int),\n",
    "                              fontsize=6)\n",
    "\n",
    "\n",
    "    axs[1,count].annotate (str (f_i + start) + '(' + aas[aa_i] + ')', (475,20), fontsize=6)\n",
    "\n",
    "    if count == 0 :\n",
    "        axs[1,count].set_ylabel (r'$\\bar R_{j(k),i(\\ell)}$', labelpad=0)\n",
    "\n",
    "    ct += 1\n",
    "    count += 1\n",
    "    \n",
    "\n",
    "# spectral color map\n",
    "maxval = 1\n",
    "spec = mpl.colormaps['Spectral']\n",
    "norm = plt.Normalize(-1, 1)\n",
    "maxval = np.nanmax (np.abs (Dsyms))\n",
    "bins   = np.linspace (-maxval, maxval, 20)\n",
    "\n",
    "count = 0\n",
    "focal_pairs = cp.deepcopy (focaldict['pairs'])\n",
    "focal_aas   = cp.deepcopy (focaldict['cript_aas'])\n",
    "pdz_aas     = cp.deepcopy (focaldict['pdz_aas'])\n",
    "\n",
    "# meta p-value and compute average single ranks\n",
    "y_rank = np.zeros_like (y_sing)\n",
    "for i in range (nreps) :\n",
    "    y_rank[:,i] = compute_mean_ranks (y_sing[:,i])\n",
    "\n",
    "lig_rank = np.zeros_like (l_sing)\n",
    "for i in range (nreps) :\n",
    "    lig_rank[:,i] = compute_mean_ranks (l_sing[:,i])\n",
    "\n",
    "Dmean  = np.nanmean (Dsyms, axis=2)\n",
    "Rmean  = np.nanmean (Rmats, axis=2)\n",
    "RLmean = np.nanmean (LRmats, axis=2)\n",
    "Ymean  = np.nanmean (y_rank, axis=1)\n",
    "Lmean  = np.nanmean (lig_rank, axis=1)\n",
    "\n",
    "identity     = np.linspace (0, np.nanmax (Ymean), 20)\n",
    "identity_lig = np.linspace (0, np.nanmax (Lmean), 20)\n",
    "\n",
    "Davg = np.nanmean (Dsyms, axis=2)\n",
    "Dsign = cp.deepcopy (Davg)\n",
    "Dsign[Davg < 0] = -1\n",
    "Dsign[Davg > 0] = 1\n",
    "Dsign[metaP > alpha_geom] = np.nan\n",
    "\n",
    "avgSign = np.zeros ((npos, npos))\n",
    "for i in range (npos) :\n",
    "    for j in range (npos) :\n",
    "        avgSign[i,j] = np.nanmean (Dsign[i*nAA:(i*nAA + nAA),:][:,j*nAA:(j*nAA + nAA)])\n",
    "\n",
    "ct = 0\n",
    "for pair in focaldict['pairs'] :\n",
    "    j_i, f_i = cp.deepcopy (pair)\n",
    "    aa_i    = focaldict['pdz_aas'][ct]   # pdz aa\n",
    "    aalig_i = focaldict['cript_aas'][ct] # ligand aa\n",
    "\n",
    "     # (2) Plot ligand ranks\n",
    "    gray = axs[2,count].scatter (Ymean, Rmean[f_i*nAA + aa_i,:], c=metaP[f_i*nAA + aa_i,:], cmap='gray',\n",
    "                                 norm=mpl.colors.LogNorm (vmin=np.nanmin (metaP), vmax=1),\n",
    "                                 alpha=1., edgecolor='black', linewidth=.1, s=5)\n",
    "    \n",
    "    pink = axs[2,count].scatter (Ymean[j_i*nAA:(j_i*nAA + nAA)],\n",
    "                               Rmean[f_i*nAA + aa_i, j_i*nAA:(j_i*nAA + nAA)],\n",
    "                               edgecolor=spec( norm (avgSign[f_i,j_i])),\n",
    "                               cmap='gray', c=metaP[f_i*nAA + aa_i,j_i*nAA:(j_i*nAA + nAA),],\n",
    "                               norm=mpl.colors.LogNorm (vmin=np.nanmin (metaP), vmax=1),\n",
    "                               alpha=1., linewidth=.3, s=10)\n",
    " \n",
    "    # add annotations for the focal site\n",
    "    for j in range (nAA) :\n",
    "        if ~np.isnan (metaP[j_i*nAA + j,f_i*nAA + aa_i]) :\n",
    "            axs[2,count].annotate ( aas[j], (Ymean[j_i*nAA + j]+5, Rmean[f_i*nAA + aa_i, j_i*nAA + j]+5),\n",
    "                                   fontsize=6, color='black', zorder=1)#color=spec( norm (avgsign)))\n",
    "\n",
    "            ymin_j = np.nanmin ([Rmean[ f_i*nAA + aa_i, j_i*nAA + j], Ymean[j_i*nAA + j]])\n",
    "            ymax_j = np.nanmax ([Rmean[ f_i*nAA + aa_i, j_i*nAA + j], Ymean[j_i*nAA + j]])\n",
    "            vals   = np.linspace (ymin_j, ymax_j, 10)\n",
    "\n",
    "            axs[2,count].plot ( np.repeat (Ymean[j_i*nAA + j], 10), vals, linestyle='dashed',\n",
    "                              color=spec( norm (avgSign[j_i,f_i])), linewidth=.3)\n",
    "\n",
    "\n",
    "    axs[2,count].plot ( identity_lig, identity_lig, linewidth=.5, linestyle='--', color='black')\n",
    "   \n",
    "    # axis labels\n",
    "    axs[2,count].set_xlabel (r'Fos $\\bar R_{j(\\ell)}$', labelpad=.5, fontsize=8)\n",
    "    axs[2,count].locator_params(axis='x', nbins=5)\n",
    "    axs[2,count].tick_params (length=2)\n",
    "    axs[2,count].xaxis.set_tick_params (pad=2)\n",
    "    axs[2,count].yaxis.set_tick_params (pad=1.5)\n",
    "    \n",
    "    axs[2,count].set_xticks ( np.arange (0,np.nanmax (Lmean)+1,200),\n",
    "                              np.array (np.arange (0,np.nanmax (Lmean)+1,200), dtype=int),\n",
    "                              rotation=0, fontsize=6)\n",
    "    axs[2,count].set_yticks ( np.arange (0,np.nanmax (Lmean)+1,200),\n",
    "                              np.array (np.arange (0,np.nanmax (Lmean)+1,200), dtype=int),\n",
    "                              fontsize=6)\n",
    "\n",
    "\n",
    "    axs[2,count].annotate (str (f_i + start) + '(' + aas[aa_i] + ')', (475,20), fontsize=6)\n",
    "\n",
    "    if count == 0 :\n",
    "        axs[2,count].set_ylabel (r'$\\bar R_{i(k),j(\\ell)}$', labelpad=0)\n",
    "\n",
    "    ct += 1\n",
    "    count += 1\n",
    "        \n",
    "if save :\n",
    "    plt.savefig ( os.path.join (outdir, 'fig4_e_all.svg'),\n",
    "                  bbox_inches='tight', format='svg', transparent=True, dpi=600)\n",
    "    plt.close ()\n",
    "else :\n",
    "    plt.show ()"
   ]
  },
  {
   "cell_type": "code",
   "execution_count": 44,
   "id": "c943c141",
   "metadata": {},
   "outputs": [],
   "source": [
    "# just need colorbar from this!\n",
    "plt.rcParams[\"figure.figsize\"] = (1.5,1.5)\n",
    "\n",
    "fig, ax = plt.subplots ()\n",
    "gray = ax.scatter (Lmean, RLmean[f_i*nAA + aa_i,:], c=metaP[:,f_i*nAA + aa_i], cmap='gray',\n",
    "                             norm=mpl.colors.LogNorm (vmin=np.nanmin (metaP), vmax=1),\n",
    "                             alpha=1., edgecolor='black', linewidth=.1, s=5)\n",
    "cbar = fig.colorbar (gray, ax=ax, shrink=0.5, aspect=13)\n",
    "cbar.set_label ( r'meta $p$-value, $\\tilde p_{ij}$', labelpad=6, size=6)\n",
    "cbar.set_ticks (np.logspace (-6, 0, 3))\n",
    "cbar.ax.tick_params (labelsize=6, length=3, pad=1)\n",
    "\n",
    "if save :\n",
    "    plt.savefig ( os.path.join (outdir, 'fig4_e_colorbar.svg'),\n",
    "                  bbox_inches='tight', format='svg', transparent=True, dpi=600)\n",
    "    plt.close ()\n",
    "else :\n",
    "    plt.show ()"
   ]
  },
  {
   "cell_type": "code",
   "execution_count": 45,
   "id": "d859e44a",
   "metadata": {},
   "outputs": [
    {
     "name": "stderr",
     "output_type": "stream",
     "text": [
      "/var/folders/38/f4j79l017855c4b93219m3bh0000gp/T/ipykernel_4111/2630273509.py:3: RuntimeWarning: Mean of empty slice\n",
      "  yd_mean = 10**np.nanmean (np.log10 (ydoub), axis=2)\n"
     ]
    }
   ],
   "source": [
    "#  D to phen changes\n",
    "avg_wt  = 10**np.nanmean (np.log10 (y_wt))\n",
    "yd_mean = 10**np.nanmean (np.log10 (ydoub), axis=2)"
   ]
  },
  {
   "cell_type": "code",
   "execution_count": 46,
   "id": "41ce4ee8",
   "metadata": {},
   "outputs": [
    {
     "name": "stdout",
     "output_type": "stream",
     "text": [
      "(3, 3)\n",
      "Total significant: 34\n",
      "Total positive: 34\n",
      "Total negative: 0\n",
      "1.0\n",
      "Fitness > wt: 0\n",
      "Fos > wt: 0\n",
      "Jun > wt: 1\n",
      "\n",
      "Total significant: 38\n",
      "Total positive: 38\n",
      "Total negative: 0\n",
      "1.0\n",
      "Fitness > wt: 0\n",
      "Fos > wt: 0\n",
      "Jun > wt: 1\n",
      "\n",
      "Total significant: 27\n",
      "Total positive: 27\n",
      "Total negative: 0\n",
      "1.0\n",
      "Fitness > wt: 0\n",
      "Fos > wt: 0\n",
      "Jun > wt: 1\n",
      "\n",
      "(7, 7)\n",
      "Total significant: 32\n",
      "Total positive: 2\n",
      "Total negative: 30\n",
      "0.0625\n",
      "Fitness > wt: 0\n",
      "Fos > wt: 13\n",
      "Jun > wt: 1\n",
      "\n",
      "Total significant: 44\n",
      "Total positive: 3\n",
      "Total negative: 41\n",
      "0.06818181818181818\n",
      "Fitness > wt: 1\n",
      "Fos > wt: 14\n",
      "Jun > wt: 1\n",
      "\n",
      "Total significant: 37\n",
      "Total positive: 2\n",
      "Total negative: 35\n",
      "0.05405405405405406\n",
      "Fitness > wt: 0\n",
      "Fos > wt: 14\n",
      "Jun > wt: 1\n",
      "\n",
      "(14, 14)\n",
      "Total significant: 38\n",
      "Total positive: 27\n",
      "Total negative: 11\n",
      "0.7105263157894737\n",
      "Fitness > wt: 13\n",
      "Fos > wt: 3\n",
      "Jun > wt: 3\n",
      "\n",
      "Total significant: 41\n",
      "Total positive: 32\n",
      "Total negative: 9\n",
      "0.7804878048780488\n",
      "Fitness > wt: 13\n",
      "Fos > wt: 3\n",
      "Jun > wt: 3\n",
      "\n",
      "Total significant: 45\n",
      "Total positive: 32\n",
      "Total negative: 13\n",
      "0.7111111111111111\n",
      "Fitness > wt: 12\n",
      "Fos > wt: 3\n",
      "Jun > wt: 3\n",
      "\n"
     ]
    }
   ],
   "source": [
    "for i in range (len (focal_pairs)) :\n",
    "    print (focal_pairs[i])\n",
    "    j_i, f_i = focal_pairs[i]\n",
    "    for j in range (nreps) :\n",
    "        P_i = cp.deepcopy (Pvals[:,:,j][j_i*nAA:(j_i*nAA+nAA),:][:,f_i*nAA:(f_i*nAA+nAA)])\n",
    "        D_i = cp.deepcopy (Dsyms[:,:,j][j_i*nAA:(j_i*nAA+nAA),:][:,f_i*nAA:(f_i*nAA+nAA)])\n",
    "        Y_i = cp.deepcopy (ydoub[:,:,j][j_i*nAA:(j_i*nAA+nAA),:][:,f_i*nAA:(f_i*nAA+nAA)])\n",
    "        fos_i = cp.deepcopy (y_sing[f_i*nAA:(f_i*nAA + nAA),j])\n",
    "        jun_i = cp.deepcopy (l_sing[f_i*nAA:(f_i*nAA + nAA),j])\n",
    "\n",
    "        ntests = np.sum (P_i < alpha_geom)\n",
    "        npos   = np.sum (np.logical_and (P_i < alpha_geom, D_i > 0)) \n",
    "        nneg   = np.sum (np.logical_and (P_i < alpha_geom, D_i < 0))\n",
    "        nfit   = np.sum (np.logical_and (P_i < alpha_geom, Y_i > y_wt[j]))\n",
    "\n",
    "        print ('Total significant: ' + str (ntests))\n",
    "        print ('Total positive: ' + str (npos))\n",
    "        print ('Total negative: ' + str (nneg))\n",
    "        print (npos / ntests)\n",
    "        print ('Fitness > wt: ' + str (nfit))\n",
    "        print ('Fos > wt: ' + str (np.sum (fos_i > y_wt[j])))\n",
    "        print ('Jun > wt: ' + str (np.sum (jun_i > y_wt[j])))\n",
    "\n",
    "        print ()"
   ]
  },
  {
   "cell_type": "code",
   "execution_count": 47,
   "id": "774bfda5",
   "metadata": {
    "scrolled": false
   },
   "outputs": [
    {
     "name": "stdout",
     "output_type": "stream",
     "text": [
      "(3, 3)\n",
      "(7, 7)\n",
      "(14, 14)\n"
     ]
    }
   ],
   "source": [
    "#focal_pairs = [(3,3), (7,7), (7,6),(6,7)]\n",
    "plt.rcParams[\"figure.figsize\"] = (2,2)\n",
    "maxval = np.nanmax (np.abs (Dmean))\n",
    "\n",
    "for i in focal_pairs :\n",
    "    l2 = i[1]\n",
    "    l1 = i[0]\n",
    "    print ((l1, l2))\n",
    "    \n",
    "    fig, ax = plt.subplots ()\n",
    "\n",
    "    daa = ax.imshow (Dmean[l1*nAA:(l1*nAA + nAA),:][:,l2*nAA:(l2*nAA + nAA)], vmin=-maxval, vmax=maxval,\n",
    "                     cmap='Spectral')\n",
    "    cbar = fig.colorbar (daa, ax=ax, shrink=0.75)\n",
    "    cbar.set_label ( r'$\\bar D_{ij}$', labelpad=-6)\n",
    "\n",
    "    # R&R\n",
    "    x, y = np.where (metaP[l1*nAA:(l1*nAA + nAA),:][:,l2*nAA:(l2*nAA + nAA)] <= alpha_geom)\n",
    "\n",
    "    for i in range (len (x)) :\n",
    "        ax.add_patch( Rectangle((y[i]-.5, x[i]-.5), 1, 1, fill=False,lw=.5))# label=r'$\\leq 5\\AA$')\n",
    "    \n",
    "    metacp = cp.deepcopy (metaP[l1*nAA:(l1*nAA + nAA),:][:,l2*nAA:(l2*nAA + nAA)])\n",
    "    Dcp    = cp.deepcopy (Dmean[l1*nAA:(l1*nAA + nAA),:][:,l2*nAA:(l2*nAA + nAA)])\n",
    "\n",
    "    ax.set_xticks (np.arange (0,nAA,1), aas, fontsize=6)\n",
    "    ax.set_yticks (np.arange (0,nAA,1), aas, fontsize=6)\n",
    "    ax.set_ylabel ('Jun position ' + all_wt[npos + l2] + str (l2+1))\n",
    "    ax.set_xlabel ('Fos position ' + all_wt[l1] + str (l1+1))\n",
    "    ax.tick_params (length=2)\n",
    "    ax.xaxis.set_tick_params (pad=2)\n",
    "    ax.yaxis.set_tick_params (pad=1.5)\n",
    "\n",
    "    if save :\n",
    "        plt.savefig ( os.path.join (outdir, str (l2+1) + '_' + str (l1+1) + '.pdf'),\n",
    "                     bbox_inches='tight', dpi=600, transparent=True)\n",
    "        plt.close ()\n",
    "    else :\n",
    "        plt.show ()\n",
    "        \n",
    "   "
   ]
  },
  {
   "cell_type": "code",
   "execution_count": 48,
   "id": "a9356cc0",
   "metadata": {},
   "outputs": [
    {
     "name": "stdout",
     "output_type": "stream",
     "text": [
      "0\n",
      "SignificanceResult(statistic=0.9873559411313555, pvalue=0.0)\n"
     ]
    },
    {
     "name": "stderr",
     "output_type": "stream",
     "text": [
      "/var/folders/38/f4j79l017855c4b93219m3bh0000gp/T/ipykernel_4111/3701145582.py:3: RuntimeWarning: Mean of empty slice\n",
      "  print (scipy.stats.spearmanr ( y_sing[:,i], np.nanmean (ydoub[:,:,i], axis=0),\n"
     ]
    },
    {
     "name": "stdout",
     "output_type": "stream",
     "text": [
      "SignificanceResult(statistic=0.9303876329818502, pvalue=0.0)\n",
      "SignificanceResult(statistic=0.9302889179609198, pvalue=0.0)\n",
      "1\n",
      "SignificanceResult(statistic=0.9896338132268596, pvalue=0.0)\n",
      "SignificanceResult(statistic=0.9306108754021355, pvalue=0.0)\n",
      "2\n",
      "SignificanceResult(statistic=0.9904879906397634, pvalue=0.0)\n"
     ]
    }
   ],
   "source": [
    "for i in range (nreps) :\n",
    "    print (i)\n",
    "    print (scipy.stats.spearmanr ( y_sing[:,i], np.nanmean (ydoub[:,:,i], axis=0),\n",
    "                                   nan_policy='omit'))\n",
    "    for j in range (i+1,nreps) :\n",
    "        print (scipy.stats.spearmanr ( np.ndarray.flatten (ydoub[:,:,i]),\n",
    "                                       np.ndarray.flatten (ydoub[:,:,j]),\n",
    "                                       nan_policy='omit'))"
   ]
  },
  {
   "cell_type": "code",
   "execution_count": 49,
   "id": "9bbd1d70",
   "metadata": {},
   "outputs": [],
   "source": [
    "##END"
   ]
  },
  {
   "cell_type": "code",
   "execution_count": 50,
   "id": "94996aba",
   "metadata": {},
   "outputs": [
    {
     "data": {
      "text/plain": [
       "array([0.00361875, 0.00238989, 0.00300939])"
      ]
     },
     "execution_count": 50,
     "metadata": {},
     "output_type": "execute_result"
    }
   ],
   "source": [
    "mochi_thresholds"
   ]
  },
  {
   "cell_type": "code",
   "execution_count": 51,
   "id": "6d5d1500",
   "metadata": {},
   "outputs": [
    {
     "data": {
      "text/plain": [
       "array([0.04827071, 0.04827071, 0.04827071])"
      ]
     },
     "execution_count": 51,
     "metadata": {},
     "output_type": "execute_result"
    }
   ],
   "source": [
    "two_thresholds"
   ]
  },
  {
   "cell_type": "code",
   "execution_count": null,
   "id": "14eafe9a",
   "metadata": {},
   "outputs": [],
   "source": []
  }
 ],
 "metadata": {
  "kernelspec": {
   "display_name": "Python 3 (ipykernel)",
   "language": "python",
   "name": "python3"
  },
  "language_info": {
   "codemirror_mode": {
    "name": "ipython",
    "version": 3
   },
   "file_extension": ".py",
   "mimetype": "text/x-python",
   "name": "python",
   "nbconvert_exporter": "python",
   "pygments_lexer": "ipython3",
   "version": "3.11.4"
  }
 },
 "nbformat": 4,
 "nbformat_minor": 5
}
