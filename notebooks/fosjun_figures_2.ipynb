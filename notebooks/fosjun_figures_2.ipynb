{
 "cells": [
  {
   "cell_type": "code",
   "execution_count": 1,
   "id": "ccd60a9d",
   "metadata": {},
   "outputs": [],
   "source": [
    "import os\n",
    "import sys\n",
    "import numpy as np\n",
    "import pickle\n",
    "\n",
    "import matplotlib.pyplot as plt\n",
    "import matplotlib as mpl\n",
    "import copy as cp\n",
    "import scipy.stats\n",
    "import seaborn"
   ]
  },
  {
   "cell_type": "code",
   "execution_count": 2,
   "id": "fff2554e",
   "metadata": {},
   "outputs": [],
   "source": [
    "sys.path.insert(1, '../code/')\n",
    "\n",
    "from rank_functions import compute_transformed_Rmat, compute_mean_ranks\n",
    "from format_helper_functions import make_aa_dict"
   ]
  },
  {
   "cell_type": "code",
   "execution_count": 3,
   "id": "7ac05904",
   "metadata": {},
   "outputs": [],
   "source": [
    "def compute_log_prob ( Signmat, Nmat, SignAllmat, NAllmat, nsims=1000 ) :\n",
    "    \n",
    "\n",
    "    Npos = (Signmat + Nmat) / 2\n",
    "    Npos[Nmat == 0] = np.nan\n",
    "\n",
    "    Nall = (SignAllmat + NAllmat) / 2\n",
    "    Pall = Nall / NAllmat\n",
    "    \n",
    "    kvals = Npos[~np.isnan (Npos)]\n",
    "    nvals = Nmat[~np.isnan (Npos)]\n",
    "    probs = Pall[~np.isnan (Npos)]\n",
    "\n",
    "    logprob = np.sum (np.log10 ( scipy.stats.binom.pmf ( kvals, nvals, probs )))\n",
    "    \n",
    "    # compute probability via sampling\n",
    "    nvals = np.array (nvals, dtype=int)\n",
    "    probsamples = np.zeros (nsims)\n",
    "    for i in range (nsims) :\n",
    "        k_i = np.random.binomial ( nvals, probs )\n",
    "        probsamples[i] = np.sum (np.log10 ( scipy.stats.binom.pmf ( k_i, nvals, probs )))\n",
    "            \n",
    "    return logprob, (np.sum (probsamples < logprob)+1) / (nsims+1)"
   ]
  },
  {
   "cell_type": "code",
   "execution_count": 4,
   "id": "5fa025d2",
   "metadata": {},
   "outputs": [],
   "source": [
    "plt.rcParams.update({'font.size': 8})\n",
    "plt.rcParams[\"font.family\"] = 'Arial'\n",
    "rc = {\"font.family\" : \"serif\", \n",
    "      \"mathtext.fontset\" : \"dejavusans\"}\n",
    "plt.rcParams.update(rc)\n",
    "plt.rcParams[\"font.serif\"] = [\"Arial\"] + plt.rcParams[\"font.serif\"]"
   ]
  },
  {
   "cell_type": "code",
   "execution_count": 5,
   "id": "85db4992",
   "metadata": {},
   "outputs": [],
   "source": [
    "# wildtype read counts\n",
    "input_wt  = np.array ([47550, 62496, 53287])\n",
    "output_wt = np.array( [162233, 193273, 171470])\n",
    "y_wt = output_wt / input_wt"
   ]
  },
  {
   "cell_type": "code",
   "execution_count": 6,
   "id": "9d153cce",
   "metadata": {},
   "outputs": [],
   "source": [
    "# whether to save pdfs\n",
    "save = True\n",
    "\n",
    "# input directory\n",
    "indir = '../results/fosjun/325/fos'\n",
    "protein = 'fos'\n",
    "ligand  = 'jun'\n",
    "\n",
    "# output dir\n",
    "outdir  = os.path.join (indir, 'plots')\n",
    "datadir = indir\n",
    "\n",
    "#ligand  = 'cript'\n",
    "if not os.path.isdir (outdir) :\n",
    "    os.makedirs (outdir)\n",
    "\n",
    "# which focal pair to make supplementary plots for\n",
    "negative = False\n",
    "if negative :\n",
    "    ji = 7\n",
    "    fi = 7\n",
    "else :\n",
    "    fi = 3\n",
    "    ji = 3"
   ]
  },
  {
   "cell_type": "code",
   "execution_count": 7,
   "id": "f303e3c5",
   "metadata": {},
   "outputs": [],
   "source": [
    "nAA   = 21\n",
    "alpha = 0.05\n",
    "mochi_thresholds = np.array ([0.00361875, 0.00238989, 0.00300939])\n",
    "start_fos = start_jun = 1"
   ]
  },
  {
   "cell_type": "code",
   "execution_count": 8,
   "id": "90395209",
   "metadata": {},
   "outputs": [],
   "source": [
    "# raw data files\n",
    "ysing = np.loadtxt (os.path.join (datadir, protein + '_Y_singles.txt'))\n",
    "lsing = np.loadtxt (os.path.join (datadir, ligand + '_Y_singles.txt'))\n",
    "ydoub = pickle.load ( open (os.path.join (datadir, protein + '_Y_doubles.pkl'), 'rb') )\n",
    "\n",
    "n0_doub = pickle.load (open (os.path.join (datadir, protein + '_D_neutral.pkl'), 'rb') )\n",
    "n1_doub = pickle.load (open (os.path.join (datadir, protein + '_D_selection.pkl'), 'rb') )\n",
    "\n",
    "n0_sing = np.loadtxt (os.path.join (datadir, protein + '_S_neutral.txt'))\n",
    "n1_sing = np.loadtxt (os.path.join (datadir, protein + '_S_selection.txt'))\n",
    "n0_cript = np.loadtxt (os.path.join (datadir, ligand + '_S_neutral.txt'))\n",
    "n1_cript = np.loadtxt (os.path.join (datadir, ligand + '_S_selection.txt'))\n",
    "\n",
    "# distance matrix\n",
    "Dist = np.loadtxt ('../data/fosjun/fosjun_distance_matrix.txt')\n",
    "Df   = Dist[:32,32:]"
   ]
  },
  {
   "cell_type": "code",
   "execution_count": 9,
   "id": "2bb6e101",
   "metadata": {},
   "outputs": [],
   "source": [
    "Llig, L, nreps = ydoub.shape\n",
    "nlig = int (Llig / nAA)\n",
    "npos = int (L / nAA)"
   ]
  },
  {
   "cell_type": "code",
   "execution_count": 10,
   "id": "6bdbdc61",
   "metadata": {},
   "outputs": [],
   "source": [
    "# make big distance matrix\n",
    "bigDist = np.zeros ((Llig,L))\n",
    "for i in range (npos) :\n",
    "    bigDist[(i*nAA):(i*nAA + nAA),:] = np.reshape (np.repeat (Df[i,:], nAA**2), (nAA, L), order='F')"
   ]
  },
  {
   "cell_type": "code",
   "execution_count": 11,
   "id": "df9c896d",
   "metadata": {},
   "outputs": [],
   "source": [
    "# change -1s to NAs\n",
    "if np.nanmin (n0_doub) == -1 :\n",
    "    n0_doub = np.array (n0_doub, dtype=float)\n",
    "    n1_doub = np.array (n1_doub, dtype=float)\n",
    "    n0_doub[n0_doub == -1] = np.nan\n",
    "    n1_doub[n1_doub == -1] = np.nan\n",
    "    \n",
    "    n0_sing = np.array (n0_sing, dtype=float)\n",
    "    n0_sing[n0_sing == -1] = np.nan\n",
    "    n0_cript[n0_cript == -1] = np.nan"
   ]
  },
  {
   "cell_type": "code",
   "execution_count": 12,
   "id": "b0a768a8",
   "metadata": {},
   "outputs": [],
   "source": [
    "# p-values\n",
    "Pvals = np.zeros_like (ydoub)\n",
    "Ptwo = np.zeros_like (Pvals)\n",
    "Dmats = np.zeros_like (ydoub)\n",
    "Lmats = np.zeros ( (L, Llig, nreps))\n",
    "Dsyms = np.zeros_like (Dmats)\n",
    "for i in range (nreps) :\n",
    "    Pvals[:,:,i] = np.loadtxt (os.path.join (indir, 'rep_' + str (i), protein + '_Psymmetric.txt'))\n",
    "    Dmats[:,:,i] = np.loadtxt (os.path.join (indir, 'rep_' + str (i), protein + '_Dmat.txt'))\n",
    "    Lmats[:,:,i] = np.loadtxt (os.path.join (indir, 'rep_' + str (i), protein + '_LDmat.txt'))\n",
    "    Dsyms[:,:,i] = Dmats[:,:,i] + np.transpose (Lmats[:,:,i])\n",
    "    Ptwo[:,:,i] = 2*np.loadtxt (os.path.join (indir, 'rep_' + str (i), protein + '_Ptwosided.txt'))\n",
    "    \n",
    "# fix pseudo-count in two-sided p-value\n",
    "Ptwo[Ptwo > 1] = 1"
   ]
  },
  {
   "cell_type": "code",
   "execution_count": 13,
   "id": "02220e5b",
   "metadata": {},
   "outputs": [],
   "source": [
    "# read in mochi p-values\n",
    "Pmochi = np.zeros_like (Pvals)\n",
    "Resmochi = np.zeros_like (Pvals)\n",
    "for i in range (nreps) :\n",
    "    Pmochi[:,:,i]   = np.loadtxt (os.path.join (indir, 'plots', 'mochi_ps_rep_' + str (i) + '.txt'))\n",
    "    Resmochi[:,:,i] = np.loadtxt (os.path.join (indir, 'plots', 'mochi_res_rep_' + str (i) + '.txt'))\n"
   ]
  },
  {
   "cell_type": "code",
   "execution_count": 14,
   "id": "57a12936",
   "metadata": {},
   "outputs": [
    {
     "name": "stderr",
     "output_type": "stream",
     "text": [
      "/var/folders/38/f4j79l017855c4b93219m3bh0000gp/T/ipykernel_4126/83694222.py:13: RuntimeWarning: Mean of empty slice\n",
      "  rbar_rank[:,i] = compute_mean_ranks (np.nanmean (Rmats[:,:,i], axis=0))\n",
      "/var/folders/38/f4j79l017855c4b93219m3bh0000gp/T/ipykernel_4126/83694222.py:15: RuntimeWarning: Mean of empty slice\n",
      "  ligbar_rank[:,i] = compute_mean_ranks (np.nanmean (Rlmats[:,:,i], axis=0))\n"
     ]
    }
   ],
   "source": [
    "# compute residuals wrt rbar\n",
    "y_rank    = np.zeros_like (ysing)\n",
    "lig_rank  = np.zeros_like (lsing)\n",
    "rbar_rank = np.zeros_like (ysing)\n",
    "ligbar_rank = np.zeros_like (lsing)\n",
    "Rmats     = np.zeros ((Llig, L, nreps))\n",
    "Rlmats    = np.zeros ((L, Llig, nreps))\n",
    "for i in range (nreps) :\n",
    "    Rmats[:,:,i]   = compute_transformed_Rmat (ydoub[:,:,i], M=np.sum (~np.isnan (ysing[:,i])) - 1)\n",
    "    Rlmats[:,:,i]  = compute_transformed_Rmat (np.transpose (ydoub[:,:,i]), M=np.sum (~np.isnan (lsing[:,i])) - 1)\n",
    "\n",
    "    y_rank[:,i]    = compute_mean_ranks (ysing[:,i])\n",
    "    rbar_rank[:,i] = compute_mean_ranks (np.nanmean (Rmats[:,:,i], axis=0))\n",
    "    lig_rank[:,i]  = compute_mean_ranks (lsing[:,i])\n",
    "    ligbar_rank[:,i] = compute_mean_ranks (np.nanmean (Rlmats[:,:,i], axis=0))\n",
    "\n",
    "    \n",
    "# residuals    \n",
    "residuals     = rbar_rank - y_rank\n",
    "lig_residuals = ligbar_rank - lig_rank"
   ]
  },
  {
   "cell_type": "code",
   "execution_count": 15,
   "id": "f3aba409",
   "metadata": {},
   "outputs": [
    {
     "name": "stdout",
     "output_type": "stream",
     "text": [
      "0.9851458755654744\n",
      "0.9823758267232098\n",
      "0.9876064645040767\n",
      "0.9777815960447931\n",
      "0.9872124137195167\n",
      "0.9812706564217838\n"
     ]
    }
   ],
   "source": [
    "for i in range (nreps) :\n",
    "    cor_i = scipy.stats.spearmanr (y_rank[:,i], rbar_rank[:,i], nan_policy='omit').statistic\n",
    "    print (cor_i)\n",
    "    cor_i = scipy.stats.spearmanr (lig_rank[:,i], ligbar_rank[:,i], nan_policy='omit').statistic\n",
    "    print (cor_i)"
   ]
  },
  {
   "cell_type": "code",
   "execution_count": 16,
   "id": "d2160a81",
   "metadata": {},
   "outputs": [],
   "source": [
    "plt.rcParams[\"figure.figsize\"] = (1.25, 1.25)\n",
    "\n",
    "\n",
    "for pi in range (3) :\n",
    "    if pi == 0 :\n",
    "        Pfoc = cp.deepcopy (Ptwo)\n",
    "    if pi == 1 :\n",
    "        Pfoc = cp.deepcopy (Pvals)\n",
    "    if pi == 2 :\n",
    "        Pfoc = cp.deepcopy (Pmochi)\n",
    "        Dcp = cp.deepcopy (Resmochi)\n",
    "            \n",
    "    if pi in [0,1] :\n",
    "        p_thres = [alpha]*3\n",
    "        Dcp = cp.deepcopy (Dsyms)\n",
    "        \n",
    "    D_sub = cp.deepcopy (Dcp[ji*nAA:(ji*nAA + nAA), :][:,fi*nAA:(fi*nAA + nAA)])\n",
    "        \n",
    "\n",
    "    fig, axs = plt.subplots (3,1, sharex=True, sharey=True)\n",
    "\n",
    "    bins = np.linspace ( np.nanmin (D_sub), np.nanmax (D_sub), 20)\n",
    "    for i in range (nreps) :\n",
    "        hist_i = axs[i].hist ( np.ndarray.flatten (D_sub[:,:,i]), bins=bins,\n",
    "                               color='gray', edgecolor='black', linewidth=.1)\n",
    "\n",
    "\n",
    "        axs[i].axvline (0, linestyle='dashed', color='orange', linewidth=1)\n",
    "    \n",
    "    axs[1].set_ylabel ('Count')\n",
    "    axs[-1].set_xlabel ([r'$\\hat D_{ij}$',r'$\\hat D_{ij}$','Mochi residual'][pi] )\n",
    "    \n",
    "    for i in range (nreps) :\n",
    "        axs[i].yaxis.set_label_position(\"right\")\n",
    "        axs[i].set_ylabel ('Rep ' + str (i), rotation=270, labelpad=8, fontsize=6)\n",
    "    \n",
    "    if save :\n",
    "        plt.savefig (os.path.join (outdir, str (fi+1) + '_' + str (ji+1) + '_ep_hists_' + ['two', 'one', 'mochi'][pi] + '.pdf'),\n",
    "                     format='pdf', bbox_inches='tight', transparent=True, dpi=600)\n",
    "        plt.close ()\n",
    "    else :\n",
    "        plt.show ()"
   ]
  },
  {
   "cell_type": "code",
   "execution_count": 17,
   "id": "89fd9e19",
   "metadata": {},
   "outputs": [
    {
     "name": "stdout",
     "output_type": "stream",
     "text": [
      "(21, 21, 3)\n",
      "(21, 21, 3)\n",
      "0.05\n",
      "34\n",
      "34\n",
      "38\n",
      "38\n",
      "27\n",
      "27\n"
     ]
    }
   ],
   "source": [
    "# print number of positive tests\n",
    "D_sub = cp.deepcopy (Dcp[ji*nAA:(ji*nAA + nAA), :][:,fi*nAA:(fi*nAA + nAA)])\n",
    "P_sub = cp.deepcopy (Pvals[ji*nAA:(ji*nAA + nAA), :][:,fi*nAA:(fi*nAA + nAA)])\n",
    "print (D_sub.shape)\n",
    "print (P_sub.shape)\n",
    "\n",
    "print (alpha)\n",
    "for i in range (nreps) :\n",
    "    print (np.sum (P_sub[:,:,i] < alpha))\n",
    "    print (np.sum (np.logical_and (D_sub[:,:,i] > 0, P_sub[:,:,i] < alpha)))"
   ]
  },
  {
   "cell_type": "code",
   "execution_count": 18,
   "id": "11a960c0",
   "metadata": {},
   "outputs": [],
   "source": [
    " # now compute power and false positives\n",
    "ys = cp.deepcopy (ysing[:,0])\n",
    "ls = cp.deepcopy (lsing[:,0])\n",
    "ybinsize = 50\n",
    "lbinsize = 50\n",
    "    \n",
    "nys   = np.sum (~np.isnan (ys))\n",
    "ybins = np.linspace (0, nys, int (nys / ybinsize))\n",
    "nls = np.sum (~np.isnan (ls))\n",
    "lbins = np.linspace (0, nls, int (nls / lbinsize))"
   ]
  },
  {
   "cell_type": "code",
   "execution_count": 19,
   "id": "e664cfd0",
   "metadata": {
    "scrolled": false
   },
   "outputs": [
    {
     "name": "stdout",
     "output_type": "stream",
     "text": [
      "[0.000999 0.000999 0.000999]\n",
      "[ -9.73984379 -10.10199024  -7.4409343 ]\n"
     ]
    },
    {
     "name": "stderr",
     "output_type": "stream",
     "text": [
      "/var/folders/38/f4j79l017855c4b93219m3bh0000gp/T/ipykernel_4126/1176525793.py:72: RuntimeWarning: invalid value encountered in divide\n",
      "  myp = axs[2].imshow (np.nanmean (Sign / Nsig, axis=2), cmap='Spectral', vmin=-1, vmax=1)\n",
      "/var/folders/38/f4j79l017855c4b93219m3bh0000gp/T/ipykernel_4126/1176525793.py:72: RuntimeWarning: Mean of empty slice\n",
      "  myp = axs[2].imshow (np.nanmean (Sign / Nsig, axis=2), cmap='Spectral', vmin=-1, vmax=1)\n",
      "/var/folders/38/f4j79l017855c4b93219m3bh0000gp/T/ipykernel_4126/1176525793.py:83: RuntimeWarning: invalid value encountered in divide\n",
      "  Cow = np.nanmean (Sign / Nsig, axis=2)\n",
      "/var/folders/38/f4j79l017855c4b93219m3bh0000gp/T/ipykernel_4126/1176525793.py:83: RuntimeWarning: Mean of empty slice\n",
      "  Cow = np.nanmean (Sign / Nsig, axis=2)\n"
     ]
    },
    {
     "name": "stdout",
     "output_type": "stream",
     "text": [
      "[0.18381618 0.41558442 0.25174825]\n",
      "[-2.03904284 -1.77540844 -1.63816092]\n"
     ]
    },
    {
     "name": "stderr",
     "output_type": "stream",
     "text": [
      "/var/folders/38/f4j79l017855c4b93219m3bh0000gp/T/ipykernel_4126/1176525793.py:72: RuntimeWarning: invalid value encountered in divide\n",
      "  myp = axs[2].imshow (np.nanmean (Sign / Nsig, axis=2), cmap='Spectral', vmin=-1, vmax=1)\n",
      "/var/folders/38/f4j79l017855c4b93219m3bh0000gp/T/ipykernel_4126/1176525793.py:72: RuntimeWarning: Mean of empty slice\n",
      "  myp = axs[2].imshow (np.nanmean (Sign / Nsig, axis=2), cmap='Spectral', vmin=-1, vmax=1)\n",
      "/var/folders/38/f4j79l017855c4b93219m3bh0000gp/T/ipykernel_4126/1176525793.py:83: RuntimeWarning: invalid value encountered in divide\n",
      "  Cow = np.nanmean (Sign / Nsig, axis=2)\n",
      "/var/folders/38/f4j79l017855c4b93219m3bh0000gp/T/ipykernel_4126/1176525793.py:83: RuntimeWarning: Mean of empty slice\n",
      "  Cow = np.nanmean (Sign / Nsig, axis=2)\n"
     ]
    },
    {
     "name": "stdout",
     "output_type": "stream",
     "text": [
      "[0.98401598 0.86213786 0.98901099]\n",
      "[-2.57358492 -2.76477769 -1.88490227]\n"
     ]
    },
    {
     "name": "stderr",
     "output_type": "stream",
     "text": [
      "/var/folders/38/f4j79l017855c4b93219m3bh0000gp/T/ipykernel_4126/1176525793.py:72: RuntimeWarning: invalid value encountered in divide\n",
      "  myp = axs[2].imshow (np.nanmean (Sign / Nsig, axis=2), cmap='Spectral', vmin=-1, vmax=1)\n",
      "/var/folders/38/f4j79l017855c4b93219m3bh0000gp/T/ipykernel_4126/1176525793.py:72: RuntimeWarning: Mean of empty slice\n",
      "  myp = axs[2].imshow (np.nanmean (Sign / Nsig, axis=2), cmap='Spectral', vmin=-1, vmax=1)\n",
      "/var/folders/38/f4j79l017855c4b93219m3bh0000gp/T/ipykernel_4126/1176525793.py:83: RuntimeWarning: invalid value encountered in divide\n",
      "  Cow = np.nanmean (Sign / Nsig, axis=2)\n",
      "/var/folders/38/f4j79l017855c4b93219m3bh0000gp/T/ipykernel_4126/1176525793.py:83: RuntimeWarning: Mean of empty slice\n",
      "  Cow = np.nanmean (Sign / Nsig, axis=2)\n"
     ]
    }
   ],
   "source": [
    "# spectral color map\n",
    "spec = mpl.colormaps['Spectral']\n",
    "norm = plt.Normalize(-1,1)\n",
    "\n",
    "for pi in range (3) :\n",
    "    if pi == 0 :\n",
    "        Pfoc = cp.deepcopy (Ptwo)\n",
    "        p_thres = [alpha]*3\n",
    "    if pi == 1 :\n",
    "        Pfoc = cp.deepcopy (Pvals)\n",
    "        p_thres = [alpha]*3\n",
    "    if pi == 2 :\n",
    "        Pfoc = cp.deepcopy (Pmochi)\n",
    "        p_thres = mochi_thresholds\n",
    "\n",
    "    Power = np.zeros ( (len (lbins) - 1, len (ybins) - 1, nreps) )\n",
    "    Nsig  = np.zeros_like (Power)\n",
    "    Sign  = np.zeros_like (Power)\n",
    "    Npos  = np.zeros_like (Power)\n",
    "\n",
    "    for k in range (nreps) :\n",
    "        for i in range (nAA) :\n",
    "            bi = np.argmin (y_rank[fi*nAA + i,k] - ybins > 0) -1\n",
    "            for j in range (nAA) :\n",
    "                li = np.argmin (lig_rank[ji*nAA + j,k] - lbins > 0) -1\n",
    "\n",
    "                if ~np.isnan (Pfoc[ji*nAA + j,fi*nAA + i,k]) :\n",
    "                    Power[bi,li,k] += 1\n",
    "                if Pfoc[ji*nAA + j,fi*nAA + i,k] <= p_thres[k] :\n",
    "                    Sign[bi,li,k] += (2*(Dsyms[ji*nAA + j,fi*nAA + i, k] > 0) - 1)\n",
    "                    Nsig[bi,li,k] += 1\n",
    "                    Npos[bi,li,k] += (Dsyms[ji*nAA + j,fi*nAA + i, k] > 0) \n",
    "\n",
    "    SignAll = np.zeros_like (Power)\n",
    "    SigAll  = np.zeros_like (Power)\n",
    "    for k in range (nreps) :\n",
    "        for i in range (L) :\n",
    "            if ~np.isnan (y_rank[i,k]) :\n",
    "                bi = np.argmin (y_rank[i,k]+1 - ybins > 0)-1\n",
    "            for j in range (L) :\n",
    "                if ~np.isnan (lig_rank[j,k]) :\n",
    "                    li = np.argmin (lig_rank[j,k]+1 - lbins > 0)-1\n",
    "\n",
    "                    if np.logical_and (~np.isnan (Pfoc[j,i,k]), Pfoc[j,i,k] <= p_thres[k]) :\n",
    "                        SignAll[bi,li,k] += (2*(Dsyms[j,i,k] > 0) - 1)\n",
    "                        SigAll[bi,li,k]  += 1\n",
    "                        \n",
    "    \n",
    "    # test for significance\n",
    "    logprob = np.zeros (nreps)\n",
    "    pprobs  = np.zeros (nreps)\n",
    "    for r in range (nreps) :\n",
    "        logprob[r], pprobs[r] = compute_log_prob (Sign[:,:,r], Nsig[:,:,r], SignAll[:,:,r], SigAll[:,:,r])\n",
    "    print (pprobs)\n",
    "    print (logprob)\n",
    "    \n",
    "    plt.rcParams[\"figure.figsize\"] = (4, 3)\n",
    "\n",
    "    fig, axs = plt.subplots (1, 4, sharex=True, sharey=True)\n",
    "\n",
    "    myp = axs[0].imshow (np.nanmean (Power, axis=2), cmap='gray_r')\n",
    "    axs[0].set_ylabel ('Fos bin', labelpad=0)\n",
    "    cbar = fig.colorbar (myp, ax=axs[0], location='top', shrink=0.75, aspect=10 )\n",
    "    cbar.set_label ('# observ.', size=6, labelpad=2)\n",
    "    cbar.ax.tick_params (labelsize=6, length=3, pad=-.5)\n",
    "\n",
    "    myp = axs[1].imshow (np.nanmean (Nsig, axis=2), cmap='rocket_r')\n",
    "    cbar = fig.colorbar (myp, ax=axs[1], location='top', shrink=0.75, aspect=10)\n",
    "    cbar.set_label (r'# signif.', size=6, labelpad=2)\n",
    "    cbar.ax.tick_params (labelsize=6, length=3, pad=-.5)\n",
    "\n",
    "    myp = axs[2].imshow (np.nanmean (Sign / Nsig, axis=2), cmap='Spectral', vmin=-1, vmax=1)\n",
    "    cbar = fig.colorbar (myp, ax=axs[2], location='top', shrink=0.75, aspect=10)\n",
    "    cbar.set_label ( r'avg. sign $\\hat D_{ij}$', size=6, labelpad=2)\n",
    "    cbar.ax.tick_params (labelsize=6, length=3, pad=-.5)\n",
    "\n",
    "    myp = axs[3].imshow (np.nanmean (SignAll / SigAll, axis=2), cmap='Spectral', vmin=-1, vmax=1)\n",
    "    axs[3].set_xlabel ('Jun bin', labelpad=0)\n",
    "    cbar = fig.colorbar (myp, ax=axs[3], location='top', shrink=0.75, aspect=10)\n",
    "    cbar.set_label ( r'avg. sign $\\hat D_{ij}$', size=6, labelpad=2)\n",
    "    cbar.ax.tick_params (labelsize=6, length=3, pad=-.5)\n",
    "    \n",
    "    Cow = np.nanmean (Sign / Nsig, axis=2)\n",
    "    x, y = np.where (~np.isnan (Cow))\n",
    "    for i in range (len (x)) : \n",
    "        axs[3].scatter (y[i], x[i], color=spec( norm (Cow[x[i], y[i]])),\n",
    "                        edgecolor='black', linewidth=.05,\n",
    "                        s=np.nanmean (Nsig, axis=2)[x[i], y[i]])\n",
    "        \n",
    "    for i in range (4) :\n",
    "        axs[i].set_xticks (np.arange (0, len (lbins), 5),\n",
    "                           np.array (np.arange (0, len (lbins), 5), dtype=int),\n",
    "                           fontsize=6)\n",
    "        axs[i].set_yticks (np.arange (0, len (lbins), 5),\n",
    "                           np.array (np.arange (0, len (lbins), 5), dtype=int),\n",
    "                           fontsize=6)\n",
    "        axs[i].tick_params (length=2)\n",
    "        axs[i].yaxis.set_tick_params (pad=1)\n",
    "        axs[i].set_xlabel ('Jun bin', labelpad=0)\n",
    "\n",
    "    if save :\n",
    "        plt.savefig (os.path.join (outdir, str (fi+1) + '_' + str (ji+1) + '_negative_ep_' + ['two', 'one', 'mochi'][pi] + '.pdf'),\n",
    "                     format='pdf', bbox_inches='tight', transparent=True, dpi=600)\n",
    "        plt.close ()\n",
    "    else :\n",
    "        plt.show ()"
   ]
  },
  {
   "cell_type": "code",
   "execution_count": 20,
   "id": "4b3ef16e",
   "metadata": {},
   "outputs": [
    {
     "name": "stdout",
     "output_type": "stream",
     "text": [
      "(672, 672, 3)\n"
     ]
    },
    {
     "name": "stderr",
     "output_type": "stream",
     "text": [
      "/var/folders/38/f4j79l017855c4b93219m3bh0000gp/T/ipykernel_4126/1784802396.py:12: RuntimeWarning: Mean of empty slice\n",
      "  hm     = axs.scatter (compute_mean_ranks (np.nanmean (y_rank, axis=1)),\n",
      "/var/folders/38/f4j79l017855c4b93219m3bh0000gp/T/ipykernel_4126/1784802396.py:13: RuntimeWarning: Mean of empty slice\n",
      "  np.nanmean (rbar_rank, axis=1),\n",
      "/var/folders/38/f4j79l017855c4b93219m3bh0000gp/T/ipykernel_4126/1784802396.py:14: RuntimeWarning: Mean of empty slice\n",
      "  c=np.nanmean (np.nanmean (Dsign, axis=2), axis=0),\n"
     ]
    }
   ],
   "source": [
    "# sign matrix\n",
    "Dsign = cp.deepcopy (Dsyms)\n",
    "Dsign[Dsyms > 0] = 1\n",
    "Dsign[Dsyms < 0] = -1\n",
    "print (Dsign.shape)\n",
    "\n",
    "plt.rcParams[\"figure.figsize\"] = (1, 1)\n",
    "\n",
    "fig, axs = plt.subplots ()\n",
    "\n",
    "maxval = np.nanmax (y_rank)\n",
    "hm     = axs.scatter (compute_mean_ranks (np.nanmean (y_rank, axis=1)),\n",
    "                      np.nanmean (rbar_rank, axis=1),\n",
    "                      c=np.nanmean (np.nanmean (Dsign, axis=2), axis=0),\n",
    "                      cmap='Spectral', vmin=-1, vmax=1, s=5,\n",
    "                      edgecolor='black', linewidth=0.05)\n",
    "\n",
    "axs.set_xticks ( np.arange (0, maxval, 200),\n",
    "                   np.array (np.arange (0, maxval, 200), dtype=int),\n",
    "                   fontsize=6)\n",
    "axs.set_yticks ( np.arange (0, maxval, 200),\n",
    "                    np.array (np.arange (0, maxval, 200), dtype=int),\n",
    "                    fontsize=6)\n",
    "\n",
    "axs.plot (np.linspace (0, maxval, 400), np.linspace (0, maxval, 400),\n",
    "             color='black', linestyle='dashed', linewidth=.5)\n",
    "axs.set_xlabel (r'$\\bar R_i^{fos}$', labelpad=0, fontsize=7)\n",
    "axs.tick_params (length=2, pad=1)\n",
    "axs.yaxis.set_tick_params (pad=2)\n",
    "\n",
    "axs.set_ylabel (r'Rank of $\\bar R_{\\cdot,i}$', labelpad=0, fontsize=7)\n",
    "\n",
    "if save :\n",
    "    plt.savefig (os.path.join (outdir, 'fos_rank.svg'),\n",
    "                 format='svg', bbox_inches='tight', dpi=600, transparent=True)\n",
    "    plt.close ()\n",
    "else :\n",
    "    plt.show ()"
   ]
  },
  {
   "cell_type": "code",
   "execution_count": 21,
   "id": "2101c24c",
   "metadata": {},
   "outputs": [
    {
     "name": "stderr",
     "output_type": "stream",
     "text": [
      "/var/folders/38/f4j79l017855c4b93219m3bh0000gp/T/ipykernel_4126/1867269930.py:6: RuntimeWarning: Mean of empty slice\n",
      "  hm = axs[0].scatter (compute_mean_ranks (np.nanmean (y_rank, axis=1)),\n",
      "/var/folders/38/f4j79l017855c4b93219m3bh0000gp/T/ipykernel_4126/1867269930.py:7: RuntimeWarning: Mean of empty slice\n",
      "  np.nanmean (rbar_rank, axis=1),\n",
      "/var/folders/38/f4j79l017855c4b93219m3bh0000gp/T/ipykernel_4126/1867269930.py:8: RuntimeWarning: Mean of empty slice\n",
      "  c=np.nanmean (np.nanmean (Dsign, axis=2), axis=0),\n",
      "/var/folders/38/f4j79l017855c4b93219m3bh0000gp/T/ipykernel_4126/1867269930.py:11: RuntimeWarning: Mean of empty slice\n",
      "  axs[1].scatter (compute_mean_ranks (np.nanmean (lig_rank, axis=1)),\n",
      "/var/folders/38/f4j79l017855c4b93219m3bh0000gp/T/ipykernel_4126/1867269930.py:12: RuntimeWarning: Mean of empty slice\n",
      "  np.nanmean (ligbar_rank, axis=1),\n",
      "/var/folders/38/f4j79l017855c4b93219m3bh0000gp/T/ipykernel_4126/1867269930.py:13: RuntimeWarning: Mean of empty slice\n",
      "  c=np.nanmean (np.nanmean (Dsign, axis=2), axis=1),\n"
     ]
    }
   ],
   "source": [
    "plt.rcParams[\"figure.figsize\"] = (3, 1.25)\n",
    "\n",
    "fig, axs = plt.subplots (1,2, sharex=True, sharey=True, constrained_layout=True)\n",
    "\n",
    "maxval = np.nanmax ( [np.nanmax (y_rank), np.nanmax (lig_rank)])\n",
    "hm = axs[0].scatter (compute_mean_ranks (np.nanmean (y_rank, axis=1)),\n",
    "                     np.nanmean (rbar_rank, axis=1),\n",
    "                     c=np.nanmean (np.nanmean (Dsign, axis=2), axis=0),\n",
    "                     cmap='Spectral', vmin=-1, vmax=1, s=5,\n",
    "                     edgecolor='black', linewidth=0.01) #vmin=minread, vmax=maxread)\n",
    "axs[1].scatter (compute_mean_ranks (np.nanmean (lig_rank, axis=1)),\n",
    "                np.nanmean (ligbar_rank, axis=1),\n",
    "                c=np.nanmean (np.nanmean (Dsign, axis=2), axis=1),\n",
    "                     cmap='Spectral', vmin=-1, vmax=1, s=5,\n",
    "                     edgecolor='black', linewidth=0.01) \n",
    "cbar = fig.colorbar (hm, ax=axs[1], )\n",
    "cbar.ax.tick_params (labelsize=6)\n",
    "cbar.set_label (label=r'$\\bar{sign}(\\bar D_{ij})$', size=6)\n",
    "\n",
    "for i in range (2) :\n",
    "    axs[i].set_xticks ( np.arange (0, maxval, 250),\n",
    "                       np.array (np.arange (0, maxval, 250), dtype=int),\n",
    "                       fontsize=6)\n",
    "    axs[i].set_yticks ( np.arange (0, maxval, 250),\n",
    "                        np.array (np.arange (0, maxval, 250), dtype=int),\n",
    "                        fontsize=6)\n",
    "\n",
    "    axs[i].plot (np.linspace (0, maxval, 400), np.linspace (0, maxval, 400),\n",
    "                 color='black', linestyle='dashed', linewidth=.5)\n",
    "    axs[i].annotate ('block ' + str (i+1), (25,720))\n",
    "    axs[i].set_xlabel ([r'$\\bar R_i^{fos}$', r'$\\bar R_i^{jun}$'][i], labelpad=0, fontsize=6)\n",
    "    axs[i].tick_params (length=2)\n",
    "    axs[i].yaxis.set_tick_params (pad=2)\n",
    "\n",
    "axs[0].set_ylabel (r'$R[\\bar R_{\\cdot,i}]$', labelpad=0, fontsize=6)\n",
    "\n",
    "if save :\n",
    "    plt.savefig (os.path.join (outdir, 'single_cor.pdf'), bbox_inches='tight', dpi=600)\n",
    "    plt.close ()\n",
    "else :\n",
    "    plt.show ()"
   ]
  },
  {
   "cell_type": "code",
   "execution_count": 22,
   "id": "ba83c6c8",
   "metadata": {},
   "outputs": [
    {
     "name": "stdout",
     "output_type": "stream",
     "text": [
      "SignificanceResult(statistic=0.9851458755654744, pvalue=0.0)\n",
      "SignificanceResult(statistic=0.9876064645040767, pvalue=0.0)\n",
      "SignificanceResult(statistic=0.9872124137195167, pvalue=0.0)\n",
      "0.9866549179296893\n"
     ]
    }
   ],
   "source": [
    "rhos = np.zeros (nreps)\n",
    "for i in range (nreps) :\n",
    "    print (scipy.stats.spearmanr (rbar_rank[:,i], ysing[:,i], nan_policy='omit'))\n",
    "    rhos[i] = scipy.stats.spearmanr (rbar_rank[:,i], ysing[:,i], nan_policy='omit').statistic\n",
    "\n",
    "print (np.mean (rhos))"
   ]
  },
  {
   "cell_type": "code",
   "execution_count": null,
   "id": "e25b313b",
   "metadata": {},
   "outputs": [],
   "source": []
  },
  {
   "cell_type": "code",
   "execution_count": 23,
   "id": "01c6328c",
   "metadata": {},
   "outputs": [
    {
     "name": "stdout",
     "output_type": "stream",
     "text": [
      "1005.7\n",
      "945.35625\n",
      "1310.1\n",
      "1231.5984375\n",
      "1103.55\n",
      "1044.0297339593114\n",
      "873.7\n",
      "857.290625\n",
      "1144.3\n",
      "1123.696875\n",
      "967.05\n",
      "951.9890625\n"
     ]
    }
   ],
   "source": [
    "plt.rcParams[\"figure.figsize\"] = (4, 1.75)\n",
    "\n",
    "fig, axs = plt.subplots (1, 2, sharex=True, sharey=True, constrained_layout=True)\n",
    "\n",
    "myp = axs[0].hexbin (np.ndarray.flatten (n0_sing),\n",
    "               np.ndarray.flatten (residuals), xscale='log', cmap='gray_r', gridsize=20)\n",
    "\n",
    "for i in range (nreps) :\n",
    "    axs[0].scatter (n0_sing[7*nAA:(7*nAA + nAA),i], residuals[7*nAA:(7*nAA + nAA),i],\n",
    "                    color='darkorange', s=2, linewidth=0.05,\n",
    "                    label='T8 FOS', alpha=.75)\n",
    "    print (np.nanmean (n0_sing[7*nAA:(7*nAA + nAA),i]))\n",
    "    print (np.nanmean (n0_sing[:,i]))\n",
    "fig.colorbar (myp, ax=axs[0], shrink=.75, label='Count')\n",
    "axs[0].set_ylabel ('Residuals')\n",
    "axs[0].annotate ('T8 Fos', (20, 200), color='darkorange')\n",
    "\n",
    "myp = axs[1].hexbin (np.ndarray.flatten (n0_cript),\n",
    "                     np.ndarray.flatten (lig_residuals), xscale='log', cmap='gray_r', gridsize=20)\n",
    "for i in range (nreps) :\n",
    "    axs[1].scatter (n0_cript[7*nAA:(7*nAA + nAA),i], lig_residuals[7*nAA:(7*nAA + nAA),i],\n",
    "                    color='dodgerblue', s=2, linewidth=0.05,\n",
    "                    label='T8 FOS', alpha=.75)\n",
    "    print (np.nanmean (n0_cript[7*nAA:(7*nAA + nAA),i]))\n",
    "    print (np.nanmean (n0_cript[:,i]))\n",
    "fig.colorbar (myp, ax=axs[1], shrink=.75, label='Count')\n",
    "axs[1].annotate ('V8 Jun', (20, 200), color='dodgerblue')\n",
    "\n",
    "axs[0].set_yticks (np.arange (-100,250,100),np.arange (-100,250,100))\n",
    "\n",
    "\n",
    "for i in range (2) :\n",
    "    axs[i].set_xlabel (r'$\\hat N_{i}^0$', labelpad=0)\n",
    "    axs[i].tick_params (length=2)\n",
    "\n",
    "if save :\n",
    "    plt.savefig (os.path.join (outdir, 'single_residual_depth.pdf'),\n",
    "                 bbox_inches='tight', dpi=600, transparent=True)\n",
    "    plt.close ()\n",
    "else :\n",
    "    plt.show ()"
   ]
  },
  {
   "cell_type": "code",
   "execution_count": 24,
   "id": "9926073f",
   "metadata": {},
   "outputs": [],
   "source": [
    "plt.rcParams[\"figure.figsize\"] = (5.5, 2.75)\n",
    "\n",
    "fig, axs = plt.subplots (1, 2, sharex=True, sharey=True, constrained_layout=True)\n",
    "\n",
    "minval = np.nanmin ([np.nanmin (ysing), np.nanmin (lsing)])\n",
    "maxval = np.nanmax ([np.nanmax (ysing), np.nanmax (lsing)])\n",
    "\n",
    "\n",
    "hm = axs[0].scatter (n0_sing, residuals, c=ysing,\n",
    "             cmap='gray', norm=mpl.colors.LogNorm (vmin=minval, vmax=maxval), \n",
    "             edgecolor='black', linewidth=0.01, s=10)\n",
    "axs[1].scatter (n0_cript, lig_residuals, c=lsing,\n",
    "             cmap='gray', norm=mpl.colors.LogNorm (vmin=minval, vmax=maxval),\n",
    "             edgecolor='black', linewidth=0.01, s=10)\n",
    "fig.colorbar (hm, ax=axs[1], label=r'$\\hat Y_{i}$')\n",
    "\n",
    "for i in range (2) :\n",
    "    axs[i].set_xscale ('log')\n",
    "    axs[i].set_xlabel (r'$\\hat N_i^0$')\n",
    "    \n",
    "axs[0].set_title ('FOS')\n",
    "axs[1].set_title ('JUN')\n",
    "\n",
    "axs[0].set_ylabel ('Residual')\n",
    "\n",
    "if save :\n",
    "    plt.savefig (os.path.join (outdir, 'single_residual_depth_2.pdf'), bbox_inches='tight')\n",
    "    plt.close ()\n",
    "else :\n",
    "    plt.show ()"
   ]
  },
  {
   "cell_type": "code",
   "execution_count": 25,
   "id": "22b26edf",
   "metadata": {},
   "outputs": [
    {
     "name": "stderr",
     "output_type": "stream",
     "text": [
      "/var/folders/38/f4j79l017855c4b93219m3bh0000gp/T/ipykernel_4126/4136116595.py:4: RuntimeWarning: Mean of empty slice\n",
      "  Ymat = np.reshape (np.repeat (np.nanmean (ysing, axis=1), L), (L,L))\n",
      "/var/folders/38/f4j79l017855c4b93219m3bh0000gp/T/ipykernel_4126/4136116595.py:5: RuntimeWarning: Mean of empty slice\n",
      "  Ylmat = np.reshape (np.repeat (np.nanmean (lsing, axis=1), L), (L,L))\n",
      "/var/folders/38/f4j79l017855c4b93219m3bh0000gp/T/ipykernel_4126/4136116595.py:8: RuntimeWarning: Mean of empty slice\n",
      "  plt.scatter (Yij, np.nanmean (ydoub, axis=2), s=.5, c=np.nanmean (n0_doub, axis=2),\n"
     ]
    },
    {
     "data": {
      "image/png": "[encoded data removed]",
      "text/plain": [
       "<Figure size 250x200 with 2 Axes>"
      ]
     },
     "metadata": {},
     "output_type": "display_data"
    }
   ],
   "source": [
    "plt.rcParams[\"figure.figsize\"] = (2.5,2)\n",
    "\n",
    "# pretend additive\n",
    "Ymat = np.reshape (np.repeat (np.nanmean (ysing, axis=1), L), (L,L))\n",
    "Ylmat = np.reshape (np.repeat (np.nanmean (lsing, axis=1), L), (L,L))\n",
    "Yij  = Ylmat + np.transpose (Ymat)\n",
    "\n",
    "plt.scatter (Yij, np.nanmean (ydoub, axis=2), s=.5, c=np.nanmean (n0_doub, axis=2),\n",
    "             cmap='Spectral', norm=mpl.colors.LogNorm ())\n",
    "\n",
    "plt.colorbar ()\n",
    "plt.xscale ('log')\n",
    "plt.yscale ('log')\n",
    "plt.show ()"
   ]
  },
  {
   "cell_type": "code",
   "execution_count": 26,
   "id": "e5435c55",
   "metadata": {},
   "outputs": [
    {
     "data": {
      "image/png": "[encoded data removed]",
      "text/plain": [
       "<Figure size 200x200 with 1 Axes>"
      ]
     },
     "metadata": {},
     "output_type": "display_data"
    },
    {
     "data": {
      "image/png": "[encoded data removed]",
      "text/plain": [
       "<Figure size 200x200 with 1 Axes>"
      ]
     },
     "metadata": {},
     "output_type": "display_data"
    }
   ],
   "source": [
    "# find false positive rate as a function of number of reps signif\n",
    "nSignif = np.sum (Pvals <= alpha, axis=2)\n",
    "fp_rep  = np.zeros (nreps)\n",
    "tp_rep  = np.zeros (nreps)\n",
    "for i in range (1,nreps+1) :\n",
    "    fp_rep[i-1] = np.sum (np.logical_and (nSignif == i, np.transpose (bigDist) > 5)) / np.sum (bigDist > 5)\n",
    "    tp_rep[i-1] = np.sum (np.logical_and (nSignif >= i, np.transpose (bigDist) <= 5)) / np.sum (bigDist <= 5)\n",
    "\n",
    "plt.rcParams[\"figure.figsize\"] = (2,2)\n",
    "    \n",
    "plt.scatter (np.arange (1,nreps+1,1), fp_rep, s=100)\n",
    "plt.xlabel ('No. signif. $p$-values')\n",
    "plt.ylabel ('Pseudo f.p.r.')\n",
    "plt.show ()\n",
    "\n",
    "plt.scatter (np.arange (1,nreps+1,1), tp_rep, s=100)\n",
    "plt.xticks (np.arange (1,nreps+1,1), [r'$\\geq$' + str (i) for i in range (1,nreps+1)])\n",
    "plt.xlabel (r'No. signif. $p$-values')\n",
    "plt.ylabel ('Pseudo t.p.r.')\n",
    "plt.show ()"
   ]
  },
  {
   "cell_type": "code",
   "execution_count": 27,
   "id": "bdebeb61",
   "metadata": {},
   "outputs": [
    {
     "name": "stderr",
     "output_type": "stream",
     "text": [
      "/var/folders/38/f4j79l017855c4b93219m3bh0000gp/T/ipykernel_4126/4232974841.py:3: RuntimeWarning: Mean of empty slice\n",
      "  plt.scatter (np.nanmean (lig_rank, axis=1), np.sum (np.nanmean (n1_doub == 0, axis=2), axis=1), s=20)\n"
     ]
    },
    {
     "data": {
      "image/png": "[encoded data removed]",
      "text/plain": [
       "<Figure size 300x300 with 1 Axes>"
      ]
     },
     "metadata": {},
     "output_type": "display_data"
    }
   ],
   "source": [
    "plt.rcParams[\"figure.figsize\"] = (3, 3)\n",
    "\n",
    "plt.scatter (np.nanmean (lig_rank, axis=1), np.sum (np.nanmean (n1_doub == 0, axis=2), axis=1), s=20)\n",
    "plt.show ()"
   ]
  },
  {
   "cell_type": "code",
   "execution_count": 28,
   "id": "13725c5f",
   "metadata": {},
   "outputs": [
    {
     "name": "stdout",
     "output_type": "stream",
     "text": [
      "168242\n",
      "0.4107470703125\n",
      "1.0\n",
      "1.0\n",
      "\n",
      "183523\n",
      "0.44805419921875\n",
      "1.0\n",
      "1.0\n",
      "\n",
      "172865\n",
      "0.42203369140625\n",
      "0.9984375\n",
      "1.0\n",
      "\n"
     ]
    }
   ],
   "source": [
    "for r in range (nreps) :\n",
    "    print (np.sum (~np.isnan (n0_doub[:,:,r])))\n",
    "    print (np.sum (~np.isnan (n0_doub[:,:,r])) / (nlig * npos * (nAA - 1)**2))\n",
    "    print (np.sum (~np.isnan (n0_sing[:,r])) / (npos*(nAA-1)))\n",
    "    print (np.sum (~np.isnan (n0_cript[:,r])) / (nlig*(nAA-1)))\n",
    "    print ()"
   ]
  },
  {
   "cell_type": "code",
   "execution_count": 29,
   "id": "e1cc53cd",
   "metadata": {},
   "outputs": [
    {
     "data": {
      "text/plain": [
       "array([0.00361875, 0.00238989, 0.00300939])"
      ]
     },
     "execution_count": 29,
     "metadata": {},
     "output_type": "execute_result"
    }
   ],
   "source": [
    "mochi_thresholds"
   ]
  },
  {
   "cell_type": "code",
   "execution_count": null,
   "id": "672ce91b",
   "metadata": {},
   "outputs": [],
   "source": []
  },
  {
   "cell_type": "code",
   "execution_count": null,
   "id": "e605f738",
   "metadata": {},
   "outputs": [],
   "source": []
  }
 ],
 "metadata": {
  "kernelspec": {
   "display_name": "Python 3 (ipykernel)",
   "language": "python",
   "name": "python3"
  },
  "language_info": {
   "codemirror_mode": {
    "name": "ipython",
    "version": 3
   },
   "file_extension": ".py",
   "mimetype": "text/x-python",
   "name": "python",
   "nbconvert_exporter": "python",
   "pygments_lexer": "ipython3",
   "version": "3.11.4"
  }
 },
 "nbformat": 4,
 "nbformat_minor": 5
}
