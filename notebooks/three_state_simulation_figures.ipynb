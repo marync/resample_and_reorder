{
 "cells": [
  {
   "cell_type": "code",
   "execution_count": 1,
   "id": "17a696d1",
   "metadata": {},
   "outputs": [],
   "source": [
    "import os\n",
    "import sys\n",
    "import copy as cp\n",
    "\n",
    "import numpy as np\n",
    "import pandas\n",
    "import matplotlib.pyplot as plt\n",
    "import matplotlib as mpl\n",
    "import scipy.stats\n",
    "import seaborn\n",
    "\n",
    "from matplotlib.patches import Rectangle"
   ]
  },
  {
   "cell_type": "code",
   "execution_count": 2,
   "id": "fca2fd57",
   "metadata": {},
   "outputs": [],
   "source": [
    "# my code\n",
    "sys.path.insert(1, '../code/')\n",
    "\n",
    "from rank_functions import compute_transformed_Rmat, compute_mean_ranks\n",
    "from plot_functions import compute_enrichment, plot_enrichment"
   ]
  },
  {
   "cell_type": "code",
   "execution_count": 3,
   "id": "5d00db93",
   "metadata": {},
   "outputs": [],
   "source": [
    "# plotting settings\n",
    "plt.rcParams.update({'font.size': 8})\n",
    "plt.rcParams[\"font.family\"] = 'Arial'\n",
    "rc = {\"font.family\" : \"serif\", \n",
    "      \"mathtext.fontset\" : \"dejavusans\"}\n",
    "plt.rcParams.update(rc)\n",
    "plt.rcParams[\"font.serif\"] = [\"Arial\"] + plt.rcParams[\"font.serif\"]\n",
    "\n",
    "# color palettes\n",
    "mypinks    = seaborn.color_palette ('rocket', 10)\n",
    "mycolors   = seaborn.color_palette ('BrBG', 10)\n",
    "myspectral = seaborn.color_palette ('Spectral', 5)"
   ]
  },
  {
   "cell_type": "code",
   "execution_count": 4,
   "id": "691e94ce",
   "metadata": {},
   "outputs": [],
   "source": [
    "save = True"
   ]
  },
  {
   "cell_type": "code",
   "execution_count": 5,
   "id": "864d06e0",
   "metadata": {},
   "outputs": [],
   "source": [
    "alpha  = 0.05\n",
    "nAA    = 20\n",
    "protein = 'GB1'"
   ]
  },
  {
   "cell_type": "code",
   "execution_count": 6,
   "id": "c8886504",
   "metadata": {},
   "outputs": [],
   "source": [
    "# wild type energies\n",
    "gf_wt, gb_wt = (-7.305691319989728, 1.3351635652561282)\n",
    "\n",
    "# input directory\n",
    "indir  = '../results/simulations/threestate'\n",
    "\n",
    "outdir = os.path.join (indir, 'plots')\n",
    "if not os.path.isdir (outdir) :\n",
    "    os.makedirs (outdir)    \n",
    "    \n",
    "# files\n",
    "in_obs         = os.path.join (indir, 'sim_Y_doubles.txt')\n",
    "in_obs_singles = os.path.join (indir, 'sim_Y_singles.txt')\n",
    "in_energies    = os.path.join (indir, 'ordered_energies.txt')\n",
    "in_pvals       = os.path.join (indir, 'sim_P.txt')\n",
    "in_n0doub      = os.path.join (indir, 'sim_D_neutral.txt')\n",
    "in_Dmat        = os.path.join (indir, 'sim_Dmat.txt')"
   ]
  },
  {
   "cell_type": "code",
   "execution_count": 7,
   "id": "32df7e34",
   "metadata": {},
   "outputs": [],
   "source": [
    "# distance matrix\n",
    "Dist = np.loadtxt ('../data/GB1/GB1_distance_matrix.txt')\n",
    "Df   = Dist[1:,1:]\n",
    "\n",
    "# energies\n",
    "En = pandas.read_csv (in_energies, header=None, delimiter=' ').to_numpy ()"
   ]
  },
  {
   "cell_type": "code",
   "execution_count": 8,
   "id": "ebcdab52",
   "metadata": {},
   "outputs": [],
   "source": [
    "y_doubs = np.loadtxt (in_obs)\n",
    "y_sing  = np.loadtxt (in_obs_singles)\n",
    "p_vals  = np.loadtxt (in_pvals)\n",
    "n0doub  = np.loadtxt (in_n0doub)\n",
    "Dmat    = np.loadtxt (in_Dmat)"
   ]
  },
  {
   "cell_type": "code",
   "execution_count": 9,
   "id": "b9db5016",
   "metadata": {},
   "outputs": [],
   "source": [
    "L    = len (y_sing)\n",
    "npos = int (L / nAA)"
   ]
  },
  {
   "cell_type": "code",
   "execution_count": 10,
   "id": "06af5330",
   "metadata": {},
   "outputs": [
    {
     "name": "stdout",
     "output_type": "stream",
     "text": [
      "1044\n"
     ]
    },
    {
     "name": "stderr",
     "output_type": "stream",
     "text": [
      "/var/folders/38/f4j79l017855c4b93219m3bh0000gp/T/ipykernel_4546/766372002.py:7: RuntimeWarning: Mean of empty slice\n",
      "  residuals = compute_mean_ranks (np.nanmean (Rmat, axis=0)) - yrank\n"
     ]
    }
   ],
   "source": [
    "Mp = np.nansum (~np.isnan (y_sing)) - 1\n",
    "print (Mp)\n",
    "\n",
    "# compute rank matrix\n",
    "Rmat      = compute_transformed_Rmat (y_doubs, M=Mp)\n",
    "yrank     = compute_mean_ranks (y_sing)\n",
    "residuals = compute_mean_ranks (np.nanmean (Rmat, axis=0)) - yrank\n",
    "\n",
    "# symmetrize Dmat\n",
    "Dsym = Dmat + np.transpose (Dmat)"
   ]
  },
  {
   "cell_type": "code",
   "execution_count": 11,
   "id": "cca2d72e",
   "metadata": {},
   "outputs": [],
   "source": [
    "plt.rcParams[\"figure.figsize\"] = (2,1.5)\n",
    "\n",
    "# number of total hits = false positives\n",
    "false_positives = np.sum (p_vals < .1, axis=0) \n",
    "\n",
    "plt.scatter (En[:,0], residuals, c=false_positives, cmap='Blues', s=10, edgecolor='black', linewidth=0.01)\n",
    "plt.colorbar (shrink=0.75, label=r'# false pos.')\n",
    "plt.xlabel (r'$\\lambda_i^{fold}$ [simulated]')\n",
    "plt.ylabel ('Residual')\n",
    "\n",
    "if save :\n",
    "    plt.savefig (os.path.join (outdir, 'number_hits_folding.pdf'), bbox_inches='tight')\n",
    "    plt.close ()\n",
    "else :\n",
    "    plt.show ()"
   ]
  },
  {
   "cell_type": "code",
   "execution_count": 12,
   "id": "cedc692b",
   "metadata": {},
   "outputs": [],
   "source": [
    "plt.rcParams[\"figure.figsize\"] = (2,1.5)\n",
    "\n",
    "maxval = np.nanmax (np.abs (residuals))\n",
    "\n",
    "# wildtype line\n",
    "pwt = 1. / (1. + np.exp (gb_wt) * (1. + np.exp (gf_wt)))\n",
    "lambda_fs = np.linspace (np.nanmin (En[:,0]), np.nanmax (En[:,0]), 50)\n",
    "lambda_bs = -np.log ( (1 + np.exp (lambda_fs + gf_wt))) + np.log ( (1. / pwt) - 1. )\n",
    "\n",
    "# otwinowski energies\n",
    "plt.scatter (En[:,0] + gf_wt, En[:,1] + gb_wt,\n",
    "             s=(1 + false_positives/np.nanmean (false_positives))**1.5,\n",
    "             c=residuals, cmap=seaborn.diverging_palette (35, 250, as_cmap=True),\n",
    "             vmin=-maxval, vmax=maxval,\n",
    "             edgecolor='black', linewidth=0.01)\n",
    "plt.colorbar (shrink=0.75, label='Residuals', location='right')\n",
    "\n",
    "plt.scatter (gf_wt, gb_wt, label='wt',\n",
    "             marker='o', color='white', s=20, edgecolor='black', linewidth=.5, zorder=5)\n",
    "plt.plot (lambda_fs + gf_wt, lambda_bs, label=r'$Y_{wt}$',\n",
    "          linestyle='dashed', color='black', linewidth=.5)\n",
    "    \n",
    "plt.legend (frameon=False, loc='upper left', fontsize=6)\n",
    "plt.xlabel (r'$\\Lambda^{fold}$ [simulated]')\n",
    "plt.ylabel (r'$\\Lambda^{bind}$ [simulated]')\n",
    "\n",
    "if save :\n",
    "    plt.savefig ( os.path.join (outdir, 'otwinowksi_residuals.pdf'), bbox_inches='tight')\n",
    "    plt.close ()\n",
    "else :\n",
    "    plt.show ()\n"
   ]
  },
  {
   "cell_type": "code",
   "execution_count": 13,
   "id": "4332c20d",
   "metadata": {},
   "outputs": [],
   "source": [
    "# now just store sign\n",
    "Dsign = np.zeros_like (Dsym)\n",
    "Dsign[Dsym < 0] = -1\n",
    "Dsign[Dsym > 0] = 1\n",
    "Dsign[np.isnan (Dsym)] = np.nan\n",
    "\n",
    "# compute the average sign per pair\n",
    "avgSign = np.zeros ((npos, npos)) * np.nan\n",
    "for i in range (npos) :\n",
    "    for j in range (i+1,npos) :\n",
    "        avgSign[i,j] = avgSign[j,i] = np.nanmean (Dsign[i*nAA:(i*nAA + nAA),:][:,j*nAA:(j*nAA + nAA)])"
   ]
  },
  {
   "cell_type": "code",
   "execution_count": 14,
   "id": "c2fa32eb",
   "metadata": {},
   "outputs": [
    {
     "data": {
      "image/png": "[encoded data removed]",
      "text/plain": [
       "<Figure size 300x300 with 2 Axes>"
      ]
     },
     "metadata": {},
     "output_type": "display_data"
    }
   ],
   "source": [
    "plt.rcParams[\"figure.figsize\"] = (3,3)\n",
    "\n",
    "hm = plt.imshow (avgSign, cmap='Spectral', vmin=-1,vmax=1)\n",
    "plt.colorbar (shrink=0.5)\n",
    "plt.show ()"
   ]
  },
  {
   "cell_type": "code",
   "execution_count": 15,
   "id": "8354ec39",
   "metadata": {},
   "outputs": [],
   "source": [
    "# enrichment test\n",
    "Pb, Ptot = compute_enrichment (p_vals, .1, nAA=nAA, symmetric=True)\n",
    "    \n",
    "# FDR\n",
    "fdrps = scipy.stats.false_discovery_control ( Pb[np.triu_indices (npos, k=1)], method='bh' )\n",
    "thres = np.nanmax (Pb[np.triu_indices (npos, k=1)][fdrps < .1])\n",
    "\n",
    "# back to matrix\n",
    "FP = np.zeros_like (Pb)\n",
    "FP[np.triu_indices (npos, k=1)] = fdrps\n",
    "FP += np.transpose (FP)\n",
    "np.fill_diagonal (FP, np.nan)"
   ]
  },
  {
   "cell_type": "code",
   "execution_count": 16,
   "id": "e7d53bc9",
   "metadata": {},
   "outputs": [],
   "source": [
    "# BH procedure\n",
    "fdr_thres = 0.01\n",
    "\n",
    "# find contacts and nearby things\n",
    "C5 = np.zeros_like (Df)\n",
    "C8 = np.zeros_like (Df)\n",
    "\n",
    "C5[Df <= 5] = 1\n",
    "C8[np.logical_and (Df > 5, Df <= 8)] = 1\n",
    "\n",
    "# spectral color map\n",
    "spec = mpl.colormaps['Spectral']\n",
    "norm = plt.Normalize(-1, 1)"
   ]
  },
  {
   "cell_type": "code",
   "execution_count": 17,
   "id": "f22a16fa",
   "metadata": {},
   "outputs": [
    {
     "name": "stdout",
     "output_type": "stream",
     "text": [
      "28\n"
     ]
    }
   ],
   "source": [
    "# all simulated folding values for boxplot\n",
    "foldinglist = list ()\n",
    "mean_fold = np.zeros (npos)\n",
    "for i in range (npos) :\n",
    "    foldinglist.append (En[i*nAA:(i*nAA + nAA),0][~np.isnan (En[i*nAA:(i*nAA + nAA),0])])\n",
    "    mean_fold[i] = np.nanmean (En[i*nAA:(i*nAA + nAA)])\n",
    "\n",
    "\n",
    "# t-test for deviation of lambda values from bulk\n",
    "pvalues_lambda = np.zeros (npos)\n",
    "for i in range (npos) :\n",
    "    ddG_i = cp.deepcopy (En[:,0])\n",
    "    ddG_i[i*nAA:(i*nAA + nAA)] = np.nan\n",
    "    \n",
    "    all_gs = ddG_i[~np.isnan (ddG_i)]\n",
    "    vals_i = cp.deepcopy (En[i*nAA:(i*nAA + nAA),0])\n",
    "    \n",
    "    pvalues_lambda[i] = scipy.stats.ttest_ind (all_gs, vals_i[~np.isnan (vals_i)],\n",
    "                                               equal_var=False, alternative='greater').pvalue\n",
    "    \n",
    "# fdr\n",
    "fdr_lambda = scipy.stats.false_discovery_control (pvalues_lambda[~np.isnan (pvalues_lambda)])\n",
    "fdr_lambda_thres = np.nanmax (pvalues_lambda[~np.isnan (pvalues_lambda)][fdr_lambda < .1])\n",
    "print (np.sum (pvalues_lambda < fdr_lambda_thres))"
   ]
  },
  {
   "cell_type": "code",
   "execution_count": 18,
   "id": "d751e272",
   "metadata": {},
   "outputs": [],
   "source": [
    "xpos = np.arange (2,npos+2,1)\n",
    "\n",
    "plt.rcParams[\"figure.figsize\"] = (4,3)\n",
    "\n",
    "# set 0s to minimum value in Pb not equal to 0\n",
    "Pb_0 = cp.deepcopy (Pb)\n",
    "Pb_0[Pb == 0] = np.nanmin (Pb[Pb != 0])\n",
    "\n",
    "\n",
    "fig, axs = plt.subplots (1, 2, width_ratios=[3,1],\n",
    "                         sharey=False, constrained_layout=True)\n",
    "\n",
    "# create empty canvas\n",
    "Cnon = cp.deepcopy (C5)\n",
    "Cnon[~np.isnan (C5)] = np.nan\n",
    "axs[0].imshow (Cnon)\n",
    "\n",
    "# <8A\n",
    "x, y = np.where ( C8 == 1 )\n",
    "for i in range (len (x)) :\n",
    "    axs[0].add_patch( Rectangle((y[i]-.5, x[i]-.5), 1, 1, fill=True,\n",
    "                            color='lightgray', alpha=0.4, lw=.5))# label=r'$\\leq 5\\AA$')    \n",
    "# <5A\n",
    "x, y = np.where ( C5 == 1 )\n",
    "for i in range (len (x)) :\n",
    "    axs[0].add_patch( Rectangle((y[i]-.5, x[i]-.5), 1, 1, fill=True,\n",
    "                            color='lightgray', lw=.5))# label=r'$\\leq 5\\AA$')\n",
    "\n",
    "# fdr .1\n",
    "x, y = np.where (FP <= fdr_thres)\n",
    "for i in range (len (x)) :\n",
    "    x_i = x[i]\n",
    "    y_i = y[i]\n",
    "    axs[0].scatter (y_i, x_i, marker='o', edgecolor='black',\n",
    "                    linewidth=.2, color=spec( norm (avgSign[x_i, y_i])),\n",
    "                    s=(-np.log10 (Pb_0[x_i,y_i]))**(.75))\n",
    "\n",
    "# fdr .01\n",
    "x, y = np.where (np.logical_and (FP > fdr_thres, FP <= .1))\n",
    "for i in range (len (x)) :\n",
    "    x_i = x[i]\n",
    "    y_i = y[i]\n",
    "    axs[0].scatter (y_i, x_i, marker='o', color=spec( norm (avgSign[x_i, y_i])),\n",
    "                    linewidth=.2, s=(-np.log10 (Pb_0[x_i,y_i]))**(.75))\n",
    "\n",
    "# Create the figure\n",
    "ticklocs   = np.arange (3, npos+1, 5)\n",
    "axs[0].set_xticks (ticklocs, xpos[ticklocs], fontsize=6)\n",
    "axs[0].set_yticks (ticklocs, xpos[ticklocs], fontsize=6)\n",
    "axs[0].tick_params (length=2, labelsize=6, pad=1)\n",
    "\n",
    "axs[0].set_xlabel (protein + r' position $i$', labelpad=1 )\n",
    "axs[0].set_ylabel (protein + r' position $i$', labelpad=1 )\n",
    "\n",
    "bplot = axs[1].boxplot (list (reversed (foldinglist)), \n",
    "                        flierprops={'markersize': .25},\n",
    "                        boxprops={'linewidth': .25},  whiskerprops={'linewidth': .25},\n",
    "                        capprops={'linewidth': .25}, \n",
    "                        patch_artist=True, vert=False)\n",
    "axs[1].axvline (x=0, linestyle='--', color='gray', linewidth=.5, zorder=0)\n",
    "axs[1].set_yticks (np.flip (np.arange (2, npos+1, 5)), labels=xpos[np.arange (3,npos,5)],\n",
    "                   rotation=0, fontsize=6)\n",
    "axs[1].yaxis.tick_right()\n",
    "axs[1].yaxis.set_label_position(\"right\")\n",
    "axs[1].tick_params (length=2, labelsize=6, pad=1)\n",
    "\n",
    "\n",
    "colors = ['lightgray'] * len (foldinglist)\n",
    "for i in range (npos) :\n",
    "    if np.flip (pvalues_lambda)[i] < fdr_lambda_thres :\n",
    "        colors[i] = 'dimgray'\n",
    "# fill with colors\n",
    "for patch, color in zip(bplot['boxes'], colors):\n",
    "    patch.set_facecolor(color)\n",
    "    \n",
    "# Customize the median line\n",
    "for median in bplot['medians']:\n",
    "    median.set(color='black', linewidth=.25)\n",
    "\n",
    "axs[1].set_ylabel ('GB1 position $i$', labelpad=1)\n",
    "axs[1].set_xlabel (r'$\\lambda_i^{fold}$', labelpad=1)\n",
    "axs[1].set_position([.78, 0.089, 0.15, 0.8975]) \n",
    "\n",
    "if save :\n",
    "    plt.savefig (os.path.join (outdir, 'dij_improved.pdf'), bbox_inches='tight', transparent=True)\n",
    "    plt.close ()\n",
    "else :\n",
    "    plt.show ()"
   ]
  },
  {
   "cell_type": "code",
   "execution_count": null,
   "id": "c77de306",
   "metadata": {},
   "outputs": [],
   "source": []
  }
 ],
 "metadata": {
  "kernelspec": {
   "display_name": "Python 3 (ipykernel)",
   "language": "python",
   "name": "python3"
  },
  "language_info": {
   "codemirror_mode": {
    "name": "ipython",
    "version": 3
   },
   "file_extension": ".py",
   "mimetype": "text/x-python",
   "name": "python",
   "nbconvert_exporter": "python",
   "pygments_lexer": "ipython3",
   "version": "3.11.4"
  }
 },
 "nbformat": 4,
 "nbformat_minor": 5
}
